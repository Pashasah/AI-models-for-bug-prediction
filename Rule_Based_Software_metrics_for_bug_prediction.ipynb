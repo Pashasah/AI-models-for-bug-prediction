{
  "nbformat": 4,
  "nbformat_minor": 0,
  "metadata": {
    "colab": {
      "name": "Rule Based Software metrics for bug prediction.ipynb",
      "provenance": [],
      "toc_visible": true
    },
    "kernelspec": {
      "name": "python3",
      "display_name": "Python 3"
    },
    "language_info": {
      "name": "python"
    }
  },
  "cells": [
    {
      "cell_type": "markdown",
      "metadata": {
        "id": "JjOU5XR8HUoo"
      },
      "source": [
        "# Rule based approach for software fault detection\n",
        "- In this approach, software features or metrics are calculated and sets some threshold values to those metrics and checks whether the values are present in acceptable range for successful  project. \n",
        "-Otherwise, it needs to be redesign."
      ]
    },
    {
      "cell_type": "code",
      "metadata": {
        "colab": {
          "base_uri": "https://localhost:8080/"
        },
        "id": "4KejA8Q7H9uc",
        "outputId": "a2168cc7-6c65-4f81-8443-7010360d1501"
      },
      "source": [
        "pip install radon"
      ],
      "execution_count": 1,
      "outputs": [
        {
          "output_type": "stream",
          "text": [
            "Collecting radon\n",
            "\u001b[?25l  Downloading https://files.pythonhosted.org/packages/b3/30/53685bac034654656a096a87a52f5e77667b2bb8ab02bcc9ab3a844af802/radon-4.5.0-py2.py3-none-any.whl (51kB)\n",
            "\r\u001b[K     |██████▍                         | 10kB 15.0MB/s eta 0:00:01\r\u001b[K     |████████████▊                   | 20kB 21.1MB/s eta 0:00:01\r\u001b[K     |███████████████████▏            | 30kB 23.6MB/s eta 0:00:01\r\u001b[K     |█████████████████████████▌      | 40kB 26.0MB/s eta 0:00:01\r\u001b[K     |███████████████████████████████▉| 51kB 28.5MB/s eta 0:00:01\r\u001b[K     |████████████████████████████████| 61kB 5.0MB/s \n",
            "\u001b[?25hRequirement already satisfied: future in /usr/local/lib/python3.7/dist-packages (from radon) (0.16.0)\n",
            "Collecting mando<0.7,>=0.6\n",
            "  Downloading https://files.pythonhosted.org/packages/e6/cc/f6e25247c1493a654785e68cd975e479c311e99dafedd49ed17f8d300e0c/mando-0.6.4-py2.py3-none-any.whl\n",
            "Collecting colorama>=0.4.1; python_version > \"3.4\"\n",
            "  Downloading https://files.pythonhosted.org/packages/44/98/5b86278fbbf250d239ae0ecb724f8572af1c91f4a11edf4d36a206189440/colorama-0.4.4-py2.py3-none-any.whl\n",
            "Requirement already satisfied: six in /usr/local/lib/python3.7/dist-packages (from mando<0.7,>=0.6->radon) (1.15.0)\n",
            "Installing collected packages: mando, colorama, radon\n",
            "Successfully installed colorama-0.4.4 mando-0.6.4 radon-4.5.0\n"
          ],
          "name": "stdout"
        }
      ]
    },
    {
      "cell_type": "markdown",
      "metadata": {
        "id": "4t19_08tIDfd"
      },
      "source": [
        "#### Radon module is used to extract software featues. You can also use multimetric module"
      ]
    },
    {
      "cell_type": "markdown",
      "metadata": {
        "id": "IHkX5bReIUzV"
      },
      "source": [
        "## Threshold limits.\n",
        "From my research, I find that:<br>\n",
        "\n",
        "According to Halstead features,\n",
        "if a software is sucessful if its \n",
        "1. Halstead total operators + operands n  < 300\n",
        "2. Halstead Volume < 1000\n",
        "3. Halstead difficulty < 50 \n",
        "4. Halstead efforts < 500000\n",
        "5. Halstead time < 5000\n",
        "\n",
        "Otherwise, It needs to be redesign<br>\n",
        "<br>\n",
        "\n",
        "\n",
        "So, I apply rule based  approach to find software is succesful or need to be redesign."
      ]
    },
    {
      "cell_type": "code",
      "metadata": {
        "id": "BDFtmbJyG-ZS"
      },
      "source": [
        "def complexity(n,volume ,difficulty,efforts,time):    \n",
        "    evaluation = (n < 300) & (volume < 1000 ) & (difficulty < 50) & (efforts < 500000) & (time < 5000)\n",
        "    \n",
        "    return \"Successful\" if evaluation == True else \"Redesign\""
      ],
      "execution_count": 7,
      "outputs": []
    },
    {
      "cell_type": "markdown",
      "metadata": {
        "id": "9Cr1Rsm4Ch5z"
      },
      "source": [
        "<i><b> Here I upload two files f1.py,f2.py,f3.py in the current directory  for testing </b></i>"
      ]
    },
    {
      "cell_type": "code",
      "metadata": {
        "colab": {
          "base_uri": "https://localhost:8080/"
        },
        "id": "zUvaKrDcJ2ye",
        "outputId": "ee1f350d-626c-40ae-e0ce-2b9175e7cf63"
      },
      "source": [
        "ls"
      ],
      "execution_count": 12,
      "outputs": [
        {
          "output_type": "stream",
          "text": [
            "f1.py  f2.py  f3.py  sample_data/\n"
          ],
          "name": "stdout"
        }
      ]
    },
    {
      "cell_type": "code",
      "metadata": {
        "colab": {
          "base_uri": "https://localhost:8080/"
        },
        "id": "NiC2yt1XkDQR",
        "outputId": "31ef5ec4-3668-4d60-dcf7-3cf17146e790"
      },
      "source": [
        "from radon.raw import analyze\n",
        "from radon.metrics import *\n",
        "from radon.complexity import cc_visit\n",
        "from radon.cli.tools import iter_filenames\n",
        "\n",
        "module_features=[]\n",
        "\n",
        "\n",
        "file_name = []\n",
        "# iter through filenames starting from the current directory\n",
        "# you can pass ignore or exclude patterns here (as strings)\n",
        "# for example: ignore='tests,docs'\n",
        "for filename in iter_filenames(['.']):\n",
        "    with open(filename) as fobj:\n",
        "        source = fobj.read()\n",
        "    #printing code\n",
        "    \n",
        "\n",
        "    # get cc blocks\n",
        "    \n",
        "    # get MI score\n",
        "    #mi = mi_visit(source, True)\n",
        "    # get raw metrics\n",
        "\n",
        "    # Module(loc=13, lloc=5, sloc=4, comments=1, multi=5, blank=3, single_comments=1)\n",
        "    #raw = analyze(source)\n",
        "\n",
        "    #f1 = raw.loc #1\n",
        "    #f13 = raw.sloc #IOCODE\n",
        "    #f14 = raw.comments # IOComment\n",
        "    #f15 = raw.blank #IOBlank\n",
        "    #f16 = raw.lloc #IOcode and Comment\n",
        "\n",
        "\n",
        "    #Halstead features\n",
        "    ast = h_visit(source)\n",
        "    hal = ast.total\n",
        "    #Halstead(total=HalsteadReport(h1=1, h2=4, N1=2, N2=4, vocabulary=5, length=6, calculated_length=8.0, volume=13.931568569324174, difficulty=0.5, effort=6.965784284662087, time=0.3869880158145604, bugs=0.004643856189774725), functions=[])\n",
        "\n",
        "    f17 = hal.h1 #Uniq op\n",
        "    f18 = hal.h2 #uniq operands\n",
        "    f19 = hal.N1 #toal operators\n",
        "    f20 = hal.N2 #total operands\n",
        "\n",
        "    f5 = hal.length #n\n",
        "    f6 = hal.volume #v\n",
        "\n",
        "    f7 = f6/f5 #l --> program length\n",
        "    f8 = hal.difficulty\n",
        "    f9 = f7*f6\n",
        "    f10 = hal.effort\n",
        "    f12 = hal.time\n",
        "\n",
        "    #cc\n",
        "    cc = cc_visit(source)\n",
        "\n",
        "    try:f2 = cc[-1].complexity\n",
        "    except: f2 = 0\n",
        "    f21 = complexity(f5,f6,f8,f10,f12)\n",
        "\n",
        "\n",
        "    print(filename,\"  --->   \",f21)\n",
        "    \n",
        "\n",
        "     \n",
        "\n",
        "\n",
        "    # Now do what you want with the data"
      ],
      "execution_count": 14,
      "outputs": [
        {
          "output_type": "stream",
          "text": [
            "f3.py   --->    Redesign\n",
            "f1.py   --->    Successful\n",
            "f2.py   --->    Successful\n"
          ],
          "name": "stdout"
        }
      ]
    },
    {
      "cell_type": "markdown",
      "metadata": {
        "id": "Apiih8umP4SM"
      },
      "source": [
        "    ### Some more constraints \n",
        "    \n",
        "\n",
        "| item                  | description                                    | range    | recommendation |\n",
        "| ------------------| ---------------------------------------- | -------- | -------------- |\n",
        "| comment_ratio         | Comment to Code percentage                     | 0..100   | > 30.0         |\n",
        "| cyclomatic_complexity | Cyclomatic complexity according to McCabe      | 0..(inf) | < 10           |\n",
        "| halstead_bugprop      | Number of delivered bugs according to Halstead | 0..(inf) | < 0.05         |\n",
        "| maintainability_index | Maintainability index                          | 0..100   | > 80.0         |\n",
        "| pylint                | General quality score according to pylint      | 0..100   | > 80.0         |\n",
        "| tiobe_compiler        | Compiler warnings score according to TIOBE     | 0..100   | > 90.0         |\n",
        "| tiobe_complexity      | Complexity according to TIOBE                  | 0..100   | > 80.0         |\n",
        "| tiobe_coverage        | Coverage according to TIOBE                    | 0..100   | > 80.0         |\n",
        "| tiobe_duplication     | Code duplications score according to TIOBE     | 0..100   | > 80.0         |\n",
        "| tiobe_fanout          | Fan-Out score according to TIOBE               | 0..100   | > 80.0         |\n",
        "| tiobe_functional      | Functional defect score according to TIOBE     | 0..100   | > 90.0         |\n",
        "| tiobe_security        | Security score according to TIOBE              | 0..100   | > 90.0         |\n",
        "| tiobe_standard        | Language standard score according to TIOBE     | 0..100   | > 80.0         |\n",
        "| tiobe                 | General quality score according to TIOBE       | 0..100   | > 80.0         |"
      ]
    },
    {
      "cell_type": "code",
      "metadata": {
        "id": "o0cJNzJMHoNy"
      },
      "source": [
        ""
      ],
      "execution_count": null,
      "outputs": []
    }
  ]
}