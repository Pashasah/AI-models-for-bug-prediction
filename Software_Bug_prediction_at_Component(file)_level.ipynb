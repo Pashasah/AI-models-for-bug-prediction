{
  "nbformat": 4,
  "nbformat_minor": 0,
  "metadata": {
    "colab": {
      "name": "Software Bug prediction at Component(file) level.ipynb",
      "provenance": [],
      "collapsed_sections": []
    },
    "kernelspec": {
      "name": "python3",
      "display_name": "Python 3"
    },
    "language_info": {
      "name": "python"
    }
  },
  "cells": [
    {
      "cell_type": "markdown",
      "metadata": {
        "id": "2OGzpvOtoj7s"
      },
      "source": [
        "<b>Software Bug Prediction </b><br>is an important\n",
        "issue in software development and maintenance processes, which\n",
        "concerns with the overall of software successes. This is because\n",
        "predicting the software faults in earlier phase improves the\n",
        "software quality, reliability, efficiency and reduces the software\n",
        "cost.<br>\n",
        "Proposed approach is to predict the likelihood of a bug in the software module based on software metrics so that developer or tester can prioritize their work which improves efficiency and saves time"
      ]
    },
    {
      "cell_type": "markdown",
      "metadata": {
        "id": "WHJ9NNgZbfBi"
      },
      "source": [
        "### Approach: <br>\n",
        "1. Taken NASA datasets of software bug prediction which consists of number of lines of code, comments, blank space , HALSTEAD FEATURES, MCCABE CYCLOMATIC COMPLEXITY, defects\n",
        "2. Combine the datasets for more data\n",
        "3. Understand the features in the dataset and also clean and  preprocess the data.\n",
        "4. Derived a  evaluation criteria by a Ruled based approach using Halstead features and it is added   as a feature to the data.\n",
        "5. Feature selection: input matrix X and output vector Y.\n",
        "6. Drop insignificant features from the data\n",
        "7. Applied SMOTE to the data to solve class imbalanced distribution problem\n",
        "8. Split the data for training and testing\n",
        "9. Apply PCA (Dimensionality Reduction Algorithm) to the input features to reduce dimensionality curse.\n",
        "10. Define AI models i.e SVM , random forest , decision tree, neural networks etc.\n",
        "11. Train the models\n",
        "12. Check performance such as Accuracy, recall ,f1 score, roc auc metrics.\n",
        "13. Extract software features of each module in the directory using Radon package\n",
        "14. We take all required features of each module in a list\n",
        "15. We apply scaling and dimensionality reduction to the features.\n",
        "16. AI model can predict whether the module is clean or likely to be buggy.\n",
        "17. Based on results, developer or tester can prioritize their work and can check the modules that predicted to be buggy which saves time.\n"
      ]
    },
    {
      "cell_type": "markdown",
      "metadata": {
        "id": "-GPluQZmXp19"
      },
      "source": [
        "### File operations"
      ]
    },
    {
      "cell_type": "code",
      "metadata": {
        "colab": {
          "base_uri": "https://localhost:8080/"
        },
        "id": "qW4acCEuVmg4",
        "outputId": "5b1c4844-41b4-4c46-a4f3-81ea66d43801"
      },
      "source": [
        "!git clone https://github.com/PrudhviGNV/Bug-Prediction-dataset.git"
      ],
      "execution_count": 1,
      "outputs": [
        {
          "output_type": "stream",
          "text": [
            "Cloning into 'Bug-Prediction-dataset'...\n",
            "remote: Enumerating objects: 15, done.\u001b[K\n",
            "remote: Counting objects: 100% (15/15), done.\u001b[K\n",
            "remote: Compressing objects: 100% (13/13), done.\u001b[K\n",
            "remote: Total 15 (delta 4), reused 0 (delta 0), pack-reused 0\u001b[K\n",
            "Unpacking objects: 100% (15/15), done.\n"
          ],
          "name": "stdout"
        }
      ]
    },
    {
      "cell_type": "code",
      "metadata": {
        "colab": {
          "base_uri": "https://localhost:8080/"
        },
        "id": "4Zdd9zZRVsIx",
        "outputId": "42b21cd9-dba2-45b8-ff32-e8b8eb35637b"
      },
      "source": [
        "ls"
      ],
      "execution_count": 3,
      "outputs": [
        {
          "output_type": "stream",
          "text": [
            "\u001b[0m\u001b[01;34mBug-Prediction-dataset\u001b[0m/  \u001b[01;34msample_data\u001b[0m/\n"
          ],
          "name": "stdout"
        }
      ]
    },
    {
      "cell_type": "code",
      "metadata": {
        "colab": {
          "base_uri": "https://localhost:8080/"
        },
        "id": "2rirNWX7VulQ",
        "outputId": "c35a4c2d-643e-4ac8-b457-8609b7bbd0ae"
      },
      "source": [
        "cd Bug-Prediction-dataset/"
      ],
      "execution_count": 4,
      "outputs": [
        {
          "output_type": "stream",
          "text": [
            "/content/Bug-Prediction-dataset\n"
          ],
          "name": "stdout"
        }
      ]
    },
    {
      "cell_type": "code",
      "metadata": {
        "colab": {
          "base_uri": "https://localhost:8080/"
        },
        "id": "-aRThObWVzDG",
        "outputId": "8bb4f9cf-8061-4fbc-b1f8-82938304599f"
      },
      "source": [
        "ls"
      ],
      "execution_count": 5,
      "outputs": [
        {
          "output_type": "stream",
          "text": [
            "cm1.csv  kc1.csv  pc1.csv    soft_def_1.csv  soft_def_JM1.csv\n",
            "jm1.csv  kc2.csv  README.md  soft_def_2.csv\n"
          ],
          "name": "stdout"
        }
      ]
    },
    {
      "cell_type": "markdown",
      "metadata": {
        "id": "twrTXY9IXvjv"
      },
      "source": [
        "### Data processing"
      ]
    },
    {
      "cell_type": "code",
      "metadata": {
        "id": "NXuR3dmVqac2"
      },
      "source": [
        "import pandas as pd\n",
        "import numpy as np\n"
      ],
      "execution_count": 6,
      "outputs": []
    },
    {
      "cell_type": "code",
      "metadata": {
        "id": "aMH0rlv-qTnL"
      },
      "source": [
        "df1 = pd.read_csv('soft_def_1.csv')"
      ],
      "execution_count": 7,
      "outputs": []
    },
    {
      "cell_type": "code",
      "metadata": {
        "id": "pAbm0okFqYso"
      },
      "source": [
        "df2 = pd.read_csv('soft_def_2.csv')"
      ],
      "execution_count": 8,
      "outputs": []
    },
    {
      "cell_type": "code",
      "metadata": {
        "id": "cP_5By8pqj6n"
      },
      "source": [
        "df3 = pd.read_csv('soft_def_JM1.csv')"
      ],
      "execution_count": 9,
      "outputs": []
    },
    {
      "cell_type": "code",
      "metadata": {
        "id": "bscWqfxmkBAr"
      },
      "source": [
        "frames = [df1, df2,df3]"
      ],
      "execution_count": 10,
      "outputs": []
    },
    {
      "cell_type": "code",
      "metadata": {
        "id": "PNQ5warckDRk"
      },
      "source": [
        "data = pd.concat(frames)"
      ],
      "execution_count": 11,
      "outputs": []
    },
    {
      "cell_type": "code",
      "metadata": {
        "id": "x9dObo9SKDuF"
      },
      "source": [
        "\"\"\"data= pd.DataFrame()\n",
        "for col  in d:\n",
        "  n = d[col].values\n",
        "  \n",
        "  data[col] = n\n",
        "  \n",
        "  \"\"\""
      ],
      "execution_count": null,
      "outputs": []
    },
    {
      "cell_type": "code",
      "metadata": {
        "colab": {
          "base_uri": "https://localhost:8080/",
          "height": 439
        },
        "id": "zVVbmcppLot9",
        "outputId": "a0d1230c-a181-4fab-8ef0-040b665732fc"
      },
      "source": [
        "data"
      ],
      "execution_count": 12,
      "outputs": [
        {
          "output_type": "execute_result",
          "data": {
            "text/html": [
              "<div>\n",
              "<style scoped>\n",
              "    .dataframe tbody tr th:only-of-type {\n",
              "        vertical-align: middle;\n",
              "    }\n",
              "\n",
              "    .dataframe tbody tr th {\n",
              "        vertical-align: top;\n",
              "    }\n",
              "\n",
              "    .dataframe thead th {\n",
              "        text-align: right;\n",
              "    }\n",
              "</style>\n",
              "<table border=\"1\" class=\"dataframe\">\n",
              "  <thead>\n",
              "    <tr style=\"text-align: right;\">\n",
              "      <th></th>\n",
              "      <th>loc</th>\n",
              "      <th>v(g)</th>\n",
              "      <th>ev(g)</th>\n",
              "      <th>iv(g)</th>\n",
              "      <th>n</th>\n",
              "      <th>v</th>\n",
              "      <th>l</th>\n",
              "      <th>d</th>\n",
              "      <th>i</th>\n",
              "      <th>e</th>\n",
              "      <th>b</th>\n",
              "      <th>t</th>\n",
              "      <th>lOCode</th>\n",
              "      <th>lOComment</th>\n",
              "      <th>lOBlank</th>\n",
              "      <th>locCodeAndComment</th>\n",
              "      <th>uniq_Op</th>\n",
              "      <th>uniq_Opnd</th>\n",
              "      <th>total_Op</th>\n",
              "      <th>total_Opnd</th>\n",
              "      <th>branchCount</th>\n",
              "      <th>defects</th>\n",
              "    </tr>\n",
              "  </thead>\n",
              "  <tbody>\n",
              "    <tr>\n",
              "      <th>0</th>\n",
              "      <td>1.1</td>\n",
              "      <td>1.4</td>\n",
              "      <td>1.4</td>\n",
              "      <td>1.4</td>\n",
              "      <td>1.3</td>\n",
              "      <td>1.30</td>\n",
              "      <td>1.30</td>\n",
              "      <td>1.30</td>\n",
              "      <td>1.30</td>\n",
              "      <td>1.30</td>\n",
              "      <td>1.30</td>\n",
              "      <td>1.30</td>\n",
              "      <td>2</td>\n",
              "      <td>2</td>\n",
              "      <td>2</td>\n",
              "      <td>2</td>\n",
              "      <td>1.2</td>\n",
              "      <td>1.2</td>\n",
              "      <td>1.2</td>\n",
              "      <td>1.2</td>\n",
              "      <td>1.4</td>\n",
              "      <td>False</td>\n",
              "    </tr>\n",
              "    <tr>\n",
              "      <th>1</th>\n",
              "      <td>1.0</td>\n",
              "      <td>1.0</td>\n",
              "      <td>1.0</td>\n",
              "      <td>1.0</td>\n",
              "      <td>1.0</td>\n",
              "      <td>1.00</td>\n",
              "      <td>1.00</td>\n",
              "      <td>1.00</td>\n",
              "      <td>1.00</td>\n",
              "      <td>1.00</td>\n",
              "      <td>1.00</td>\n",
              "      <td>1.00</td>\n",
              "      <td>1</td>\n",
              "      <td>1</td>\n",
              "      <td>1</td>\n",
              "      <td>1</td>\n",
              "      <td>1</td>\n",
              "      <td>1</td>\n",
              "      <td>1</td>\n",
              "      <td>1</td>\n",
              "      <td>1</td>\n",
              "      <td>True</td>\n",
              "    </tr>\n",
              "    <tr>\n",
              "      <th>2</th>\n",
              "      <td>24.0</td>\n",
              "      <td>5.0</td>\n",
              "      <td>1.0</td>\n",
              "      <td>3.0</td>\n",
              "      <td>63.0</td>\n",
              "      <td>309.13</td>\n",
              "      <td>0.11</td>\n",
              "      <td>9.50</td>\n",
              "      <td>32.54</td>\n",
              "      <td>2936.77</td>\n",
              "      <td>0.10</td>\n",
              "      <td>163.15</td>\n",
              "      <td>1</td>\n",
              "      <td>0</td>\n",
              "      <td>6</td>\n",
              "      <td>0</td>\n",
              "      <td>15</td>\n",
              "      <td>15</td>\n",
              "      <td>44</td>\n",
              "      <td>19</td>\n",
              "      <td>9</td>\n",
              "      <td>False</td>\n",
              "    </tr>\n",
              "    <tr>\n",
              "      <th>3</th>\n",
              "      <td>20.0</td>\n",
              "      <td>4.0</td>\n",
              "      <td>4.0</td>\n",
              "      <td>2.0</td>\n",
              "      <td>47.0</td>\n",
              "      <td>215.49</td>\n",
              "      <td>0.06</td>\n",
              "      <td>16.00</td>\n",
              "      <td>13.47</td>\n",
              "      <td>3447.89</td>\n",
              "      <td>0.07</td>\n",
              "      <td>191.55</td>\n",
              "      <td>0</td>\n",
              "      <td>0</td>\n",
              "      <td>3</td>\n",
              "      <td>0</td>\n",
              "      <td>16</td>\n",
              "      <td>8</td>\n",
              "      <td>31</td>\n",
              "      <td>16</td>\n",
              "      <td>7</td>\n",
              "      <td>False</td>\n",
              "    </tr>\n",
              "    <tr>\n",
              "      <th>4</th>\n",
              "      <td>24.0</td>\n",
              "      <td>6.0</td>\n",
              "      <td>6.0</td>\n",
              "      <td>2.0</td>\n",
              "      <td>72.0</td>\n",
              "      <td>346.13</td>\n",
              "      <td>0.06</td>\n",
              "      <td>17.33</td>\n",
              "      <td>19.97</td>\n",
              "      <td>5999.58</td>\n",
              "      <td>0.12</td>\n",
              "      <td>333.31</td>\n",
              "      <td>0</td>\n",
              "      <td>0</td>\n",
              "      <td>3</td>\n",
              "      <td>0</td>\n",
              "      <td>16</td>\n",
              "      <td>12</td>\n",
              "      <td>46</td>\n",
              "      <td>26</td>\n",
              "      <td>11</td>\n",
              "      <td>False</td>\n",
              "    </tr>\n",
              "    <tr>\n",
              "      <th>...</th>\n",
              "      <td>...</td>\n",
              "      <td>...</td>\n",
              "      <td>...</td>\n",
              "      <td>...</td>\n",
              "      <td>...</td>\n",
              "      <td>...</td>\n",
              "      <td>...</td>\n",
              "      <td>...</td>\n",
              "      <td>...</td>\n",
              "      <td>...</td>\n",
              "      <td>...</td>\n",
              "      <td>...</td>\n",
              "      <td>...</td>\n",
              "      <td>...</td>\n",
              "      <td>...</td>\n",
              "      <td>...</td>\n",
              "      <td>...</td>\n",
              "      <td>...</td>\n",
              "      <td>...</td>\n",
              "      <td>...</td>\n",
              "      <td>...</td>\n",
              "      <td>...</td>\n",
              "    </tr>\n",
              "    <tr>\n",
              "      <th>10880</th>\n",
              "      <td>18.0</td>\n",
              "      <td>4.0</td>\n",
              "      <td>1.0</td>\n",
              "      <td>4.0</td>\n",
              "      <td>52.0</td>\n",
              "      <td>241.48</td>\n",
              "      <td>0.14</td>\n",
              "      <td>7.33</td>\n",
              "      <td>32.93</td>\n",
              "      <td>1770.86</td>\n",
              "      <td>0.08</td>\n",
              "      <td>98.38</td>\n",
              "      <td>13</td>\n",
              "      <td>0</td>\n",
              "      <td>2</td>\n",
              "      <td>0</td>\n",
              "      <td>10</td>\n",
              "      <td>15</td>\n",
              "      <td>30</td>\n",
              "      <td>22</td>\n",
              "      <td>7</td>\n",
              "      <td>False</td>\n",
              "    </tr>\n",
              "    <tr>\n",
              "      <th>10881</th>\n",
              "      <td>9.0</td>\n",
              "      <td>2.0</td>\n",
              "      <td>1.0</td>\n",
              "      <td>2.0</td>\n",
              "      <td>30.0</td>\n",
              "      <td>129.66</td>\n",
              "      <td>0.12</td>\n",
              "      <td>8.25</td>\n",
              "      <td>15.72</td>\n",
              "      <td>1069.68</td>\n",
              "      <td>0.04</td>\n",
              "      <td>59.43</td>\n",
              "      <td>5</td>\n",
              "      <td>0</td>\n",
              "      <td>2</td>\n",
              "      <td>0</td>\n",
              "      <td>12</td>\n",
              "      <td>8</td>\n",
              "      <td>19</td>\n",
              "      <td>11</td>\n",
              "      <td>3</td>\n",
              "      <td>False</td>\n",
              "    </tr>\n",
              "    <tr>\n",
              "      <th>10882</th>\n",
              "      <td>42.0</td>\n",
              "      <td>4.0</td>\n",
              "      <td>1.0</td>\n",
              "      <td>2.0</td>\n",
              "      <td>103.0</td>\n",
              "      <td>519.57</td>\n",
              "      <td>0.04</td>\n",
              "      <td>26.40</td>\n",
              "      <td>19.68</td>\n",
              "      <td>13716.72</td>\n",
              "      <td>0.17</td>\n",
              "      <td>762.04</td>\n",
              "      <td>29</td>\n",
              "      <td>1</td>\n",
              "      <td>10</td>\n",
              "      <td>0</td>\n",
              "      <td>18</td>\n",
              "      <td>15</td>\n",
              "      <td>59</td>\n",
              "      <td>44</td>\n",
              "      <td>7</td>\n",
              "      <td>False</td>\n",
              "    </tr>\n",
              "    <tr>\n",
              "      <th>10883</th>\n",
              "      <td>10.0</td>\n",
              "      <td>1.0</td>\n",
              "      <td>1.0</td>\n",
              "      <td>1.0</td>\n",
              "      <td>36.0</td>\n",
              "      <td>147.15</td>\n",
              "      <td>0.12</td>\n",
              "      <td>8.44</td>\n",
              "      <td>17.44</td>\n",
              "      <td>1241.57</td>\n",
              "      <td>0.05</td>\n",
              "      <td>68.98</td>\n",
              "      <td>6</td>\n",
              "      <td>0</td>\n",
              "      <td>2</td>\n",
              "      <td>0</td>\n",
              "      <td>9</td>\n",
              "      <td>8</td>\n",
              "      <td>21</td>\n",
              "      <td>15</td>\n",
              "      <td>1</td>\n",
              "      <td>False</td>\n",
              "    </tr>\n",
              "    <tr>\n",
              "      <th>10884</th>\n",
              "      <td>19.0</td>\n",
              "      <td>3.0</td>\n",
              "      <td>1.0</td>\n",
              "      <td>1.0</td>\n",
              "      <td>58.0</td>\n",
              "      <td>272.63</td>\n",
              "      <td>0.09</td>\n",
              "      <td>11.57</td>\n",
              "      <td>23.56</td>\n",
              "      <td>3154.67</td>\n",
              "      <td>0.09</td>\n",
              "      <td>175.26</td>\n",
              "      <td>13</td>\n",
              "      <td>0</td>\n",
              "      <td>2</td>\n",
              "      <td>1</td>\n",
              "      <td>12</td>\n",
              "      <td>14</td>\n",
              "      <td>31</td>\n",
              "      <td>27</td>\n",
              "      <td>5</td>\n",
              "      <td>False</td>\n",
              "    </tr>\n",
              "  </tbody>\n",
              "</table>\n",
              "<p>12492 rows × 22 columns</p>\n",
              "</div>"
            ],
            "text/plain": [
              "        loc  v(g)  ev(g)  iv(g)  ...  total_Op  total_Opnd  branchCount  defects\n",
              "0       1.1   1.4    1.4    1.4  ...       1.2         1.2          1.4    False\n",
              "1       1.0   1.0    1.0    1.0  ...         1           1            1     True\n",
              "2      24.0   5.0    1.0    3.0  ...        44          19            9    False\n",
              "3      20.0   4.0    4.0    2.0  ...        31          16            7    False\n",
              "4      24.0   6.0    6.0    2.0  ...        46          26           11    False\n",
              "...     ...   ...    ...    ...  ...       ...         ...          ...      ...\n",
              "10880  18.0   4.0    1.0    4.0  ...        30          22            7    False\n",
              "10881   9.0   2.0    1.0    2.0  ...        19          11            3    False\n",
              "10882  42.0   4.0    1.0    2.0  ...        59          44            7    False\n",
              "10883  10.0   1.0    1.0    1.0  ...        21          15            1    False\n",
              "10884  19.0   3.0    1.0    1.0  ...        31          27            5    False\n",
              "\n",
              "[12492 rows x 22 columns]"
            ]
          },
          "metadata": {
            "tags": []
          },
          "execution_count": 12
        }
      ]
    },
    {
      "cell_type": "code",
      "metadata": {
        "id": "yiUn-uJcNhkC"
      },
      "source": [
        "# Imputation -- converts non numeric to numeric\n",
        "\n",
        "data = data.apply(pd.to_numeric, errors='coerce')\n",
        "data= data.dropna()"
      ],
      "execution_count": 13,
      "outputs": []
    },
    {
      "cell_type": "code",
      "metadata": {
        "colab": {
          "base_uri": "https://localhost:8080/"
        },
        "id": "Jtpl_e0HqwCK",
        "outputId": "ad668a41-1cd5-41e1-c6e7-6aaaf9627d1f"
      },
      "source": [
        "data.info()"
      ],
      "execution_count": 14,
      "outputs": [
        {
          "output_type": "stream",
          "text": [
            "<class 'pandas.core.frame.DataFrame'>\n",
            "Int64Index: 12487 entries, 0 to 10884\n",
            "Data columns (total 22 columns):\n",
            " #   Column             Non-Null Count  Dtype  \n",
            "---  ------             --------------  -----  \n",
            " 0   loc                12487 non-null  float64\n",
            " 1   v(g)               12487 non-null  float64\n",
            " 2   ev(g)              12487 non-null  float64\n",
            " 3   iv(g)              12487 non-null  float64\n",
            " 4   n                  12487 non-null  float64\n",
            " 5   v                  12487 non-null  float64\n",
            " 6   l                  12487 non-null  float64\n",
            " 7   d                  12487 non-null  float64\n",
            " 8   i                  12487 non-null  float64\n",
            " 9   e                  12487 non-null  float64\n",
            " 10  b                  12487 non-null  float64\n",
            " 11  t                  12487 non-null  float64\n",
            " 12  lOCode             12487 non-null  int64  \n",
            " 13  lOComment          12487 non-null  int64  \n",
            " 14  lOBlank            12487 non-null  int64  \n",
            " 15  locCodeAndComment  12487 non-null  int64  \n",
            " 16  uniq_Op            12487 non-null  float64\n",
            " 17  uniq_Opnd          12487 non-null  float64\n",
            " 18  total_Op           12487 non-null  float64\n",
            " 19  total_Opnd         12487 non-null  float64\n",
            " 20  branchCount        12487 non-null  float64\n",
            " 21  defects            12487 non-null  bool   \n",
            "dtypes: bool(1), float64(17), int64(4)\n",
            "memory usage: 2.1 MB\n"
          ],
          "name": "stdout"
        }
      ]
    },
    {
      "cell_type": "code",
      "metadata": {
        "colab": {
          "base_uri": "https://localhost:8080/"
        },
        "id": "jxWLnH7dcfva",
        "outputId": "3af643b6-d8ae-4264-fb87-16ee1246aaf9"
      },
      "source": [
        "data.isnull().values.any() #Gives false ie:No null value in dataset"
      ],
      "execution_count": 15,
      "outputs": [
        {
          "output_type": "execute_result",
          "data": {
            "text/plain": [
              "False"
            ]
          },
          "metadata": {
            "tags": []
          },
          "execution_count": 15
        }
      ]
    },
    {
      "cell_type": "code",
      "metadata": {
        "id": "belLypGRcjp_"
      },
      "source": [
        "data = data.fillna(value=False)\n"
      ],
      "execution_count": 16,
      "outputs": []
    },
    {
      "cell_type": "markdown",
      "metadata": {
        "id": "BCn2UdN2pSV7"
      },
      "source": [
        "### About dataset"
      ]
    },
    {
      "cell_type": "code",
      "metadata": {
        "id": "uQtkAcoHpX1k"
      },
      "source": [
        "\"\"\"\n",
        "%    NOTES ON MCCABE/HALSTEAD\n",
        "%    ======================== \n",
        "%    McCabe argued that code with complicated pathways are more\n",
        "%    error-prone.  His metrics therefore reflect the pathways within a\n",
        "%    code module.\n",
        "%   \n",
        "\n",
        "% \n",
        "%    Halstead argued that code that is hard to read is more likely to be\n",
        "%    fault prone. Halstead estimates reading complexity by counting the\n",
        "%    number of concepts in a module; e.g. number of unique operators.   \n",
        "%   \n",
        "\"\"\""
      ],
      "execution_count": null,
      "outputs": []
    },
    {
      "cell_type": "markdown",
      "metadata": {
        "id": "bP6fyz0bqlDQ"
      },
      "source": [
        ""
      ]
    },
    {
      "cell_type": "code",
      "metadata": {
        "id": "4O_adVevqKTR"
      },
      "source": [
        "\"\"\"\n",
        "\n",
        "\n",
        "%    We study these static code measures since they are useful, easy to\n",
        "%    use, and widely used:\n",
        "% \n",
        "%     -- USEFUL: E.g. this data set can generate highly accurate\n",
        "%     predictors for defects  \n",
        "% \n",
        "%     -- EASY TO USE: Static code measures (e.g. lines of code, the\n",
        "%     McCabe/Halstead measures) can be automatically and cheaply\n",
        "%     collected.\n",
        "% \n",
        "%     -- WIDELY USED: Many researchers use static measures to guide\n",
        "%     software quality predictions (see the reference list in the above\n",
        "%     \"blind spot\" paper. Verification and validation (V\\&V) textbooks\n",
        "%     advise using static code complexity measures to decide which\n",
        "%     modules are worthy of manual inspections.  Further, we know of\n",
        "%     several large government software contractors that won't review\n",
        "%     software modules _unless_ tools like McCabe predict that they are\n",
        "%     fault prone.  Hence, defect detectors have a major economic impact\n",
        "%     when they may force programmers to rewrite code.\n",
        "% \n",
        "%     Nevertheless, the merits of these metrics has been widely\n",
        "%     criticized.  Static code measures are hardly a complete\n",
        "%     characterization of the internals of a function.\n",
        "\n",
        "\"\"\""
      ],
      "execution_count": null,
      "outputs": []
    },
    {
      "cell_type": "code",
      "metadata": {
        "id": "uCtaaQMtqROo"
      },
      "source": [
        "\"\"\"\n",
        "%     The Halstead falls into three groups: the base measures, the\n",
        "%     derived measures, and lines of code measures.\n",
        "%     \n",
        "%     -- Base measures: \n",
        "%        -- mu1             = number of unique operators\n",
        "%        -- mu2             = number of unique operands\n",
        "%        -- N1              = total occurrences of operators\n",
        "%        -- N2              = total occurrences of operands\n",
        "%        -- length     = N  = N1 + N2\n",
        "%        -- vocabulary = mu = mu1 + mu2\n",
        "%        -- Constants set for each function:\n",
        "%           -- mu1' =  2 = potential operator count (just the function\n",
        "%                          name and the \"return\" operator)\n",
        "%           -- mu2'      = potential operand count. (the number \n",
        "%                          of arguments to the module)\n",
        "%        \n",
        "%        For example, the expression \"return max(w+x,x+y)\" has \"N1=4\"\n",
        "%        operators \"return, max, +,+)\", \"N2=4\" operands (w,x,x,y),\n",
        "%        \"mu1=3\" unique operators (return, max,+), and \"mu2=3\" unique\n",
        "%        operands (w,x,y).\n",
        "% \n",
        "%      -- Derived measures:\n",
        "%         -- P = volume = V = N * log2(mu) (the number of mental \n",
        "%                                           comparisons needed to write\n",
        "%                                           a program of length N)\n",
        "%         -- V* = volume on minimal implementation\n",
        "%               = (2 + mu2')*log2(2 + mu2')\n",
        "%         -- L  = program length = V*/N\n",
        "%         -- D  = difficulty = 1/L\n",
        "%         -- L' = 1/D \n",
        "%         -- I  = intelligence = L'*V'\n",
        "%         -- E  = effort to write program = V/L \n",
        "%         -- T  = time to write program = E/18 seconds\n",
        "\"\"\""
      ],
      "execution_count": null,
      "outputs": []
    },
    {
      "cell_type": "markdown",
      "metadata": {
        "id": "EOZbDx-rfc38"
      },
      "source": [
        "###Rule based approach\n",
        "From my research, I find that:<br>\n",
        "\n",
        "According to Halstead features,\n",
        "if a software is sucessful if its \n",
        "1. Halstead total operators + operands n  < 300\n",
        "2. Halstead Volume < 1000\n",
        "3. Halstead difficulty < 50 \n",
        "4. Halstead efforts < 500000\n",
        "5. Halstead time < 5000\n",
        "\n",
        "Otherwise, It needs to be redesign<br>\n",
        "<br>\n",
        "\n",
        "\n",
        "So, I apply rule based  approach to find software is succesful or need to be redesign.\n",
        "Let successful be 0 <br>\n",
        "otherwise redesign be 1"
      ]
    },
    {
      "cell_type": "code",
      "metadata": {
        "id": "kW_QKFnCgZsT"
      },
      "source": [
        "def evaluation_control(data):    \n",
        "    evaluation = (data.n < 300) & (data.v < 1000 ) & (data.d < 50) & (data.e < 500000) & (data.t < 5000)\n",
        "    data['complexityEvaluation'] = pd.DataFrame(evaluation)\n",
        "    data['complexityEvaluation'] = [0 if evaluation == True else 1 for evaluation in data.complexityEvaluation]"
      ],
      "execution_count": 17,
      "outputs": []
    },
    {
      "cell_type": "code",
      "metadata": {
        "colab": {
          "base_uri": "https://localhost:8080/",
          "height": 439
        },
        "id": "Tj7cfdCfgglo",
        "outputId": "236d97de-79d0-433c-ce9a-10acf38781d8"
      },
      "source": [
        "evaluation_control(data)\n",
        "data"
      ],
      "execution_count": 18,
      "outputs": [
        {
          "output_type": "execute_result",
          "data": {
            "text/html": [
              "<div>\n",
              "<style scoped>\n",
              "    .dataframe tbody tr th:only-of-type {\n",
              "        vertical-align: middle;\n",
              "    }\n",
              "\n",
              "    .dataframe tbody tr th {\n",
              "        vertical-align: top;\n",
              "    }\n",
              "\n",
              "    .dataframe thead th {\n",
              "        text-align: right;\n",
              "    }\n",
              "</style>\n",
              "<table border=\"1\" class=\"dataframe\">\n",
              "  <thead>\n",
              "    <tr style=\"text-align: right;\">\n",
              "      <th></th>\n",
              "      <th>loc</th>\n",
              "      <th>v(g)</th>\n",
              "      <th>ev(g)</th>\n",
              "      <th>iv(g)</th>\n",
              "      <th>n</th>\n",
              "      <th>v</th>\n",
              "      <th>l</th>\n",
              "      <th>d</th>\n",
              "      <th>i</th>\n",
              "      <th>e</th>\n",
              "      <th>b</th>\n",
              "      <th>t</th>\n",
              "      <th>lOCode</th>\n",
              "      <th>lOComment</th>\n",
              "      <th>lOBlank</th>\n",
              "      <th>locCodeAndComment</th>\n",
              "      <th>uniq_Op</th>\n",
              "      <th>uniq_Opnd</th>\n",
              "      <th>total_Op</th>\n",
              "      <th>total_Opnd</th>\n",
              "      <th>branchCount</th>\n",
              "      <th>defects</th>\n",
              "      <th>complexityEvaluation</th>\n",
              "    </tr>\n",
              "  </thead>\n",
              "  <tbody>\n",
              "    <tr>\n",
              "      <th>0</th>\n",
              "      <td>1.1</td>\n",
              "      <td>1.4</td>\n",
              "      <td>1.4</td>\n",
              "      <td>1.4</td>\n",
              "      <td>1.3</td>\n",
              "      <td>1.30</td>\n",
              "      <td>1.30</td>\n",
              "      <td>1.30</td>\n",
              "      <td>1.30</td>\n",
              "      <td>1.30</td>\n",
              "      <td>1.30</td>\n",
              "      <td>1.30</td>\n",
              "      <td>2</td>\n",
              "      <td>2</td>\n",
              "      <td>2</td>\n",
              "      <td>2</td>\n",
              "      <td>1.2</td>\n",
              "      <td>1.2</td>\n",
              "      <td>1.2</td>\n",
              "      <td>1.2</td>\n",
              "      <td>1.4</td>\n",
              "      <td>False</td>\n",
              "      <td>0</td>\n",
              "    </tr>\n",
              "    <tr>\n",
              "      <th>1</th>\n",
              "      <td>1.0</td>\n",
              "      <td>1.0</td>\n",
              "      <td>1.0</td>\n",
              "      <td>1.0</td>\n",
              "      <td>1.0</td>\n",
              "      <td>1.00</td>\n",
              "      <td>1.00</td>\n",
              "      <td>1.00</td>\n",
              "      <td>1.00</td>\n",
              "      <td>1.00</td>\n",
              "      <td>1.00</td>\n",
              "      <td>1.00</td>\n",
              "      <td>1</td>\n",
              "      <td>1</td>\n",
              "      <td>1</td>\n",
              "      <td>1</td>\n",
              "      <td>1.0</td>\n",
              "      <td>1.0</td>\n",
              "      <td>1.0</td>\n",
              "      <td>1.0</td>\n",
              "      <td>1.0</td>\n",
              "      <td>True</td>\n",
              "      <td>0</td>\n",
              "    </tr>\n",
              "    <tr>\n",
              "      <th>2</th>\n",
              "      <td>24.0</td>\n",
              "      <td>5.0</td>\n",
              "      <td>1.0</td>\n",
              "      <td>3.0</td>\n",
              "      <td>63.0</td>\n",
              "      <td>309.13</td>\n",
              "      <td>0.11</td>\n",
              "      <td>9.50</td>\n",
              "      <td>32.54</td>\n",
              "      <td>2936.77</td>\n",
              "      <td>0.10</td>\n",
              "      <td>163.15</td>\n",
              "      <td>1</td>\n",
              "      <td>0</td>\n",
              "      <td>6</td>\n",
              "      <td>0</td>\n",
              "      <td>15.0</td>\n",
              "      <td>15.0</td>\n",
              "      <td>44.0</td>\n",
              "      <td>19.0</td>\n",
              "      <td>9.0</td>\n",
              "      <td>False</td>\n",
              "      <td>0</td>\n",
              "    </tr>\n",
              "    <tr>\n",
              "      <th>3</th>\n",
              "      <td>20.0</td>\n",
              "      <td>4.0</td>\n",
              "      <td>4.0</td>\n",
              "      <td>2.0</td>\n",
              "      <td>47.0</td>\n",
              "      <td>215.49</td>\n",
              "      <td>0.06</td>\n",
              "      <td>16.00</td>\n",
              "      <td>13.47</td>\n",
              "      <td>3447.89</td>\n",
              "      <td>0.07</td>\n",
              "      <td>191.55</td>\n",
              "      <td>0</td>\n",
              "      <td>0</td>\n",
              "      <td>3</td>\n",
              "      <td>0</td>\n",
              "      <td>16.0</td>\n",
              "      <td>8.0</td>\n",
              "      <td>31.0</td>\n",
              "      <td>16.0</td>\n",
              "      <td>7.0</td>\n",
              "      <td>False</td>\n",
              "      <td>0</td>\n",
              "    </tr>\n",
              "    <tr>\n",
              "      <th>4</th>\n",
              "      <td>24.0</td>\n",
              "      <td>6.0</td>\n",
              "      <td>6.0</td>\n",
              "      <td>2.0</td>\n",
              "      <td>72.0</td>\n",
              "      <td>346.13</td>\n",
              "      <td>0.06</td>\n",
              "      <td>17.33</td>\n",
              "      <td>19.97</td>\n",
              "      <td>5999.58</td>\n",
              "      <td>0.12</td>\n",
              "      <td>333.31</td>\n",
              "      <td>0</td>\n",
              "      <td>0</td>\n",
              "      <td>3</td>\n",
              "      <td>0</td>\n",
              "      <td>16.0</td>\n",
              "      <td>12.0</td>\n",
              "      <td>46.0</td>\n",
              "      <td>26.0</td>\n",
              "      <td>11.0</td>\n",
              "      <td>False</td>\n",
              "      <td>0</td>\n",
              "    </tr>\n",
              "    <tr>\n",
              "      <th>...</th>\n",
              "      <td>...</td>\n",
              "      <td>...</td>\n",
              "      <td>...</td>\n",
              "      <td>...</td>\n",
              "      <td>...</td>\n",
              "      <td>...</td>\n",
              "      <td>...</td>\n",
              "      <td>...</td>\n",
              "      <td>...</td>\n",
              "      <td>...</td>\n",
              "      <td>...</td>\n",
              "      <td>...</td>\n",
              "      <td>...</td>\n",
              "      <td>...</td>\n",
              "      <td>...</td>\n",
              "      <td>...</td>\n",
              "      <td>...</td>\n",
              "      <td>...</td>\n",
              "      <td>...</td>\n",
              "      <td>...</td>\n",
              "      <td>...</td>\n",
              "      <td>...</td>\n",
              "      <td>...</td>\n",
              "    </tr>\n",
              "    <tr>\n",
              "      <th>10880</th>\n",
              "      <td>18.0</td>\n",
              "      <td>4.0</td>\n",
              "      <td>1.0</td>\n",
              "      <td>4.0</td>\n",
              "      <td>52.0</td>\n",
              "      <td>241.48</td>\n",
              "      <td>0.14</td>\n",
              "      <td>7.33</td>\n",
              "      <td>32.93</td>\n",
              "      <td>1770.86</td>\n",
              "      <td>0.08</td>\n",
              "      <td>98.38</td>\n",
              "      <td>13</td>\n",
              "      <td>0</td>\n",
              "      <td>2</td>\n",
              "      <td>0</td>\n",
              "      <td>10.0</td>\n",
              "      <td>15.0</td>\n",
              "      <td>30.0</td>\n",
              "      <td>22.0</td>\n",
              "      <td>7.0</td>\n",
              "      <td>False</td>\n",
              "      <td>0</td>\n",
              "    </tr>\n",
              "    <tr>\n",
              "      <th>10881</th>\n",
              "      <td>9.0</td>\n",
              "      <td>2.0</td>\n",
              "      <td>1.0</td>\n",
              "      <td>2.0</td>\n",
              "      <td>30.0</td>\n",
              "      <td>129.66</td>\n",
              "      <td>0.12</td>\n",
              "      <td>8.25</td>\n",
              "      <td>15.72</td>\n",
              "      <td>1069.68</td>\n",
              "      <td>0.04</td>\n",
              "      <td>59.43</td>\n",
              "      <td>5</td>\n",
              "      <td>0</td>\n",
              "      <td>2</td>\n",
              "      <td>0</td>\n",
              "      <td>12.0</td>\n",
              "      <td>8.0</td>\n",
              "      <td>19.0</td>\n",
              "      <td>11.0</td>\n",
              "      <td>3.0</td>\n",
              "      <td>False</td>\n",
              "      <td>0</td>\n",
              "    </tr>\n",
              "    <tr>\n",
              "      <th>10882</th>\n",
              "      <td>42.0</td>\n",
              "      <td>4.0</td>\n",
              "      <td>1.0</td>\n",
              "      <td>2.0</td>\n",
              "      <td>103.0</td>\n",
              "      <td>519.57</td>\n",
              "      <td>0.04</td>\n",
              "      <td>26.40</td>\n",
              "      <td>19.68</td>\n",
              "      <td>13716.72</td>\n",
              "      <td>0.17</td>\n",
              "      <td>762.04</td>\n",
              "      <td>29</td>\n",
              "      <td>1</td>\n",
              "      <td>10</td>\n",
              "      <td>0</td>\n",
              "      <td>18.0</td>\n",
              "      <td>15.0</td>\n",
              "      <td>59.0</td>\n",
              "      <td>44.0</td>\n",
              "      <td>7.0</td>\n",
              "      <td>False</td>\n",
              "      <td>0</td>\n",
              "    </tr>\n",
              "    <tr>\n",
              "      <th>10883</th>\n",
              "      <td>10.0</td>\n",
              "      <td>1.0</td>\n",
              "      <td>1.0</td>\n",
              "      <td>1.0</td>\n",
              "      <td>36.0</td>\n",
              "      <td>147.15</td>\n",
              "      <td>0.12</td>\n",
              "      <td>8.44</td>\n",
              "      <td>17.44</td>\n",
              "      <td>1241.57</td>\n",
              "      <td>0.05</td>\n",
              "      <td>68.98</td>\n",
              "      <td>6</td>\n",
              "      <td>0</td>\n",
              "      <td>2</td>\n",
              "      <td>0</td>\n",
              "      <td>9.0</td>\n",
              "      <td>8.0</td>\n",
              "      <td>21.0</td>\n",
              "      <td>15.0</td>\n",
              "      <td>1.0</td>\n",
              "      <td>False</td>\n",
              "      <td>0</td>\n",
              "    </tr>\n",
              "    <tr>\n",
              "      <th>10884</th>\n",
              "      <td>19.0</td>\n",
              "      <td>3.0</td>\n",
              "      <td>1.0</td>\n",
              "      <td>1.0</td>\n",
              "      <td>58.0</td>\n",
              "      <td>272.63</td>\n",
              "      <td>0.09</td>\n",
              "      <td>11.57</td>\n",
              "      <td>23.56</td>\n",
              "      <td>3154.67</td>\n",
              "      <td>0.09</td>\n",
              "      <td>175.26</td>\n",
              "      <td>13</td>\n",
              "      <td>0</td>\n",
              "      <td>2</td>\n",
              "      <td>1</td>\n",
              "      <td>12.0</td>\n",
              "      <td>14.0</td>\n",
              "      <td>31.0</td>\n",
              "      <td>27.0</td>\n",
              "      <td>5.0</td>\n",
              "      <td>False</td>\n",
              "      <td>0</td>\n",
              "    </tr>\n",
              "  </tbody>\n",
              "</table>\n",
              "<p>12487 rows × 23 columns</p>\n",
              "</div>"
            ],
            "text/plain": [
              "        loc  v(g)  ev(g)  ...  branchCount  defects  complexityEvaluation\n",
              "0       1.1   1.4    1.4  ...          1.4    False                     0\n",
              "1       1.0   1.0    1.0  ...          1.0     True                     0\n",
              "2      24.0   5.0    1.0  ...          9.0    False                     0\n",
              "3      20.0   4.0    4.0  ...          7.0    False                     0\n",
              "4      24.0   6.0    6.0  ...         11.0    False                     0\n",
              "...     ...   ...    ...  ...          ...      ...                   ...\n",
              "10880  18.0   4.0    1.0  ...          7.0    False                     0\n",
              "10881   9.0   2.0    1.0  ...          3.0    False                     0\n",
              "10882  42.0   4.0    1.0  ...          7.0    False                     0\n",
              "10883  10.0   1.0    1.0  ...          1.0    False                     0\n",
              "10884  19.0   3.0    1.0  ...          5.0    False                     0\n",
              "\n",
              "[12487 rows x 23 columns]"
            ]
          },
          "metadata": {
            "tags": []
          },
          "execution_count": 18
        }
      ]
    },
    {
      "cell_type": "code",
      "metadata": {
        "id": "HAjXTr5kgqff"
      },
      "source": [
        "#Droping insignificant features to reduce complexity of our work\n",
        "\n",
        "data = pd.DataFrame(data.drop(['ev(g)'],axis=1))\n",
        "data = pd.DataFrame(data.drop(['iv(g)'],axis=1))\n",
        "data = pd.DataFrame(data.drop(['b'],axis=1))\n",
        "data = pd.DataFrame(data.drop(['branchCount'],axis=1))"
      ],
      "execution_count": 19,
      "outputs": []
    },
    {
      "cell_type": "code",
      "metadata": {
        "colab": {
          "base_uri": "https://localhost:8080/"
        },
        "id": "Z74J8xp0hQls",
        "outputId": "9311138a-ba99-463e-b137-3c6faf407c84"
      },
      "source": [
        "data.info()"
      ],
      "execution_count": 20,
      "outputs": [
        {
          "output_type": "stream",
          "text": [
            "<class 'pandas.core.frame.DataFrame'>\n",
            "Int64Index: 12487 entries, 0 to 10884\n",
            "Data columns (total 19 columns):\n",
            " #   Column                Non-Null Count  Dtype  \n",
            "---  ------                --------------  -----  \n",
            " 0   loc                   12487 non-null  float64\n",
            " 1   v(g)                  12487 non-null  float64\n",
            " 2   n                     12487 non-null  float64\n",
            " 3   v                     12487 non-null  float64\n",
            " 4   l                     12487 non-null  float64\n",
            " 5   d                     12487 non-null  float64\n",
            " 6   i                     12487 non-null  float64\n",
            " 7   e                     12487 non-null  float64\n",
            " 8   t                     12487 non-null  float64\n",
            " 9   lOCode                12487 non-null  int64  \n",
            " 10  lOComment             12487 non-null  int64  \n",
            " 11  lOBlank               12487 non-null  int64  \n",
            " 12  locCodeAndComment     12487 non-null  int64  \n",
            " 13  uniq_Op               12487 non-null  float64\n",
            " 14  uniq_Opnd             12487 non-null  float64\n",
            " 15  total_Op              12487 non-null  float64\n",
            " 16  total_Opnd            12487 non-null  float64\n",
            " 17  defects               12487 non-null  bool   \n",
            " 18  complexityEvaluation  12487 non-null  int64  \n",
            "dtypes: bool(1), float64(13), int64(5)\n",
            "memory usage: 1.8 MB\n"
          ],
          "name": "stdout"
        }
      ]
    },
    {
      "cell_type": "code",
      "metadata": {
        "id": "Raqb4aSIX_yH"
      },
      "source": [
        "# data.info()\n",
        "# data.head()\n",
        "# data.tail()\n",
        "# data.sample(10)\n",
        "# data.shape\n",
        "# data.describe()"
      ],
      "execution_count": null,
      "outputs": []
    },
    {
      "cell_type": "code",
      "metadata": {
        "id": "F1V1Se9VDQr0"
      },
      "source": [
        ""
      ],
      "execution_count": null,
      "outputs": []
    },
    {
      "cell_type": "code",
      "metadata": {
        "id": "kpiUjY5n_WiY"
      },
      "source": [
        ""
      ],
      "execution_count": null,
      "outputs": []
    },
    {
      "cell_type": "code",
      "metadata": {
        "colab": {
          "base_uri": "https://localhost:8080/"
        },
        "id": "qURhR1H4YM4-",
        "outputId": "b90e0e63-eb26-4b02-ff6e-807b430d62e8"
      },
      "source": [
        "defect_true_false = data.groupby('defects')['n'].apply(lambda x: x.count())\n",
        "print('False: ',defect_true_false[0])\n",
        "print('True: ',defect_true_false[1])"
      ],
      "execution_count": 22,
      "outputs": [
        {
          "output_type": "stream",
          "text": [
            "False:  10258\n",
            "True:  2229\n"
          ],
          "name": "stdout"
        }
      ]
    },
    {
      "cell_type": "code",
      "metadata": {
        "colab": {
          "base_uri": "https://localhost:8080/",
          "height": 658
        },
        "id": "z92loe-AYV8F",
        "outputId": "79be84f2-70d0-4605-9600-ae86c7f42822"
      },
      "source": [
        "data.corr()"
      ],
      "execution_count": 23,
      "outputs": [
        {
          "output_type": "execute_result",
          "data": {
            "text/html": [
              "<div>\n",
              "<style scoped>\n",
              "    .dataframe tbody tr th:only-of-type {\n",
              "        vertical-align: middle;\n",
              "    }\n",
              "\n",
              "    .dataframe tbody tr th {\n",
              "        vertical-align: top;\n",
              "    }\n",
              "\n",
              "    .dataframe thead th {\n",
              "        text-align: right;\n",
              "    }\n",
              "</style>\n",
              "<table border=\"1\" class=\"dataframe\">\n",
              "  <thead>\n",
              "    <tr style=\"text-align: right;\">\n",
              "      <th></th>\n",
              "      <th>loc</th>\n",
              "      <th>v(g)</th>\n",
              "      <th>n</th>\n",
              "      <th>v</th>\n",
              "      <th>l</th>\n",
              "      <th>d</th>\n",
              "      <th>i</th>\n",
              "      <th>e</th>\n",
              "      <th>t</th>\n",
              "      <th>lOCode</th>\n",
              "      <th>lOComment</th>\n",
              "      <th>lOBlank</th>\n",
              "      <th>locCodeAndComment</th>\n",
              "      <th>uniq_Op</th>\n",
              "      <th>uniq_Opnd</th>\n",
              "      <th>total_Op</th>\n",
              "      <th>total_Opnd</th>\n",
              "      <th>defects</th>\n",
              "      <th>complexityEvaluation</th>\n",
              "    </tr>\n",
              "  </thead>\n",
              "  <tbody>\n",
              "    <tr>\n",
              "      <th>loc</th>\n",
              "      <td>1.000000</td>\n",
              "      <td>0.818142</td>\n",
              "      <td>0.874426</td>\n",
              "      <td>0.892829</td>\n",
              "      <td>-0.283713</td>\n",
              "      <td>0.678781</td>\n",
              "      <td>0.499348</td>\n",
              "      <td>0.746096</td>\n",
              "      <td>0.746096</td>\n",
              "      <td>0.916912</td>\n",
              "      <td>0.545108</td>\n",
              "      <td>0.751185</td>\n",
              "      <td>0.167457</td>\n",
              "      <td>0.535864</td>\n",
              "      <td>0.749107</td>\n",
              "      <td>0.875292</td>\n",
              "      <td>0.858952</td>\n",
              "      <td>0.251386</td>\n",
              "      <td>0.495531</td>\n",
              "    </tr>\n",
              "    <tr>\n",
              "      <th>v(g)</th>\n",
              "      <td>0.818142</td>\n",
              "      <td>1.000000</td>\n",
              "      <td>0.739655</td>\n",
              "      <td>0.766912</td>\n",
              "      <td>-0.256216</td>\n",
              "      <td>0.671498</td>\n",
              "      <td>0.320689</td>\n",
              "      <td>0.704602</td>\n",
              "      <td>0.704602</td>\n",
              "      <td>0.796091</td>\n",
              "      <td>0.367694</td>\n",
              "      <td>0.512449</td>\n",
              "      <td>0.170271</td>\n",
              "      <td>0.648975</td>\n",
              "      <td>0.699822</td>\n",
              "      <td>0.752270</td>\n",
              "      <td>0.706466</td>\n",
              "      <td>0.206779</td>\n",
              "      <td>0.415667</td>\n",
              "    </tr>\n",
              "    <tr>\n",
              "      <th>n</th>\n",
              "      <td>0.874426</td>\n",
              "      <td>0.739655</td>\n",
              "      <td>1.000000</td>\n",
              "      <td>0.984736</td>\n",
              "      <td>-0.250106</td>\n",
              "      <td>0.807731</td>\n",
              "      <td>0.658375</td>\n",
              "      <td>0.709440</td>\n",
              "      <td>0.709440</td>\n",
              "      <td>0.924266</td>\n",
              "      <td>0.562946</td>\n",
              "      <td>0.751082</td>\n",
              "      <td>0.234261</td>\n",
              "      <td>0.625613</td>\n",
              "      <td>0.840598</td>\n",
              "      <td>0.995690</td>\n",
              "      <td>0.989739</td>\n",
              "      <td>0.202511</td>\n",
              "      <td>0.610250</td>\n",
              "    </tr>\n",
              "    <tr>\n",
              "      <th>v</th>\n",
              "      <td>0.892829</td>\n",
              "      <td>0.766912</td>\n",
              "      <td>0.984736</td>\n",
              "      <td>1.000000</td>\n",
              "      <td>-0.206846</td>\n",
              "      <td>0.751982</td>\n",
              "      <td>0.608841</td>\n",
              "      <td>0.790060</td>\n",
              "      <td>0.790060</td>\n",
              "      <td>0.942102</td>\n",
              "      <td>0.547939</td>\n",
              "      <td>0.744928</td>\n",
              "      <td>0.228778</td>\n",
              "      <td>0.619880</td>\n",
              "      <td>0.855708</td>\n",
              "      <td>0.982228</td>\n",
              "      <td>0.972352</td>\n",
              "      <td>0.188885</td>\n",
              "      <td>0.528950</td>\n",
              "    </tr>\n",
              "    <tr>\n",
              "      <th>l</th>\n",
              "      <td>-0.283713</td>\n",
              "      <td>-0.256216</td>\n",
              "      <td>-0.250106</td>\n",
              "      <td>-0.206846</td>\n",
              "      <td>1.000000</td>\n",
              "      <td>-0.359168</td>\n",
              "      <td>-0.180198</td>\n",
              "      <td>-0.064421</td>\n",
              "      <td>-0.064421</td>\n",
              "      <td>-0.218207</td>\n",
              "      <td>-0.165956</td>\n",
              "      <td>-0.215939</td>\n",
              "      <td>-0.097194</td>\n",
              "      <td>-0.330112</td>\n",
              "      <td>-0.247101</td>\n",
              "      <td>-0.246429</td>\n",
              "      <td>-0.250659</td>\n",
              "      <td>-0.153104</td>\n",
              "      <td>-0.282076</td>\n",
              "    </tr>\n",
              "    <tr>\n",
              "      <th>d</th>\n",
              "      <td>0.678781</td>\n",
              "      <td>0.671498</td>\n",
              "      <td>0.807731</td>\n",
              "      <td>0.751982</td>\n",
              "      <td>-0.359168</td>\n",
              "      <td>1.000000</td>\n",
              "      <td>0.396810</td>\n",
              "      <td>0.571093</td>\n",
              "      <td>0.571093</td>\n",
              "      <td>0.747489</td>\n",
              "      <td>0.459873</td>\n",
              "      <td>0.595822</td>\n",
              "      <td>0.195209</td>\n",
              "      <td>0.755736</td>\n",
              "      <td>0.633244</td>\n",
              "      <td>0.815878</td>\n",
              "      <td>0.779887</td>\n",
              "      <td>0.161742</td>\n",
              "      <td>0.631765</td>\n",
              "    </tr>\n",
              "    <tr>\n",
              "      <th>i</th>\n",
              "      <td>0.499348</td>\n",
              "      <td>0.320689</td>\n",
              "      <td>0.658375</td>\n",
              "      <td>0.608841</td>\n",
              "      <td>-0.180198</td>\n",
              "      <td>0.396810</td>\n",
              "      <td>1.000000</td>\n",
              "      <td>0.209748</td>\n",
              "      <td>0.209748</td>\n",
              "      <td>0.547244</td>\n",
              "      <td>0.405733</td>\n",
              "      <td>0.539179</td>\n",
              "      <td>0.208616</td>\n",
              "      <td>0.407936</td>\n",
              "      <td>0.739771</td>\n",
              "      <td>0.629130</td>\n",
              "      <td>0.692525</td>\n",
              "      <td>0.188864</td>\n",
              "      <td>0.579988</td>\n",
              "    </tr>\n",
              "    <tr>\n",
              "      <th>e</th>\n",
              "      <td>0.746096</td>\n",
              "      <td>0.704602</td>\n",
              "      <td>0.709440</td>\n",
              "      <td>0.790060</td>\n",
              "      <td>-0.064421</td>\n",
              "      <td>0.571093</td>\n",
              "      <td>0.209748</td>\n",
              "      <td>1.000000</td>\n",
              "      <td>1.000000</td>\n",
              "      <td>0.801289</td>\n",
              "      <td>0.334426</td>\n",
              "      <td>0.554811</td>\n",
              "      <td>0.099830</td>\n",
              "      <td>0.475164</td>\n",
              "      <td>0.565311</td>\n",
              "      <td>0.729182</td>\n",
              "      <td>0.666511</td>\n",
              "      <td>0.086464</td>\n",
              "      <td>0.177868</td>\n",
              "    </tr>\n",
              "    <tr>\n",
              "      <th>t</th>\n",
              "      <td>0.746096</td>\n",
              "      <td>0.704602</td>\n",
              "      <td>0.709440</td>\n",
              "      <td>0.790060</td>\n",
              "      <td>-0.064421</td>\n",
              "      <td>0.571093</td>\n",
              "      <td>0.209748</td>\n",
              "      <td>1.000000</td>\n",
              "      <td>1.000000</td>\n",
              "      <td>0.801289</td>\n",
              "      <td>0.334426</td>\n",
              "      <td>0.554811</td>\n",
              "      <td>0.099830</td>\n",
              "      <td>0.475164</td>\n",
              "      <td>0.565311</td>\n",
              "      <td>0.729182</td>\n",
              "      <td>0.666511</td>\n",
              "      <td>0.086464</td>\n",
              "      <td>0.177868</td>\n",
              "    </tr>\n",
              "    <tr>\n",
              "      <th>lOCode</th>\n",
              "      <td>0.916912</td>\n",
              "      <td>0.796091</td>\n",
              "      <td>0.924266</td>\n",
              "      <td>0.942102</td>\n",
              "      <td>-0.218207</td>\n",
              "      <td>0.747489</td>\n",
              "      <td>0.547244</td>\n",
              "      <td>0.801289</td>\n",
              "      <td>0.801289</td>\n",
              "      <td>1.000000</td>\n",
              "      <td>0.456543</td>\n",
              "      <td>0.721198</td>\n",
              "      <td>0.203561</td>\n",
              "      <td>0.639408</td>\n",
              "      <td>0.811419</td>\n",
              "      <td>0.923354</td>\n",
              "      <td>0.910651</td>\n",
              "      <td>0.199180</td>\n",
              "      <td>0.512963</td>\n",
              "    </tr>\n",
              "    <tr>\n",
              "      <th>lOComment</th>\n",
              "      <td>0.545108</td>\n",
              "      <td>0.367694</td>\n",
              "      <td>0.562946</td>\n",
              "      <td>0.547939</td>\n",
              "      <td>-0.165956</td>\n",
              "      <td>0.459873</td>\n",
              "      <td>0.405733</td>\n",
              "      <td>0.334426</td>\n",
              "      <td>0.334426</td>\n",
              "      <td>0.456543</td>\n",
              "      <td>1.000000</td>\n",
              "      <td>0.595156</td>\n",
              "      <td>0.235341</td>\n",
              "      <td>0.383299</td>\n",
              "      <td>0.513631</td>\n",
              "      <td>0.563552</td>\n",
              "      <td>0.551095</td>\n",
              "      <td>0.150226</td>\n",
              "      <td>0.413548</td>\n",
              "    </tr>\n",
              "    <tr>\n",
              "      <th>lOBlank</th>\n",
              "      <td>0.751185</td>\n",
              "      <td>0.512449</td>\n",
              "      <td>0.751082</td>\n",
              "      <td>0.744928</td>\n",
              "      <td>-0.215939</td>\n",
              "      <td>0.595822</td>\n",
              "      <td>0.539179</td>\n",
              "      <td>0.554811</td>\n",
              "      <td>0.554811</td>\n",
              "      <td>0.721198</td>\n",
              "      <td>0.595156</td>\n",
              "      <td>1.000000</td>\n",
              "      <td>0.078850</td>\n",
              "      <td>0.473805</td>\n",
              "      <td>0.650895</td>\n",
              "      <td>0.752556</td>\n",
              "      <td>0.737437</td>\n",
              "      <td>0.191402</td>\n",
              "      <td>0.484256</td>\n",
              "    </tr>\n",
              "    <tr>\n",
              "      <th>locCodeAndComment</th>\n",
              "      <td>0.167457</td>\n",
              "      <td>0.170271</td>\n",
              "      <td>0.234261</td>\n",
              "      <td>0.228778</td>\n",
              "      <td>-0.097194</td>\n",
              "      <td>0.195209</td>\n",
              "      <td>0.208616</td>\n",
              "      <td>0.099830</td>\n",
              "      <td>0.099830</td>\n",
              "      <td>0.203561</td>\n",
              "      <td>0.235341</td>\n",
              "      <td>0.078850</td>\n",
              "      <td>1.000000</td>\n",
              "      <td>0.218979</td>\n",
              "      <td>0.294823</td>\n",
              "      <td>0.224167</td>\n",
              "      <td>0.244458</td>\n",
              "      <td>0.053880</td>\n",
              "      <td>0.232208</td>\n",
              "    </tr>\n",
              "    <tr>\n",
              "      <th>uniq_Op</th>\n",
              "      <td>0.535864</td>\n",
              "      <td>0.648975</td>\n",
              "      <td>0.625613</td>\n",
              "      <td>0.619880</td>\n",
              "      <td>-0.330112</td>\n",
              "      <td>0.755736</td>\n",
              "      <td>0.407936</td>\n",
              "      <td>0.475164</td>\n",
              "      <td>0.475164</td>\n",
              "      <td>0.639408</td>\n",
              "      <td>0.383299</td>\n",
              "      <td>0.473805</td>\n",
              "      <td>0.218979</td>\n",
              "      <td>1.000000</td>\n",
              "      <td>0.778459</td>\n",
              "      <td>0.630052</td>\n",
              "      <td>0.606471</td>\n",
              "      <td>0.152714</td>\n",
              "      <td>0.501524</td>\n",
              "    </tr>\n",
              "    <tr>\n",
              "      <th>uniq_Opnd</th>\n",
              "      <td>0.749107</td>\n",
              "      <td>0.699822</td>\n",
              "      <td>0.840598</td>\n",
              "      <td>0.855708</td>\n",
              "      <td>-0.247101</td>\n",
              "      <td>0.633244</td>\n",
              "      <td>0.739771</td>\n",
              "      <td>0.565311</td>\n",
              "      <td>0.565311</td>\n",
              "      <td>0.811419</td>\n",
              "      <td>0.513631</td>\n",
              "      <td>0.650895</td>\n",
              "      <td>0.294823</td>\n",
              "      <td>0.778459</td>\n",
              "      <td>1.000000</td>\n",
              "      <td>0.822329</td>\n",
              "      <td>0.854258</td>\n",
              "      <td>0.207470</td>\n",
              "      <td>0.586355</td>\n",
              "    </tr>\n",
              "    <tr>\n",
              "      <th>total_Op</th>\n",
              "      <td>0.875292</td>\n",
              "      <td>0.752270</td>\n",
              "      <td>0.995690</td>\n",
              "      <td>0.982228</td>\n",
              "      <td>-0.246429</td>\n",
              "      <td>0.815878</td>\n",
              "      <td>0.629130</td>\n",
              "      <td>0.729182</td>\n",
              "      <td>0.729182</td>\n",
              "      <td>0.923354</td>\n",
              "      <td>0.563552</td>\n",
              "      <td>0.752556</td>\n",
              "      <td>0.224167</td>\n",
              "      <td>0.630052</td>\n",
              "      <td>0.822329</td>\n",
              "      <td>1.000000</td>\n",
              "      <td>0.973032</td>\n",
              "      <td>0.200240</td>\n",
              "      <td>0.597165</td>\n",
              "    </tr>\n",
              "    <tr>\n",
              "      <th>total_Opnd</th>\n",
              "      <td>0.858952</td>\n",
              "      <td>0.706466</td>\n",
              "      <td>0.989739</td>\n",
              "      <td>0.972352</td>\n",
              "      <td>-0.250659</td>\n",
              "      <td>0.779887</td>\n",
              "      <td>0.692525</td>\n",
              "      <td>0.666511</td>\n",
              "      <td>0.666511</td>\n",
              "      <td>0.910651</td>\n",
              "      <td>0.551095</td>\n",
              "      <td>0.737437</td>\n",
              "      <td>0.244458</td>\n",
              "      <td>0.606471</td>\n",
              "      <td>0.854258</td>\n",
              "      <td>0.973032</td>\n",
              "      <td>1.000000</td>\n",
              "      <td>0.201245</td>\n",
              "      <td>0.617836</td>\n",
              "    </tr>\n",
              "    <tr>\n",
              "      <th>defects</th>\n",
              "      <td>0.251386</td>\n",
              "      <td>0.206779</td>\n",
              "      <td>0.202511</td>\n",
              "      <td>0.188885</td>\n",
              "      <td>-0.153104</td>\n",
              "      <td>0.161742</td>\n",
              "      <td>0.188864</td>\n",
              "      <td>0.086464</td>\n",
              "      <td>0.086464</td>\n",
              "      <td>0.199180</td>\n",
              "      <td>0.150226</td>\n",
              "      <td>0.191402</td>\n",
              "      <td>0.053880</td>\n",
              "      <td>0.152714</td>\n",
              "      <td>0.207470</td>\n",
              "      <td>0.200240</td>\n",
              "      <td>0.201245</td>\n",
              "      <td>1.000000</td>\n",
              "      <td>0.202562</td>\n",
              "    </tr>\n",
              "    <tr>\n",
              "      <th>complexityEvaluation</th>\n",
              "      <td>0.495531</td>\n",
              "      <td>0.415667</td>\n",
              "      <td>0.610250</td>\n",
              "      <td>0.528950</td>\n",
              "      <td>-0.282076</td>\n",
              "      <td>0.631765</td>\n",
              "      <td>0.579988</td>\n",
              "      <td>0.177868</td>\n",
              "      <td>0.177868</td>\n",
              "      <td>0.512963</td>\n",
              "      <td>0.413548</td>\n",
              "      <td>0.484256</td>\n",
              "      <td>0.232208</td>\n",
              "      <td>0.501524</td>\n",
              "      <td>0.586355</td>\n",
              "      <td>0.597165</td>\n",
              "      <td>0.617836</td>\n",
              "      <td>0.202562</td>\n",
              "      <td>1.000000</td>\n",
              "    </tr>\n",
              "  </tbody>\n",
              "</table>\n",
              "</div>"
            ],
            "text/plain": [
              "                           loc      v(g)  ...   defects  complexityEvaluation\n",
              "loc                   1.000000  0.818142  ...  0.251386              0.495531\n",
              "v(g)                  0.818142  1.000000  ...  0.206779              0.415667\n",
              "n                     0.874426  0.739655  ...  0.202511              0.610250\n",
              "v                     0.892829  0.766912  ...  0.188885              0.528950\n",
              "l                    -0.283713 -0.256216  ... -0.153104             -0.282076\n",
              "d                     0.678781  0.671498  ...  0.161742              0.631765\n",
              "i                     0.499348  0.320689  ...  0.188864              0.579988\n",
              "e                     0.746096  0.704602  ...  0.086464              0.177868\n",
              "t                     0.746096  0.704602  ...  0.086464              0.177868\n",
              "lOCode                0.916912  0.796091  ...  0.199180              0.512963\n",
              "lOComment             0.545108  0.367694  ...  0.150226              0.413548\n",
              "lOBlank               0.751185  0.512449  ...  0.191402              0.484256\n",
              "locCodeAndComment     0.167457  0.170271  ...  0.053880              0.232208\n",
              "uniq_Op               0.535864  0.648975  ...  0.152714              0.501524\n",
              "uniq_Opnd             0.749107  0.699822  ...  0.207470              0.586355\n",
              "total_Op              0.875292  0.752270  ...  0.200240              0.597165\n",
              "total_Opnd            0.858952  0.706466  ...  0.201245              0.617836\n",
              "defects               0.251386  0.206779  ...  1.000000              0.202562\n",
              "complexityEvaluation  0.495531  0.415667  ...  0.202562              1.000000\n",
              "\n",
              "[19 rows x 19 columns]"
            ]
          },
          "metadata": {
            "tags": []
          },
          "execution_count": 23
        }
      ]
    },
    {
      "cell_type": "code",
      "metadata": {
        "colab": {
          "base_uri": "https://localhost:8080/",
          "height": 965
        },
        "id": "CrsoGntLYZR6",
        "outputId": "569c3771-e6a7-44a2-ac93-8c2587130b4d"
      },
      "source": [
        "import matplotlib.pyplot as plt \n",
        "import seaborn as sns\n",
        "f,ax = plt.subplots(figsize = (15, 15))\n",
        "sns.heatmap(data.corr(), annot = True, linewidths = .5, fmt = '.2f')\n",
        "plt.show()"
      ],
      "execution_count": null,
      "outputs": [
        {
          "output_type": "display_data",
          "data": {
            "image/png": "[encoded data removed]",
            "text/plain": [
              "<Figure size 1080x1080 with 2 Axes>"
            ]
          },
          "metadata": {
            "tags": [],
            "needs_background": "light"
          }
        }
      ]
    },
    {
      "cell_type": "code",
      "metadata": {
        "colab": {
          "base_uri": "https://localhost:8080/"
        },
        "id": "yhsPbnZ_YeOX",
        "outputId": "53e19dd9-d09c-4823-b5f3-388f10f0e41e"
      },
      "source": [
        "data.isnull().sum()"
      ],
      "execution_count": null,
      "outputs": [
        {
          "output_type": "execute_result",
          "data": {
            "text/plain": [
              "loc                     0\n",
              "v(g)                    0\n",
              "n                       0\n",
              "v                       0\n",
              "l                       0\n",
              "d                       0\n",
              "i                       0\n",
              "e                       0\n",
              "t                       0\n",
              "lOCode                  0\n",
              "lOComment               0\n",
              "lOBlank                 0\n",
              "locCodeAndComment       0\n",
              "uniq_Op                 0\n",
              "uniq_Opnd               0\n",
              "total_Op                0\n",
              "total_Opnd              0\n",
              "defects                 0\n",
              "complexityEvaluation    0\n",
              "dtype: int64"
            ]
          },
          "metadata": {
            "tags": []
          },
          "execution_count": 24
        }
      ]
    },
    {
      "cell_type": "code",
      "metadata": {
        "colab": {
          "base_uri": "https://localhost:8080/"
        },
        "id": "bYboS71lYjF9",
        "outputId": "3c4e1f0a-7f0c-41cc-a3ae-c06e10d8eb3d"
      },
      "source": [
        "data.groupby(\"complexityEvaluation\").size()"
      ],
      "execution_count": null,
      "outputs": [
        {
          "output_type": "execute_result",
          "data": {
            "text/plain": [
              "complexityEvaluation\n",
              "0    10452\n",
              "1     2035\n",
              "dtype: int64"
            ]
          },
          "metadata": {
            "tags": []
          },
          "execution_count": 25
        }
      ]
    },
    {
      "cell_type": "markdown",
      "metadata": {
        "id": "h0eVw5b2O6wb"
      },
      "source": [
        "### feature selection"
      ]
    },
    {
      "cell_type": "code",
      "metadata": {
        "id": "R5LS_vO8cn-A"
      },
      "source": [
        "X = pd.DataFrame(data.drop(['defects'],axis=1))\n",
        "Y = data['defects']\n",
        "Y = pd.DataFrame(Y)\n"
      ],
      "execution_count": 25,
      "outputs": []
    },
    {
      "cell_type": "markdown",
      "metadata": {
        "id": "mBnPWznaaotr"
      },
      "source": [
        "### Sampling\n",
        "Sampling is a method that allows us to get information about the population based on the statistics from a subset of the population (sample), without having to investigate every individual.\n",
        "* a sample is a part of population\n",
        "----\n",
        "<b> Imbalanced Class Distribution</b> , generally happens when observations in one of the classes are much higher or lower than any other classes.As Machine Learning algorithms tend to increase accuracy by reducing the error, they do not consider the class distribution\n",
        "\n",
        "-----\n",
        "<b>Some methods to solve these issues are </b>\n",
        "  * Random Over-sampling :<br>\n",
        "It aims to balance class distribution by randomly increasing minority class examples by replicating them.<br>\n",
        "\n",
        "* SMOTE (Synthetic Minority Oversampling Technique) <br>synthesises new minority instances between existing minority instances. It randomly picks up the minority class and calculates the K-nearest neighbour for that particular point. Finally, the synthetic points are added between the neighbours and the chosen spot.\n",
        "\n",
        "* Random Under-Sampling: <br>\n",
        "It aims to balance class distribution by randomly eliminating majority class\n",
        "\n"
      ]
    },
    {
      "cell_type": "code",
      "metadata": {
        "colab": {
          "base_uri": "https://localhost:8080/"
        },
        "id": "jWK4zW97a1h_",
        "outputId": "96aed7f5-cc39-435c-cc3d-dfbef041e5c7"
      },
      "source": [
        "#now we resample, and from that we take training and validation sets\n",
        "from imblearn.over_sampling import SMOTE\n",
        "\n",
        "\n",
        "sm = SMOTE(random_state=12, ratio = 1.0)\n",
        "x,y = sm.fit_sample(X,Y)\n",
        "y = pd.DataFrame(y, columns=['defects'])\n",
        "x= pd.DataFrame(x, columns=X.columns)"
      ],
      "execution_count": 26,
      "outputs": [
        {
          "output_type": "stream",
          "text": [
            "/usr/local/lib/python3.7/dist-packages/sklearn/utils/validation.py:760: DataConversionWarning: A column-vector y was passed when a 1d array was expected. Please change the shape of y to (n_samples, ), for example using ravel().\n",
            "  y = column_or_1d(y, warn=True)\n",
            "/usr/local/lib/python3.7/dist-packages/sklearn/utils/deprecation.py:87: FutureWarning: Function safe_indexing is deprecated; safe_indexing is deprecated in version 0.22 and will be removed in version 0.24.\n",
            "  warnings.warn(msg, category=FutureWarning)\n"
          ],
          "name": "stderr"
        }
      ]
    },
    {
      "cell_type": "code",
      "metadata": {
        "colab": {
          "base_uri": "https://localhost:8080/"
        },
        "id": "ftp1IM9i6R7e",
        "outputId": "b6033044-9700-4efd-88e8-edc3b20c20bd"
      },
      "source": [
        "x.info()"
      ],
      "execution_count": 27,
      "outputs": [
        {
          "output_type": "stream",
          "text": [
            "<class 'pandas.core.frame.DataFrame'>\n",
            "RangeIndex: 20516 entries, 0 to 20515\n",
            "Data columns (total 18 columns):\n",
            " #   Column                Non-Null Count  Dtype  \n",
            "---  ------                --------------  -----  \n",
            " 0   loc                   20516 non-null  float64\n",
            " 1   v(g)                  20516 non-null  float64\n",
            " 2   n                     20516 non-null  float64\n",
            " 3   v                     20516 non-null  float64\n",
            " 4   l                     20516 non-null  float64\n",
            " 5   d                     20516 non-null  float64\n",
            " 6   i                     20516 non-null  float64\n",
            " 7   e                     20516 non-null  float64\n",
            " 8   t                     20516 non-null  float64\n",
            " 9   lOCode                20516 non-null  float64\n",
            " 10  lOComment             20516 non-null  float64\n",
            " 11  lOBlank               20516 non-null  float64\n",
            " 12  locCodeAndComment     20516 non-null  float64\n",
            " 13  uniq_Op               20516 non-null  float64\n",
            " 14  uniq_Opnd             20516 non-null  float64\n",
            " 15  total_Op              20516 non-null  float64\n",
            " 16  total_Opnd            20516 non-null  float64\n",
            " 17  complexityEvaluation  20516 non-null  float64\n",
            "dtypes: float64(18)\n",
            "memory usage: 2.8 MB\n"
          ],
          "name": "stdout"
        }
      ]
    },
    {
      "cell_type": "code",
      "metadata": {
        "colab": {
          "base_uri": "https://localhost:8080/",
          "height": 419
        },
        "id": "wsWqmgN7-dZG",
        "outputId": "35994287-0a2f-4d52-a3cd-d03c05dcd853"
      },
      "source": [
        "y"
      ],
      "execution_count": null,
      "outputs": [
        {
          "output_type": "execute_result",
          "data": {
            "text/html": [
              "<div>\n",
              "<style scoped>\n",
              "    .dataframe tbody tr th:only-of-type {\n",
              "        vertical-align: middle;\n",
              "    }\n",
              "\n",
              "    .dataframe tbody tr th {\n",
              "        vertical-align: top;\n",
              "    }\n",
              "\n",
              "    .dataframe thead th {\n",
              "        text-align: right;\n",
              "    }\n",
              "</style>\n",
              "<table border=\"1\" class=\"dataframe\">\n",
              "  <thead>\n",
              "    <tr style=\"text-align: right;\">\n",
              "      <th></th>\n",
              "      <th>defects</th>\n",
              "    </tr>\n",
              "  </thead>\n",
              "  <tbody>\n",
              "    <tr>\n",
              "      <th>0</th>\n",
              "      <td>False</td>\n",
              "    </tr>\n",
              "    <tr>\n",
              "      <th>1</th>\n",
              "      <td>True</td>\n",
              "    </tr>\n",
              "    <tr>\n",
              "      <th>2</th>\n",
              "      <td>False</td>\n",
              "    </tr>\n",
              "    <tr>\n",
              "      <th>3</th>\n",
              "      <td>False</td>\n",
              "    </tr>\n",
              "    <tr>\n",
              "      <th>4</th>\n",
              "      <td>False</td>\n",
              "    </tr>\n",
              "    <tr>\n",
              "      <th>...</th>\n",
              "      <td>...</td>\n",
              "    </tr>\n",
              "    <tr>\n",
              "      <th>20511</th>\n",
              "      <td>True</td>\n",
              "    </tr>\n",
              "    <tr>\n",
              "      <th>20512</th>\n",
              "      <td>True</td>\n",
              "    </tr>\n",
              "    <tr>\n",
              "      <th>20513</th>\n",
              "      <td>True</td>\n",
              "    </tr>\n",
              "    <tr>\n",
              "      <th>20514</th>\n",
              "      <td>True</td>\n",
              "    </tr>\n",
              "    <tr>\n",
              "      <th>20515</th>\n",
              "      <td>True</td>\n",
              "    </tr>\n",
              "  </tbody>\n",
              "</table>\n",
              "<p>20516 rows × 1 columns</p>\n",
              "</div>"
            ],
            "text/plain": [
              "       defects\n",
              "0        False\n",
              "1         True\n",
              "2        False\n",
              "3        False\n",
              "4        False\n",
              "...        ...\n",
              "20511     True\n",
              "20512     True\n",
              "20513     True\n",
              "20514     True\n",
              "20515     True\n",
              "\n",
              "[20516 rows x 1 columns]"
            ]
          },
          "metadata": {
            "tags": []
          },
          "execution_count": 29
        }
      ]
    },
    {
      "cell_type": "markdown",
      "metadata": {
        "id": "bJPzM3S-PeK0"
      },
      "source": [
        "### Preprocessing data"
      ]
    },
    {
      "cell_type": "code",
      "metadata": {
        "id": "ESvYTRJvLNrA"
      },
      "source": [
        "x1 = x.values # converting dataframes to numpy\n",
        "y1= y.values"
      ],
      "execution_count": 28,
      "outputs": []
    },
    {
      "cell_type": "code",
      "metadata": {
        "colab": {
          "base_uri": "https://localhost:8080/"
        },
        "id": "XZsUXNXMAFF5",
        "outputId": "7932b6d3-fa3c-43bd-866a-d6666ef8fbfa"
      },
      "source": [
        "# Encoding the Dependent Variable\n",
        "from sklearn.preprocessing import LabelEncoder\n",
        "labelencoder_y = LabelEncoder()\n",
        "y = labelencoder_y.fit_transform(y1)"
      ],
      "execution_count": 29,
      "outputs": [
        {
          "output_type": "stream",
          "text": [
            "/usr/local/lib/python3.7/dist-packages/sklearn/preprocessing/_label.py:251: DataConversionWarning: A column-vector y was passed when a 1d array was expected. Please change the shape of y to (n_samples, ), for example using ravel().\n",
            "  y = column_or_1d(y, warn=True)\n"
          ],
          "name": "stderr"
        }
      ]
    },
    {
      "cell_type": "code",
      "metadata": {
        "id": "6TJ1Cl5DAICG"
      },
      "source": [
        "\n",
        "# Splitting the dataset into the Training set and Test set\n",
        "from sklearn.model_selection import train_test_split\n",
        "X_train, X_test, y_train, y_test = train_test_split(x1, y, test_size = 0.25, random_state = 0)\n",
        "\n",
        "# Feature Scaling\n",
        "from sklearn.preprocessing import StandardScaler\n",
        "sc = StandardScaler()\n",
        "X_train = sc.fit_transform(X_train)\n",
        "X_test = sc.transform(X_test)"
      ],
      "execution_count": 30,
      "outputs": []
    },
    {
      "cell_type": "markdown",
      "metadata": {
        "id": "OEUS7mbTDgZt"
      },
      "source": [
        "### Dimensionality reduction"
      ]
    },
    {
      "cell_type": "markdown",
      "metadata": {
        "id": "SUpAAZdFLOnn"
      },
      "source": [
        "there are three popular dimensionality reduction techniques that are used. \n",
        "\n",
        "  1. Principal Component Analysis (PCA)\n",
        "  2. Linear Discriminant Analysis (LDA), and\n",
        "  3. Kernel PCA (KPCA)\n",
        "  ----\n",
        "  The PCA and LDA are applied in dimensionality reduction when we have a linear problem in hand that means there is a linear relationship between input and output variables. On the other hand, the Kernel PCA is applied when we have a nonlinear problem in hand that means there is a nonlinear relationship between input and output variables\n"
      ]
    },
    {
      "cell_type": "code",
      "metadata": {
        "colab": {
          "base_uri": "https://localhost:8080/"
        },
        "id": "xo3ld0CErGs9",
        "outputId": "e51056fc-dde6-4812-c5ec-81ede455343e"
      },
      "source": [
        "len(X_train[0])"
      ],
      "execution_count": 31,
      "outputs": [
        {
          "output_type": "execute_result",
          "data": {
            "text/plain": [
              "18"
            ]
          },
          "metadata": {
            "tags": []
          },
          "execution_count": 31
        }
      ]
    },
    {
      "cell_type": "code",
      "metadata": {
        "id": "byr_SCKh4CZ7"
      },
      "source": [
        "# Applying Dimensionality reduction\n",
        "\n",
        "\n",
        "from sklearn.decomposition import PCA\n",
        "pca = PCA(n_components = 6)\n",
        "X_train = pca.fit_transform(X_train)\n",
        "X_test = pca.transform(X_test)\n",
        "explained_variance = pca.explained_variance_ratio_\n"
      ],
      "execution_count": 32,
      "outputs": []
    },
    {
      "cell_type": "code",
      "metadata": {
        "colab": {
          "base_uri": "https://localhost:8080/"
        },
        "id": "U3qz09mJ5WPD",
        "outputId": "2497ec51-15df-4d0d-bdd3-333bb699819e"
      },
      "source": [
        "len(X_train[0])  # 18 features to 6 features"
      ],
      "execution_count": 33,
      "outputs": [
        {
          "output_type": "execute_result",
          "data": {
            "text/plain": [
              "6"
            ]
          },
          "metadata": {
            "tags": []
          },
          "execution_count": 33
        }
      ]
    },
    {
      "cell_type": "code",
      "metadata": {
        "colab": {
          "base_uri": "https://localhost:8080/"
        },
        "id": "Y7uTmXGdA3Wa",
        "outputId": "f857a9b6-28dc-4c49-c027-58bd7f809a23"
      },
      "source": [
        "X_train.shape"
      ],
      "execution_count": 34,
      "outputs": [
        {
          "output_type": "execute_result",
          "data": {
            "text/plain": [
              "(15387, 6)"
            ]
          },
          "metadata": {
            "tags": []
          },
          "execution_count": 34
        }
      ]
    },
    {
      "cell_type": "code",
      "metadata": {
        "id": "IjvlAk2TMHF-"
      },
      "source": [
        "\n",
        "#from sklearn.decomposition import KernelPCA\n",
        "#kpca = KernelPCA(n_components = 6, kernel = 'rbf')\n",
        "#X_train = kpca.fit_transform(X_train)\n",
        "#X_test = kpca.transform(X_test)\n"
      ],
      "execution_count": null,
      "outputs": []
    },
    {
      "cell_type": "markdown",
      "metadata": {
        "id": "TfmTtjP6xFRb"
      },
      "source": [
        "### Defining and training models"
      ]
    },
    {
      "cell_type": "code",
      "metadata": {
        "id": "WchlgswYxLap"
      },
      "source": [
        "def NN(X_train, y_train):\n",
        "\n",
        "    X_train= pd.DataFrame(X_train)\n",
        "    y_train= pd.DataFrame(y_train)   \n",
        "    # Importing the Keras libraries and packages\n",
        "    import keras\n",
        "    from keras.models import Sequential\n",
        "    from keras.layers import Dense\n",
        "    \n",
        "    model= Sequential([\n",
        "    Dense(1000, activation='relu', input_shape=(6)),\n",
        "    Dense(1000, activation='relu'),\n",
        "    Dense(1000, activation='relu'),\n",
        "    Dense(1000, activation='relu'),\n",
        "    Dense(1, activation='sigmoid'),\n",
        "])\n",
        "\n",
        "\n",
        "    # Compiling the ANN\n",
        "    \n",
        "    model.compile(optimizer = 'adam', loss = 'binary_crossentropy', metrics = ['accuracy'])\n",
        "    # Fitting the ANN to the Training set\n",
        "    model.fit(X_train, y_train, batch_size = 10, nb_epoch = 100)\n",
        "    \n",
        "    \n",
        "    \n",
        "    return model"
      ],
      "execution_count": 35,
      "outputs": []
    },
    {
      "cell_type": "code",
      "metadata": {
        "id": "dy2xypJYHoOl"
      },
      "source": [
        "def knn(x_train,y_train):\n",
        "  \n",
        "  from sklearn.neighbors import KNeighborsClassifier\n",
        "  neigh = KNeighborsClassifier\n",
        "  clf = neigh(n_neighbors = 10)\n",
        "  clf.fit(X_train, y_train)\n",
        "  return clf"
      ],
      "execution_count": 36,
      "outputs": []
    },
    {
      "cell_type": "code",
      "metadata": {
        "id": "jZF9f02eGX4R"
      },
      "source": [
        "#Creation of Naive Bayes model\n",
        "def naive_bayes(x_train, y_train): \n",
        "  from sklearn.naive_bayes import GaussianNB\n",
        "  model = GaussianNB()\n",
        "  model.fit(X_train, y_train)\n",
        "  return model\n"
      ],
      "execution_count": 38,
      "outputs": []
    },
    {
      "cell_type": "code",
      "metadata": {
        "id": "P1vr0XhmGtWu"
      },
      "source": [
        "def decision_tree(x_train, y_train):\n",
        "  from sklearn import tree\n",
        "  model = tree.DecisionTreeClassifier()\n",
        "  model.fit(X_train, y_train)\n",
        "  return model"
      ],
      "execution_count": 39,
      "outputs": []
    },
    {
      "cell_type": "code",
      "metadata": {
        "id": "2hqlekUPxVde"
      },
      "source": [
        "def random_forest(x_train,y_train):\n",
        "    from sklearn.ensemble import RandomForestClassifier\n",
        "    clf = RandomForestClassifier(n_estimators=100, max_depth=5,random_state=0)\n",
        "    clf.fit(x_train, y_train)\n",
        "    return clf"
      ],
      "execution_count": 40,
      "outputs": []
    },
    {
      "cell_type": "code",
      "metadata": {
        "id": "HCrcnbQdxdEU"
      },
      "source": [
        "def svm ( x_train,y_train):\n",
        "    from sklearn.svm import SVC\n",
        "    clf = SVC(gamma='auto')\n",
        "    clf.fit(x_train, y_train)\n",
        "    return clf"
      ],
      "execution_count": 41,
      "outputs": []
    },
    {
      "cell_type": "code",
      "metadata": {
        "id": "OE_PDkXexhP6"
      },
      "source": [
        "def cnn(x_train,y_train):\n",
        "    from keras.models import Sequential\n",
        "    from keras.layers import Dense,Dropout,Conv2D,Conv1D,Flatten,MaxPool2D    \n",
        "\n",
        "    \n",
        "    #img_rows, img_cols = 1,6\n",
        "    \n",
        "    #x_train1 = x_train_matrix.reshape(x_train.shape[0], img_rows, img_cols, 1)\n",
        "    #x_val1 = x_val_matrix.reshape(x_val_matrix.shape[0], img_rows, img_cols, 1)\n",
        "    #input_shape = (img_rows, img_cols, 1)\n",
        "\n",
        "    model = Sequential()\n",
        "    #add model layers\n",
        "    model.add(Conv2D(64, kernel_size=1, activation='relu',input_shape=(None,6,)))\n",
        "    model.add(Conv2D(32, kernel_size=1, activation='relu'))\n",
        "    model.add(Conv2D(16, kernel_size=1, activation='relu'))\n",
        "    \n",
        "    \n",
        "#   model.add(MaxPool2D(pool_size=(1,8)))\n",
        "    #model.add(Dropout(0.2))\n",
        "    model.add(Flatten())\n",
        "    model.add(Dense(8, activation='relu'))\n",
        "    model.add(Dense(1, activation='sigmoid'))\n",
        "    #compile model using accuracy to measure model performance\n",
        "    model.compile(optimizer='adam', loss='binary_crossentropy', metrics=['accuracy'])\n",
        "    #train the model\n",
        "    model.fit(x_train, y_train, epochs=40)    \n",
        "    #y_pred = model.predict(x_val1)>0.5\n",
        "    #y_pred_df = pd.DataFrame(y_pred)\n",
        "    \n",
        "    return model  "
      ],
      "execution_count": 42,
      "outputs": []
    },
    {
      "cell_type": "code",
      "metadata": {
        "id": "sfKzMkHomZaT"
      },
      "source": [
        "from keras.models import *\n",
        "from keras.layers import *\n",
        "\n",
        "def lstm(x_train, y_train):\n",
        "  \n",
        "  model = Sequential()\n",
        "\n",
        "  model.add(LSTM(\n",
        "          input_dim=6,\n",
        "          units=100,\n",
        "          return_sequences=True))\n",
        "  model.add(Dropout(0.2))\n",
        "\n",
        "  model.add(LSTM(\n",
        "            units=50,\n",
        "            return_sequences=False))\n",
        "  model.add(Dropout(0.2))\n",
        "\n",
        "  model.add(Dense(units=2, activation='sigmoid'))\n",
        "  model.compile(loss='binary_crossentropy', optimizer='adam', metrics=['accuracy'])\n",
        "  model.fit(x_train,y_train)\n",
        "  return model"
      ],
      "execution_count": 43,
      "outputs": []
    },
    {
      "cell_type": "markdown",
      "metadata": {
        "id": "oWNMPKTMxp9c"
      },
      "source": [
        "### Training model"
      ]
    },
    {
      "cell_type": "code",
      "metadata": {
        "id": "4aycUENrEFGy"
      },
      "source": [
        "knn = knn(X_train,y_train)\n",
        "nb = naive_bayes(X_train,y_train)\n",
        "dt = decision_tree(X_train,y_train)\n",
        "rf = random_forest(X_train,y_train)\n",
        "svm= svm(X_train,y_train)\n"
      ],
      "execution_count": 44,
      "outputs": []
    },
    {
      "cell_type": "markdown",
      "metadata": {
        "id": "MTVX6W7Ziuhb"
      },
      "source": [
        "### Performance Check"
      ]
    },
    {
      "cell_type": "code",
      "metadata": {
        "id": "mNImYG5eG27I"
      },
      "source": [
        "\n",
        "from sklearn.metrics import *\n",
        "\n",
        "def performance(model):\n",
        "\n",
        "  \n",
        "\n",
        "  print(model)\n",
        "  print(\"\\n----------------------------------------------\\n\")\n",
        "\n",
        "  y_pred_on_test = model.predict(X_test)\n",
        "\n",
        "  #print('Accuracy:',accuracy_score(y_test,y_pred_on_test))\n",
        "  print('Accuracy:',balanced_accuracy_score(y_test,y_pred_on_test))\n",
        "  print('Avg Precision:', average_precision_score(y_test,y_pred_on_test))\n",
        "  print('f1_score:', f1_score(y_test,y_pred_on_test))\n",
        "  print('Precision:', precision_score(y_test,y_pred_on_test))\n",
        "  print('Recall:', recall_score(y_test, y_pred_on_test))\n",
        "  print('ROC_AUC:',roc_auc_score(y_test,y_pred_on_test))\n",
        "\n",
        "  print(\"\\n========================================\\n\\n\")"
      ],
      "execution_count": 45,
      "outputs": []
    },
    {
      "cell_type": "code",
      "metadata": {
        "colab": {
          "base_uri": "https://localhost:8080/"
        },
        "id": "NltELJZLSLK_",
        "outputId": "196c6514-d8bd-4386-80fa-d033645a21f2"
      },
      "source": [
        "for i in [knn,nb,dt,rf, svm]:\n",
        "  performance(i)"
      ],
      "execution_count": 46,
      "outputs": [
        {
          "output_type": "stream",
          "text": [
            "KNeighborsClassifier(algorithm='auto', leaf_size=30, metric='minkowski',\n",
            "                     metric_params=None, n_jobs=None, n_neighbors=10, p=2,\n",
            "                     weights='uniform')\n",
            "\n",
            "----------------------------------------------\n",
            "\n",
            "Accuracy: 0.7315120473701322\n",
            "Avg Precision: 0.6735484284488111\n",
            "f1_score: 0.733913043478261\n",
            "Precision: 0.7349071207430341\n",
            "Recall: 0.7329216518718642\n",
            "ROC_AUC: 0.7315120473701322\n",
            "\n",
            "========================================\n",
            "\n",
            "\n",
            "GaussianNB(priors=None, var_smoothing=1e-09)\n",
            "\n",
            "----------------------------------------------\n",
            "\n",
            "Accuracy: 0.5668469902027964\n",
            "Avg Precision: 0.5500992070763587\n",
            "f1_score: 0.37416107382550334\n",
            "Precision: 0.6791878172588832\n",
            "Recall: 0.2582014666152065\n",
            "ROC_AUC: 0.5668469902027964\n",
            "\n",
            "========================================\n",
            "\n",
            "\n",
            "DecisionTreeClassifier(ccp_alpha=0.0, class_weight=None, criterion='gini',\n",
            "                       max_depth=None, max_features=None, max_leaf_nodes=None,\n",
            "                       min_impurity_decrease=0.0, min_impurity_split=None,\n",
            "                       min_samples_leaf=1, min_samples_split=2,\n",
            "                       min_weight_fraction_leaf=0.0, presort='deprecated',\n",
            "                       random_state=None, splitter='best')\n",
            "\n",
            "----------------------------------------------\n",
            "\n",
            "Accuracy: 0.7247095404198141\n",
            "Avg Precision: 0.6673116665485395\n",
            "f1_score: 0.726568551510457\n",
            "Precision: 0.7291099883404586\n",
            "Recall: 0.7240447703589348\n",
            "ROC_AUC: 0.7247095404198142\n",
            "\n",
            "========================================\n",
            "\n",
            "\n",
            "RandomForestClassifier(bootstrap=True, ccp_alpha=0.0, class_weight=None,\n",
            "                       criterion='gini', max_depth=5, max_features='auto',\n",
            "                       max_leaf_nodes=None, max_samples=None,\n",
            "                       min_impurity_decrease=0.0, min_impurity_split=None,\n",
            "                       min_samples_leaf=1, min_samples_split=2,\n",
            "                       min_weight_fraction_leaf=0.0, n_estimators=100,\n",
            "                       n_jobs=None, oob_score=False, random_state=0, verbose=0,\n",
            "                       warm_start=False)\n",
            "\n",
            "----------------------------------------------\n",
            "\n",
            "Accuracy: 0.6750991262413781\n",
            "Avg Precision: 0.6276445069166247\n",
            "f1_score: 0.6533831465338314\n",
            "Precision: 0.7067804220925011\n",
            "Recall: 0.6074874565804709\n",
            "ROC_AUC: 0.675099126241378\n",
            "\n",
            "========================================\n",
            "\n",
            "\n",
            "SVC(C=1.0, break_ties=False, cache_size=200, class_weight=None, coef0=0.0,\n",
            "    decision_function_shape='ovr', degree=3, gamma='auto', kernel='rbf',\n",
            "    max_iter=-1, probability=False, random_state=None, shrinking=True,\n",
            "    tol=0.001, verbose=False)\n",
            "\n",
            "----------------------------------------------\n",
            "\n",
            "Accuracy: 0.6745166255623896\n",
            "Avg Precision: 0.6287187512879949\n",
            "f1_score: 0.6453389830508475\n",
            "Precision: 0.7153593236261155\n",
            "Recall: 0.5878039367039753\n",
            "ROC_AUC: 0.6745166255623896\n",
            "\n",
            "========================================\n",
            "\n",
            "\n"
          ],
          "name": "stdout"
        }
      ]
    },
    {
      "cell_type": "markdown",
      "metadata": {
        "id": "ZJlVCnErTuca"
      },
      "source": [
        "### Extracting software features"
      ]
    },
    {
      "cell_type": "code",
      "metadata": {
        "colab": {
          "base_uri": "https://localhost:8080/"
        },
        "id": "w5BqkVjLjOm5",
        "outputId": "35febdd6-ef51-418e-f177-1da103b4b41d"
      },
      "source": [
        "pip install radon"
      ],
      "execution_count": 47,
      "outputs": [
        {
          "output_type": "stream",
          "text": [
            "Collecting radon\n",
            "\u001b[?25l  Downloading https://files.pythonhosted.org/packages/b3/30/53685bac034654656a096a87a52f5e77667b2bb8ab02bcc9ab3a844af802/radon-4.5.0-py2.py3-none-any.whl (51kB)\n",
            "\r\u001b[K     |██████▍                         | 10kB 17.3MB/s eta 0:00:01\r\u001b[K     |████████████▊                   | 20kB 21.5MB/s eta 0:00:01\r\u001b[K     |███████████████████▏            | 30kB 17.5MB/s eta 0:00:01\r\u001b[K     |█████████████████████████▌      | 40kB 10.5MB/s eta 0:00:01\r\u001b[K     |███████████████████████████████▉| 51kB 9.2MB/s eta 0:00:01\r\u001b[K     |████████████████████████████████| 61kB 4.3MB/s \n",
            "\u001b[?25hCollecting mando<0.7,>=0.6\n",
            "  Downloading https://files.pythonhosted.org/packages/e6/cc/f6e25247c1493a654785e68cd975e479c311e99dafedd49ed17f8d300e0c/mando-0.6.4-py2.py3-none-any.whl\n",
            "Collecting colorama>=0.4.1; python_version > \"3.4\"\n",
            "  Downloading https://files.pythonhosted.org/packages/44/98/5b86278fbbf250d239ae0ecb724f8572af1c91f4a11edf4d36a206189440/colorama-0.4.4-py2.py3-none-any.whl\n",
            "Requirement already satisfied: future in /usr/local/lib/python3.7/dist-packages (from radon) (0.16.0)\n",
            "Requirement already satisfied: six in /usr/local/lib/python3.7/dist-packages (from mando<0.7,>=0.6->radon) (1.15.0)\n",
            "Installing collected packages: mando, colorama, radon\n",
            "Successfully installed colorama-0.4.4 mando-0.6.4 radon-4.5.0\n"
          ],
          "name": "stdout"
        }
      ]
    },
    {
      "cell_type": "markdown",
      "metadata": {
        "id": "PPaLMXZ7ja4V"
      },
      "source": [
        "#### Using radon programmatically"
      ]
    },
    {
      "cell_type": "markdown",
      "metadata": {
        "id": "0B-xCF3IjdDc"
      },
      "source": [
        "##### Radon's API is composed of layers:\n",
        "<b> 1. Bottom layer </b>\n",
        "  * have Visitors \n",
        "  * build an AST out of your code and get the basic metrics\n",
        "  * two available visitors: ComplexityVisitor and HalsteadVisitor\n",
        "\n",
        "  <b>2. at a higher level</b>:you have helper functions residing in separate modules<br>\n",
        "  * radon.complexity (chiefly cc_rank, cc_visit, cc_visit_ast and sorted_results) for cyclomatic complexityb \n",
        "  * radon.metrics (mainly h_visit, h_visit_ast, mi_rank, mi_visit) for halstead metrics and mi index\n",
        "  * analyze inside the radon.raw module for SLOC, LLOC, LOC, &c.\n",
        "  *  get back an object (Module object )<bR>\n",
        "  \n",
        "<b> 3. at the highest level </b>you have the Harvesters. A Harvester implements all the business logic of the CLI.\n",
        "  * To use a Harvester, you simply create a radon.cli.Config object"
      ]
    },
    {
      "cell_type": "code",
      "metadata": {
        "id": "t0SSUvohjI36"
      },
      "source": [
        " features = [ \"LOC\",\"cyclomatic complexity\", \"Lenght n\",\"Volume v\",\"Program lenght l\",\"Difficulty d\",\"Intelligence i\",\"Efforts e\", \"Time t\",\"IOCODE\", \"IOCOmment\",\"IOBlank\",\"IOCodeAndComment\",\"uniq op\",\"uniq opnd\",\"total op\",\"total Opnd\",\"evaluation\" ]"
      ],
      "execution_count": 48,
      "outputs": []
    },
    {
      "cell_type": "code",
      "metadata": {
        "id": "VYJVCQCYJvNN"
      },
      "source": [
        "def helper(n,v,d,e,t):    \n",
        "    evaluation = (n < 300) & (v < 1000 ) & (d < 50) & (e < 500000) & (t < 5000)\n",
        "    \n",
        "    return 0 if evaluation == True else 1 "
      ],
      "execution_count": 49,
      "outputs": []
    },
    {
      "cell_type": "code",
      "metadata": {
        "colab": {
          "base_uri": "https://localhost:8080/",
          "height": 35
        },
        "id": "2H4zC07dK4vY",
        "outputId": "300f5e82-8109-453c-87a6-c88d45b06190"
      },
      "source": [
        "pwd"
      ],
      "execution_count": 50,
      "outputs": [
        {
          "output_type": "execute_result",
          "data": {
            "application/vnd.google.colaboratory.intrinsic+json": {
              "type": "string"
            },
            "text/plain": [
              "'/content/Bug-Prediction-dataset'"
            ]
          },
          "metadata": {
            "tags": []
          },
          "execution_count": 50
        }
      ]
    },
    {
      "cell_type": "code",
      "metadata": {
        "colab": {
          "base_uri": "https://localhost:8080/"
        },
        "id": "0emThpBRK7dy",
        "outputId": "496345fa-37de-48b0-999d-d2070e822be6"
      },
      "source": [
        "cd .."
      ],
      "execution_count": 51,
      "outputs": [
        {
          "output_type": "stream",
          "text": [
            "/content\n"
          ],
          "name": "stdout"
        }
      ]
    },
    {
      "cell_type": "code",
      "metadata": {
        "colab": {
          "base_uri": "https://localhost:8080/"
        },
        "id": "XCkVTMdKK-TS",
        "outputId": "4e850f0c-ac7c-4809-9aff-ef57bcc9d1e7"
      },
      "source": [
        "ls"
      ],
      "execution_count": 53,
      "outputs": [
        {
          "output_type": "stream",
          "text": [
            "\u001b[0m\u001b[01;34mBug-Prediction-dataset\u001b[0m/  f1.py  f2.py  f3.py  \u001b[01;34msample_data\u001b[0m/\n"
          ],
          "name": "stdout"
        }
      ]
    },
    {
      "cell_type": "markdown",
      "metadata": {
        "id": "9Cr1Rsm4Ch5z"
      },
      "source": [
        "<i><b> Here I upload two files f1.py,f2.py in the current directory  for testing </b></i>"
      ]
    },
    {
      "cell_type": "code",
      "metadata": {
        "colab": {
          "base_uri": "https://localhost:8080/"
        },
        "id": "NiC2yt1XkDQR",
        "outputId": "0f5e14be-d030-4354-8bb2-66c1150205a8"
      },
      "source": [
        "from radon.raw import analyze\n",
        "from radon.metrics import *\n",
        "from radon.complexity import cc_visit\n",
        "from radon.cli.tools import iter_filenames\n",
        "\n",
        "module_features=[]\n",
        "\n",
        "\n",
        "file_name = []\n",
        "# iter through filenames starting from the current directory\n",
        "# you can pass ignore or exclude patterns here (as strings)\n",
        "# for example: ignore='tests,docs'\n",
        "for filename in iter_filenames(['.']):\n",
        "    with open(filename) as fobj:\n",
        "        source = fobj.read()\n",
        "    #printing code\n",
        "    #print(source)\n",
        "\n",
        "    file_name.append(filename)\n",
        "\n",
        "    # get cc blocks\n",
        "    \n",
        "    # get MI score\n",
        "    #mi = mi_visit(source, True)\n",
        "    # get raw metrics\n",
        "\n",
        "    # Module(loc=13, lloc=5, sloc=4, comments=1, multi=5, blank=3, single_comments=1)\n",
        "    raw = analyze(source)\n",
        "\n",
        "    f1 = raw.loc #1\n",
        "    f13 = raw.sloc #IOCODE\n",
        "    f14 = raw.comments # IOComment\n",
        "    f15 = raw.blank #IOBlank\n",
        "    f16 = raw.lloc #IOcode and Comment\n",
        "\n",
        "\n",
        "    #Halstead features\n",
        "    ast = h_visit(source)\n",
        "    hal = ast.total\n",
        "    #Halstead(total=HalsteadReport(h1=1, h2=4, N1=2, N2=4, vocabulary=5, length=6, calculated_length=8.0, volume=13.931568569324174, difficulty=0.5, effort=6.965784284662087, time=0.3869880158145604, bugs=0.004643856189774725), functions=[])\n",
        "\n",
        "    f17 = hal.h1 #Uniq op\n",
        "    f18 = hal.h2 #uniq operands\n",
        "    f19 = hal.N1 #toal operators\n",
        "    f20 = hal.N2 #total operands\n",
        "\n",
        "    f5 = hal.length #n\n",
        "    f6 = hal.volume #v\n",
        "\n",
        "    f7 = f6/f5 #l --> program length\n",
        "    f8 = hal.difficulty\n",
        "    f9 = f7*f6\n",
        "    f10 = hal.effort\n",
        "    f12 = hal.time\n",
        "\n",
        "    #cc\n",
        "    cc = cc_visit(source)\n",
        "\n",
        "    try:f2 = cc[-1].complexity\n",
        "    except: f2 = 0\n",
        "    f21 = helper(f5,f6,f8,f10,f12)\n",
        "    \n",
        "\n",
        "    f = [f1,f2,f5,f6,f7,f8,f9,f10,f12,f13,f14,f15,f16,f17,f18,f19,f20,f21]\n",
        "\n",
        "    #f3,f4, f11,f21 missing --> essential complexity , design complexity , b, branch count\n",
        "    \n",
        "    print(\"\\n-------------------------------------------\\n\")\n",
        "    print(filename,end=\"\\n\")\n",
        "    for i,j in zip(features,f):\n",
        "      print(str(i)+ \" \"+ str(j),end=\"\\n\")\n",
        "   \n",
        "    print(\"\\n############################################\\n\")\n",
        "\n",
        "    \n",
        "    module_features.append(f)    \n",
        "\n",
        "\n",
        "\n",
        "    # Now do what you want with the data"
      ],
      "execution_count": 55,
      "outputs": [
        {
          "output_type": "stream",
          "text": [
            "\n",
            "-------------------------------------------\n",
            "\n",
            "f2.py\n",
            "LOC 15\n",
            "cyclomatic complexity 3\n",
            "Lenght n 15\n",
            "Volume v 53.77443751081735\n",
            "Program lenght l 3.5849625007211565\n",
            "Difficulty d 3.5714285714285716\n",
            "Intelligence i 192.77934197365332\n",
            "Efforts e 192.0515625386334\n",
            "Time t 10.6695312521463\n",
            "IOCODE 5\n",
            "IOCOmment 1\n",
            "IOBlank 4\n",
            "IOCodeAndComment 7\n",
            "uniq op 5\n",
            "uniq opnd 7\n",
            "total op 5\n",
            "total Opnd 10\n",
            "evaluation 0\n",
            "\n",
            "############################################\n",
            "\n",
            "\n",
            "-------------------------------------------\n",
            "\n",
            "f3.py\n",
            "LOC 1902\n",
            "cyclomatic complexity 1838\n",
            "Lenght n 5184\n",
            "Volume v 60943.82612276526\n",
            "Program lenght l 11.75613929837293\n",
            "Difficulty d 1.5\n",
            "Intelligence i 716464.1092750474\n",
            "Efforts e 91415.7391841479\n",
            "Time t 5078.652176897105\n",
            "IOCODE 1881\n",
            "IOCOmment 2\n",
            "IOBlank 14\n",
            "IOCodeAndComment 1936\n",
            "uniq op 3\n",
            "uniq opnd 3456\n",
            "total op 1728\n",
            "total Opnd 3456\n",
            "evaluation 1\n",
            "\n",
            "############################################\n",
            "\n",
            "\n",
            "-------------------------------------------\n",
            "\n",
            "f1.py\n",
            "LOC 13\n",
            "cyclomatic complexity 0\n",
            "Lenght n 6\n",
            "Volume v 13.931568569324174\n",
            "Program lenght l 2.321928094887362\n",
            "Difficulty d 0.5\n",
            "Intelligence i 32.34810046696353\n",
            "Efforts e 6.965784284662087\n",
            "Time t 0.3869880158145604\n",
            "IOCODE 4\n",
            "IOCOmment 1\n",
            "IOBlank 3\n",
            "IOCodeAndComment 5\n",
            "uniq op 1\n",
            "uniq opnd 4\n",
            "total op 2\n",
            "total Opnd 4\n",
            "evaluation 0\n",
            "\n",
            "############################################\n",
            "\n"
          ],
          "name": "stdout"
        }
      ]
    },
    {
      "cell_type": "code",
      "metadata": {
        "colab": {
          "base_uri": "https://localhost:8080/"
        },
        "id": "BTF-Zub8rwFx",
        "outputId": "8e06c966-27da-4082-d103-bea0aac4ea67"
      },
      "source": [
        "module_features"
      ],
      "execution_count": 56,
      "outputs": [
        {
          "output_type": "execute_result",
          "data": {
            "text/plain": [
              "[[15,\n",
              "  3,\n",
              "  15,\n",
              "  53.77443751081735,\n",
              "  3.5849625007211565,\n",
              "  3.5714285714285716,\n",
              "  192.77934197365332,\n",
              "  192.0515625386334,\n",
              "  10.6695312521463,\n",
              "  5,\n",
              "  1,\n",
              "  4,\n",
              "  7,\n",
              "  5,\n",
              "  7,\n",
              "  5,\n",
              "  10,\n",
              "  0],\n",
              " [1902,\n",
              "  1838,\n",
              "  5184,\n",
              "  60943.82612276526,\n",
              "  11.75613929837293,\n",
              "  1.5,\n",
              "  716464.1092750474,\n",
              "  91415.7391841479,\n",
              "  5078.652176897105,\n",
              "  1881,\n",
              "  2,\n",
              "  14,\n",
              "  1936,\n",
              "  3,\n",
              "  3456,\n",
              "  1728,\n",
              "  3456,\n",
              "  1],\n",
              " [13,\n",
              "  0,\n",
              "  6,\n",
              "  13.931568569324174,\n",
              "  2.321928094887362,\n",
              "  0.5,\n",
              "  32.34810046696353,\n",
              "  6.965784284662087,\n",
              "  0.3869880158145604,\n",
              "  4,\n",
              "  1,\n",
              "  3,\n",
              "  5,\n",
              "  1,\n",
              "  4,\n",
              "  2,\n",
              "  4,\n",
              "  0]]"
            ]
          },
          "metadata": {
            "tags": []
          },
          "execution_count": 56
        }
      ]
    },
    {
      "cell_type": "code",
      "metadata": {
        "colab": {
          "base_uri": "https://localhost:8080/"
        },
        "id": "B8Yp_YWaLTKO",
        "outputId": "f3d42e1a-8091-43df-d988-dba37875e36e"
      },
      "source": [
        "len(module_features[0])"
      ],
      "execution_count": null,
      "outputs": [
        {
          "output_type": "execute_result",
          "data": {
            "text/plain": [
              "18"
            ]
          },
          "metadata": {
            "tags": []
          },
          "execution_count": 59
        }
      ]
    },
    {
      "cell_type": "code",
      "metadata": {
        "colab": {
          "base_uri": "https://localhost:8080/"
        },
        "id": "hOKqInWcffR2",
        "outputId": "4ca1bec6-fcff-4db0-a6ba-15a43bd93548"
      },
      "source": [
        "file_name"
      ],
      "execution_count": 57,
      "outputs": [
        {
          "output_type": "execute_result",
          "data": {
            "text/plain": [
              "['f2.py', 'f3.py', 'f1.py']"
            ]
          },
          "metadata": {
            "tags": []
          },
          "execution_count": 57
        }
      ]
    },
    {
      "cell_type": "code",
      "metadata": {
        "id": "6UfDN8XuiE6z"
      },
      "source": [
        "def predict( list1, file_name,model=rf):\n",
        "    # Feature Scaling\n",
        "  from sklearn.preprocessing import StandardScaler\n",
        "  \n",
        "  list1 = np.array(list1)\n",
        "  list1 = sc.transform(list1)\n",
        "\n",
        "  #x_test = sc.transform(list) \n",
        "\n",
        "  X_test = pca.transform(list1)\n",
        "\n",
        "  prediction = model.predict(X_test)\n",
        "  for p,f in zip(prediction,file_name):\n",
        "    if p== 0:\n",
        "      print(\"\\n\",f, \"  is Non buggy\\n\")\n",
        "    else:\n",
        "      print(f,\" is More likely to be buggy. Needs recheck \")\n",
        "\n",
        "    #print(\"\\nProbability values are :  \\n\",rf.predict_proba(X_test))\n",
        "\n",
        "\n",
        "\n",
        "\n",
        "\n",
        "\n",
        "\n"
      ],
      "execution_count": 62,
      "outputs": []
    },
    {
      "cell_type": "code",
      "metadata": {
        "colab": {
          "base_uri": "https://localhost:8080/"
        },
        "id": "qPiPKMXNpPk-",
        "outputId": "642d5dc6-aa88-4e53-9042-ab3d373ed861"
      },
      "source": [
        "predict(module_features,file_name)"
      ],
      "execution_count": 63,
      "outputs": [
        {
          "output_type": "stream",
          "text": [
            "\n",
            " f2.py   is Non buggy\n",
            "\n",
            "f3.py  is More likely to be buggy. Needs recheck \n",
            "\n",
            " f1.py   is Non buggy\n",
            "\n"
          ],
          "name": "stdout"
        }
      ]
    }
  ]
}