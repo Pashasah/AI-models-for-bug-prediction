{
  "nbformat": 4,
  "nbformat_minor": 0,
  "metadata": {
    "kernelspec": {
      "display_name": "Python 3",
      "language": "python",
      "name": "python3"
    },
    "language_info": {
      "codemirror_mode": {
        "name": "ipython",
        "version": 3
      },
      "file_extension": ".py",
      "mimetype": "text/x-python",
      "name": "python",
      "nbconvert_exporter": "python",
      "pygments_lexer": "ipython3",
      "version": "3.6.9"
    },
    "colab": {
      "name": "Software Vulnerability Detection.ipynb",
      "provenance": [],
      "collapsed_sections": []
    }
  },
  "cells": [
    {
      "cell_type": "markdown",
      "metadata": {
        "id": "ZOEL20i7Gca2"
      },
      "source": [
        "# Software Vulnerability Detection using Deep Learning (Experiment Replication)"
      ]
    },
    {
      "cell_type": "markdown",
      "metadata": {
        "id": "e32jABwqGcbE"
      },
      "source": [
        "### Multicolumn experiment (All CWEs and others)"
      ]
    },
    {
      "cell_type": "markdown",
      "metadata": {
        "id": "NI-wP3zhGcbF"
      },
      "source": [
        "* This is from Russell et. al work (Automated Vulnerability Detection in Source Code Using Deep Representation Learning) https://arxiv.org/abs/1807.04320\n",
        "* Datasets downloaded from https://osf.io/d45bw/\n",
        "* Datasets distribution: Training (80%), Validation (10%), Testing (10%)\n",
        "* The dataset consists of the source code of 1.27 million functions mined from open source software, labeled by static analysis for potential vulnerabilities.\n",
        "* Each function's raw source code, starting from the function name, is stored as a variable-length UTF-8 string. Five binary 'vulnerability' labels are provided for each function, corresponding to the four most common CWEs in our data plus all others: \n",
        " * CWE-120 (3.7% of functions)\n",
        " * CWE-119 (1.9% of functions)\n",
        " * CWE-469 (0.95% of functions)\n",
        " * CWE-476 (0.21% of functions)\n",
        " * CWE-other (2.7% of functions)\n",
        "* Functions may have more than one detected CWE each.\n",
        "* Python 3.6 and Tensorflow 2.0.0"
      ]
    },
    {
      "cell_type": "code",
      "metadata": {
        "colab": {
          "base_uri": "https://localhost:8080/"
        },
        "id": "nqO8FwB4fiOA",
        "outputId": "49a1ae21-ce70-4df5-d43a-666049e58774"
      },
      "source": [
        "#training distribution\n",
        "!wget https://osf.io/6fexn/download"
      ],
      "execution_count": 2,
      "outputs": [
        {
          "output_type": "stream",
          "text": [
            "--2021-04-30 04:36:25--  https://osf.io/6fexn/download\n",
            "Resolving osf.io (osf.io)... 35.190.84.173\n",
            "Connecting to osf.io (osf.io)|35.190.84.173|:443... connected.\n",
            "HTTP request sent, awaiting response... 302 FOUND\n",
            "Location: https://files.osf.io/v1/resources/d45bw/providers/osfstorage/5bf34ee71f01ef00170e4a90?action=download&direct&version=1 [following]\n",
            "--2021-04-30 04:36:27--  https://files.osf.io/v1/resources/d45bw/providers/osfstorage/5bf34ee71f01ef00170e4a90?action=download&direct&version=1\n",
            "Resolving files.osf.io (files.osf.io)... 35.186.214.196\n",
            "Connecting to files.osf.io (files.osf.io)|35.186.214.196|:443... connected.\n",
            "HTTP request sent, awaiting response... 200 OK\n",
            "Length: 862111179 (822M) [application/octet-stream]\n",
            "Saving to: ‘download’\n",
            "\n",
            "download            100%[===================>] 822.17M  20.2MB/s    in 44s     \n",
            "\n",
            "2021-04-30 04:37:11 (18.8 MB/s) - ‘download’ saved [862111179/862111179]\n",
            "\n"
          ],
          "name": "stdout"
        }
      ]
    },
    {
      "cell_type": "code",
      "metadata": {
        "colab": {
          "base_uri": "https://localhost:8080/"
        },
        "id": "Nbe4jkkvflGy",
        "outputId": "fc949c82-9464-46a8-a446-2900dfdb511c"
      },
      "source": [
        "ls"
      ],
      "execution_count": 3,
      "outputs": [
        {
          "output_type": "stream",
          "text": [
            "download  \u001b[0m\u001b[01;34msample_data\u001b[0m/\n"
          ],
          "name": "stdout"
        }
      ]
    },
    {
      "cell_type": "code",
      "metadata": {
        "id": "C2SIJPfaf88k"
      },
      "source": [
        "#renaming\n",
        "!mv download VDISC_train.hdf5"
      ],
      "execution_count": 4,
      "outputs": []
    },
    {
      "cell_type": "code",
      "metadata": {
        "colab": {
          "base_uri": "https://localhost:8080/"
        },
        "id": "C1z8W91kfROq",
        "outputId": "e4fe421b-b9a2-4ed0-c940-5ce9fec543f1"
      },
      "source": [
        "#Testing distribution\n",
        "\n",
        "!wget https://osf.io/f9t6z/download"
      ],
      "execution_count": 5,
      "outputs": [
        {
          "output_type": "stream",
          "text": [
            "--2021-04-30 04:37:11--  https://osf.io/f9t6z/download\n",
            "Resolving osf.io (osf.io)... 35.190.84.173\n",
            "Connecting to osf.io (osf.io)|35.190.84.173|:443... connected.\n",
            "HTTP request sent, awaiting response... 302 FOUND\n",
            "Location: https://files.osf.io/v1/resources/d45bw/providers/osfstorage/5bf34e965603840019b1bdd2?action=download&direct&version=1 [following]\n",
            "--2021-04-30 04:37:13--  https://files.osf.io/v1/resources/d45bw/providers/osfstorage/5bf34e965603840019b1bdd2?action=download&direct&version=1\n",
            "Resolving files.osf.io (files.osf.io)... 35.186.214.196\n",
            "Connecting to files.osf.io (files.osf.io)|35.186.214.196|:443... connected.\n",
            "HTTP request sent, awaiting response... 200 OK\n",
            "Length: 107870135 (103M) [application/octet-stream]\n",
            "Saving to: ‘download’\n",
            "\n",
            "download            100%[===================>] 102.87M  19.1MB/s    in 6.5s    \n",
            "\n",
            "2021-04-30 04:37:20 (15.8 MB/s) - ‘download’ saved [107870135/107870135]\n",
            "\n"
          ],
          "name": "stdout"
        }
      ]
    },
    {
      "cell_type": "code",
      "metadata": {
        "id": "YInStg9efrMD"
      },
      "source": [
        "mv download VDISC_test.hdf5"
      ],
      "execution_count": 6,
      "outputs": []
    },
    {
      "cell_type": "code",
      "metadata": {
        "colab": {
          "base_uri": "https://localhost:8080/"
        },
        "id": "vF0wRU-Lfwp1",
        "outputId": "e9a9a7f8-6eec-4e5d-da60-3d5569f88e9c"
      },
      "source": [
        "#validate distribution\n",
        "\n",
        "!wget https://osf.io/43mzd/download"
      ],
      "execution_count": 7,
      "outputs": [
        {
          "output_type": "stream",
          "text": [
            "--2021-04-30 04:37:21--  https://osf.io/43mzd/download\n",
            "Resolving osf.io (osf.io)... 35.190.84.173\n",
            "Connecting to osf.io (osf.io)|35.190.84.173|:443... connected.\n",
            "HTTP request sent, awaiting response... 302 FOUND\n",
            "Location: https://files.osf.io/v1/resources/d45bw/providers/osfstorage/5bf34e961f01ef00170e4a01?action=download&direct&version=1 [following]\n",
            "--2021-04-30 04:37:21--  https://files.osf.io/v1/resources/d45bw/providers/osfstorage/5bf34e961f01ef00170e4a01?action=download&direct&version=1\n",
            "Resolving files.osf.io (files.osf.io)... 35.186.214.196\n",
            "Connecting to files.osf.io (files.osf.io)|35.186.214.196|:443... connected.\n",
            "HTTP request sent, awaiting response... 200 OK\n",
            "Length: 108035556 (103M) [application/octet-stream]\n",
            "Saving to: ‘download’\n",
            "\n",
            "download            100%[===================>] 103.03M  20.0MB/s    in 6.5s    \n",
            "\n",
            "2021-04-30 04:37:29 (15.9 MB/s) - ‘download’ saved [108035556/108035556]\n",
            "\n"
          ],
          "name": "stdout"
        }
      ]
    },
    {
      "cell_type": "code",
      "metadata": {
        "id": "LfXXGd65gBEe"
      },
      "source": [
        "mv download VDISC_validate.hdf5"
      ],
      "execution_count": 8,
      "outputs": []
    },
    {
      "cell_type": "code",
      "metadata": {
        "colab": {
          "base_uri": "https://localhost:8080/"
        },
        "id": "hnM0thT3ggz4",
        "outputId": "455414b7-53f4-4806-cfc5-b851096c808d"
      },
      "source": [
        "ls"
      ],
      "execution_count": 9,
      "outputs": [
        {
          "output_type": "stream",
          "text": [
            "\u001b[0m\u001b[01;34msample_data\u001b[0m/  VDISC_test.hdf5  VDISC_train.hdf5  VDISC_validate.hdf5\n"
          ],
          "name": "stdout"
        }
      ]
    },
    {
      "cell_type": "markdown",
      "metadata": {
        "id": "Haw6_f9xGcbH"
      },
      "source": [
        "## Pre-processing"
      ]
    },
    {
      "cell_type": "markdown",
      "metadata": {
        "id": "sKtlnWd9GcbH"
      },
      "source": [
        "Converting the HDF5 files for training/validation/testing datasets to python pickle for ease of future usage"
      ]
    },
    {
      "cell_type": "code",
      "metadata": {
        "id": "VtXAQPUcGcbI"
      },
      "source": [
        "import h5py\n",
        "import pandas as pd"
      ],
      "execution_count": 10,
      "outputs": []
    },
    {
      "cell_type": "code",
      "metadata": {
        "id": "e3DI5WTaGcbJ"
      },
      "source": [
        "# 3 datasets available\n",
        "\n",
        "data = h5py.File(\"VDISC_train.hdf5\",'r')\n"
      ],
      "execution_count": 13,
      "outputs": []
    },
    {
      "cell_type": "code",
      "metadata": {
        "id": "UPuNDIacjMVj"
      },
      "source": [
        "dataval = h5py.File(\"VDISC_validate.hdf5\",'r')\n",
        "datatest = h5py.File(\"VDISC_test.hdf5\",'r')"
      ],
      "execution_count": 21,
      "outputs": []
    },
    {
      "cell_type": "code",
      "metadata": {
        "id": "A5i-pnjXGcbK",
        "colab": {
          "base_uri": "https://localhost:8080/"
        },
        "outputId": "78d4350b-f198-46db-c48f-e68488a8cedd"
      },
      "source": [
        "# List all groups\n",
        "data.visit(print)"
      ],
      "execution_count": 14,
      "outputs": [
        {
          "output_type": "stream",
          "text": [
            "CWE-119\n",
            "CWE-120\n",
            "CWE-469\n",
            "CWE-476\n",
            "CWE-other\n",
            "functionSource\n"
          ],
          "name": "stdout"
        }
      ]
    },
    {
      "cell_type": "markdown",
      "metadata": {
        "id": "MBfU1wyIGcbM"
      },
      "source": [
        "Create a new dataframe from the HDF5 file"
      ]
    },
    {
      "cell_type": "code",
      "metadata": {
        "id": "Q2YEWhxmihwh"
      },
      "source": [
        "mydf = pd.DataFrame(list(data['functionSource']))"
      ],
      "execution_count": null,
      "outputs": []
    },
    {
      "cell_type": "code",
      "metadata": {
        "id": "l7-yfYaCGcbN"
      },
      "source": [
        "mydf['CWE-119']=list(data['CWE-119']); mydf['CWE-120']=list(data['CWE-120']); mydf['CWE-469']=list(data['CWE-469']); mydf['CWE-476']=list(data['CWE-476']); mydf['CWE-other']=list(data['CWE-other']) "
      ],
      "execution_count": 11,
      "outputs": []
    },
    {
      "cell_type": "code",
      "metadata": {
        "id": "Be6AC5ayGcbO"
      },
      "source": [
        "mydf.rename(columns={0:'functionSource'},inplace=True)"
      ],
      "execution_count": 12,
      "outputs": []
    },
    {
      "cell_type": "code",
      "metadata": {
        "id": "EUIj1sO-GcbO",
        "colab": {
          "base_uri": "https://localhost:8080/",
          "height": 204
        },
        "outputId": "25ef21f6-389f-4fb8-dacb-69b236cea579"
      },
      "source": [
        "mydf.iloc[0:5,0:]"
      ],
      "execution_count": 13,
      "outputs": [
        {
          "output_type": "execute_result",
          "data": {
            "text/html": [
              "<div>\n",
              "<style scoped>\n",
              "    .dataframe tbody tr th:only-of-type {\n",
              "        vertical-align: middle;\n",
              "    }\n",
              "\n",
              "    .dataframe tbody tr th {\n",
              "        vertical-align: top;\n",
              "    }\n",
              "\n",
              "    .dataframe thead th {\n",
              "        text-align: right;\n",
              "    }\n",
              "</style>\n",
              "<table border=\"1\" class=\"dataframe\">\n",
              "  <thead>\n",
              "    <tr style=\"text-align: right;\">\n",
              "      <th></th>\n",
              "      <th>functionSource</th>\n",
              "      <th>CWE-119</th>\n",
              "      <th>CWE-120</th>\n",
              "      <th>CWE-469</th>\n",
              "      <th>CWE-476</th>\n",
              "      <th>CWE-other</th>\n",
              "    </tr>\n",
              "  </thead>\n",
              "  <tbody>\n",
              "    <tr>\n",
              "      <th>0</th>\n",
              "      <td>clear_area(int startx, int starty, int xsize, ...</td>\n",
              "      <td>False</td>\n",
              "      <td>False</td>\n",
              "      <td>False</td>\n",
              "      <td>False</td>\n",
              "      <td>False</td>\n",
              "    </tr>\n",
              "    <tr>\n",
              "      <th>1</th>\n",
              "      <td>ReconstructDuList(Statement* head)\\n{\\n    Sta...</td>\n",
              "      <td>False</td>\n",
              "      <td>False</td>\n",
              "      <td>False</td>\n",
              "      <td>False</td>\n",
              "      <td>False</td>\n",
              "    </tr>\n",
              "    <tr>\n",
              "      <th>2</th>\n",
              "      <td>free_speaker(void)\\n{\\n   if(Lengths)\\n       ...</td>\n",
              "      <td>False</td>\n",
              "      <td>False</td>\n",
              "      <td>False</td>\n",
              "      <td>False</td>\n",
              "      <td>False</td>\n",
              "    </tr>\n",
              "    <tr>\n",
              "      <th>3</th>\n",
              "      <td>mlx4_register_device(struct mlx4_dev *dev)\\n{\\...</td>\n",
              "      <td>False</td>\n",
              "      <td>False</td>\n",
              "      <td>False</td>\n",
              "      <td>False</td>\n",
              "      <td>False</td>\n",
              "    </tr>\n",
              "    <tr>\n",
              "      <th>4</th>\n",
              "      <td>Parse_Env_Var(void)\\n{\\n  char *p = getenv(\"LI...</td>\n",
              "      <td>True</td>\n",
              "      <td>True</td>\n",
              "      <td>False</td>\n",
              "      <td>False</td>\n",
              "      <td>True</td>\n",
              "    </tr>\n",
              "  </tbody>\n",
              "</table>\n",
              "</div>"
            ],
            "text/plain": [
              "                                      functionSource  ...  CWE-other\n",
              "0  clear_area(int startx, int starty, int xsize, ...  ...      False\n",
              "1  ReconstructDuList(Statement* head)\\n{\\n    Sta...  ...      False\n",
              "2  free_speaker(void)\\n{\\n   if(Lengths)\\n       ...  ...      False\n",
              "3  mlx4_register_device(struct mlx4_dev *dev)\\n{\\...  ...      False\n",
              "4  Parse_Env_Var(void)\\n{\\n  char *p = getenv(\"LI...  ...       True\n",
              "\n",
              "[5 rows x 6 columns]"
            ]
          },
          "metadata": {
            "tags": []
          },
          "execution_count": 13
        }
      ]
    },
    {
      "cell_type": "code",
      "metadata": {
        "id": "mFrdWEHsGcbP"
      },
      "source": [
        "mydf.to_pickle(\"VDISC_train.pickle\")\n",
        "#mydf.to_pickle(\"VDISC_validate.pickle\")\n",
        "#mydf.to_pickle(\"VDISC_test.pickle\")"
      ],
      "execution_count": 15,
      "outputs": []
    },
    {
      "cell_type": "markdown",
      "metadata": {
        "id": "9BlY5sEKiyyz"
      },
      "source": [
        "<b> I store these datasets in the drive. Simple import it to save time</b>"
      ]
    },
    {
      "cell_type": "code",
      "metadata": {
        "colab": {
          "base_uri": "https://localhost:8080/"
        },
        "id": "6SfnhnJb8HOo",
        "outputId": "71866349-afe6-40cc-e0ef-085bcff3f774"
      },
      "source": [
        "from google.colab import drive\n",
        "drive.mount('/content/drive')"
      ],
      "execution_count": 11,
      "outputs": [
        {
          "output_type": "stream",
          "text": [
            "Mounted at /content/drive\n"
          ],
          "name": "stdout"
        }
      ]
    },
    {
      "cell_type": "code",
      "metadata": {
        "id": "Lnilos5R84RM"
      },
      "source": [
        "cp /content/VDISC_train.pickle \"/content/drive/MyDrive/Colab Notebooks\""
      ],
      "execution_count": 19,
      "outputs": []
    },
    {
      "cell_type": "code",
      "metadata": {
        "id": "m0td_tkPH606"
      },
      "source": [
        ""
      ],
      "execution_count": null,
      "outputs": []
    },
    {
      "cell_type": "markdown",
      "metadata": {
        "id": "llej6tOUGcbP"
      },
      "source": [
        "## Exploratory Data Analysis"
      ]
    },
    {
      "cell_type": "markdown",
      "metadata": {
        "id": "lTIhAeLIGcbQ"
      },
      "source": [
        "### Importing processed datasets"
      ]
    },
    {
      "cell_type": "code",
      "metadata": {
        "colab": {
          "base_uri": "https://localhost:8080/"
        },
        "id": "agi-nMF99Wr1",
        "outputId": "1868e4d7-1037-4b75-c40f-733291a91b21"
      },
      "source": [
        "cd \"/content/drive/MyDrive/Colab Notebooks\""
      ],
      "execution_count": 12,
      "outputs": [
        {
          "output_type": "stream",
          "text": [
            "/content/drive/MyDrive/Colab Notebooks\n"
          ],
          "name": "stdout"
        }
      ]
    },
    {
      "cell_type": "code",
      "metadata": {
        "id": "uoIqhzfFjcZU"
      },
      "source": [
        "train=pd.read_pickle(\"VDISC_train.pickle\")"
      ],
      "execution_count": 13,
      "outputs": []
    },
    {
      "cell_type": "code",
      "metadata": {
        "id": "_EcdPEAyGcbR"
      },
      "source": [
        "\n",
        "#validate=pd.read_pickle(\"VDISC_validate.pickle\")\n",
        "#test=pd.read_pickle(\"VDISC_test.pickle\")"
      ],
      "execution_count": null,
      "outputs": []
    },
    {
      "cell_type": "code",
      "metadata": {
        "id": "4SBiJ-mgGcbS"
      },
      "source": [
        "### CONTINUE LATER"
      ],
      "execution_count": null,
      "outputs": []
    },
    {
      "cell_type": "markdown",
      "metadata": {
        "id": "TQNI_bFSGcbS"
      },
      "source": [
        "## Learning Phase"
      ]
    },
    {
      "cell_type": "markdown",
      "metadata": {
        "id": "wv3vcIA4GcbT"
      },
      "source": [
        "### Importing libraries"
      ]
    },
    {
      "cell_type": "code",
      "metadata": {
        "id": "vC_20-4iGcbT",
        "colab": {
          "base_uri": "https://localhost:8080/"
        },
        "outputId": "d9ad30bc-ea45-4f6b-f9cc-3ac797bf6e54"
      },
      "source": [
        "import tensorflow as tf\n",
        "import numpy as np\n",
        "import pandas as pd\n",
        "import matplotlib.pyplot as plt\n",
        "import sklearn.metrics\n",
        "import pickle\n",
        "\n",
        "print(\"Tensorlfow version: \", tf.__version__)\n",
        "print(\"Eager mode: \", tf.executing_eagerly())\n",
        "print(\"GPU is\", \"available\" if tf.test.is_gpu_available() else \"NOT AVAILABLE\")"
      ],
      "execution_count": 14,
      "outputs": [
        {
          "output_type": "stream",
          "text": [
            "Tensorlfow version:  2.4.1\n",
            "Eager mode:  True\n",
            "WARNING:tensorflow:From <ipython-input-14-c66ca3651243>:10: is_gpu_available (from tensorflow.python.framework.test_util) is deprecated and will be removed in a future version.\n",
            "Instructions for updating:\n",
            "Use `tf.config.list_physical_devices('GPU')` instead.\n",
            "GPU is NOT AVAILABLE\n"
          ],
          "name": "stdout"
        }
      ]
    },
    {
      "cell_type": "markdown",
      "metadata": {
        "id": "IL7qNTJmGcbU"
      },
      "source": [
        "### Setting static and global variables"
      ]
    },
    {
      "cell_type": "code",
      "metadata": {
        "id": "0LHRNWi4GcbU",
        "colab": {
          "base_uri": "https://localhost:8080/"
        },
        "outputId": "94a095c9-b0a0-4b97-8475-1968a91bf0e9"
      },
      "source": [
        "# Generate random seed\n",
        "#myrand=np.random.randint(1, 99999 + 1)\n",
        "myrand=71926\n",
        "np.random.seed(myrand)\n",
        "tf.random.set_seed(myrand)\n",
        "print(\"Random seed is:\",myrand)"
      ],
      "execution_count": 15,
      "outputs": [
        {
          "output_type": "stream",
          "text": [
            "Random seed is: 71926\n"
          ],
          "name": "stdout"
        }
      ]
    },
    {
      "cell_type": "code",
      "metadata": {
        "id": "tCGumtnLGcbV"
      },
      "source": [
        "# Set the global value\n",
        "WORDS_SIZE=10000\n",
        "INPUT_SIZE=500\n",
        "NUM_CLASSES=2\n",
        "MODEL_NUM=0\n",
        "EPOCHS=10"
      ],
      "execution_count": 16,
      "outputs": []
    },
    {
      "cell_type": "markdown",
      "metadata": {
        "id": "T21azADXGcbV"
      },
      "source": [
        "### Importing processed datasets"
      ]
    },
    {
      "cell_type": "code",
      "metadata": {
        "id": "VPILcocrGcbW"
      },
      "source": [
        "\"\"\"train=pd.read_pickle(\"VDISC_train.pickle\")\n",
        "validate=pd.read_pickle(\"VDISC_validate.pickle\")\n",
        "test=pd.read_pickle(\"VDISC_test.pickle\")\n",
        "\n",
        "for dataset in [train,validate,test]:\n",
        "    for col in range(1,6):\n",
        "        dataset.iloc[:,col] = dataset.iloc[:,col].map({False: 0, True: 1})\n",
        "\n",
        "# Create source code sdata for tokenization\n",
        "x_all = train['functionSource']\n",
        "#x_all = x_all.append(validate['functionSource'])\n",
        "#x_all = x_all.append(test['functionSource'])\n",
        "\"\"\""
      ],
      "execution_count": null,
      "outputs": []
    },
    {
      "cell_type": "code",
      "metadata": {
        "id": "zxD2yR6SGcbW",
        "colab": {
          "base_uri": "https://localhost:8080/",
          "height": 204
        },
        "outputId": "bebf3850-6390-4a12-de4a-c118763b4e1f"
      },
      "source": [
        "# Overview of the datasets\n",
        "train.head()"
      ],
      "execution_count": 17,
      "outputs": [
        {
          "output_type": "execute_result",
          "data": {
            "text/html": [
              "<div>\n",
              "<style scoped>\n",
              "    .dataframe tbody tr th:only-of-type {\n",
              "        vertical-align: middle;\n",
              "    }\n",
              "\n",
              "    .dataframe tbody tr th {\n",
              "        vertical-align: top;\n",
              "    }\n",
              "\n",
              "    .dataframe thead th {\n",
              "        text-align: right;\n",
              "    }\n",
              "</style>\n",
              "<table border=\"1\" class=\"dataframe\">\n",
              "  <thead>\n",
              "    <tr style=\"text-align: right;\">\n",
              "      <th></th>\n",
              "      <th>functionSource</th>\n",
              "      <th>CWE-119</th>\n",
              "      <th>CWE-120</th>\n",
              "      <th>CWE-469</th>\n",
              "      <th>CWE-476</th>\n",
              "      <th>CWE-other</th>\n",
              "    </tr>\n",
              "  </thead>\n",
              "  <tbody>\n",
              "    <tr>\n",
              "      <th>0</th>\n",
              "      <td>clear_area(int startx, int starty, int xsize, ...</td>\n",
              "      <td>False</td>\n",
              "      <td>False</td>\n",
              "      <td>False</td>\n",
              "      <td>False</td>\n",
              "      <td>False</td>\n",
              "    </tr>\n",
              "    <tr>\n",
              "      <th>1</th>\n",
              "      <td>ReconstructDuList(Statement* head)\\n{\\n    Sta...</td>\n",
              "      <td>False</td>\n",
              "      <td>False</td>\n",
              "      <td>False</td>\n",
              "      <td>False</td>\n",
              "      <td>False</td>\n",
              "    </tr>\n",
              "    <tr>\n",
              "      <th>2</th>\n",
              "      <td>free_speaker(void)\\n{\\n   if(Lengths)\\n       ...</td>\n",
              "      <td>False</td>\n",
              "      <td>False</td>\n",
              "      <td>False</td>\n",
              "      <td>False</td>\n",
              "      <td>False</td>\n",
              "    </tr>\n",
              "    <tr>\n",
              "      <th>3</th>\n",
              "      <td>mlx4_register_device(struct mlx4_dev *dev)\\n{\\...</td>\n",
              "      <td>False</td>\n",
              "      <td>False</td>\n",
              "      <td>False</td>\n",
              "      <td>False</td>\n",
              "      <td>False</td>\n",
              "    </tr>\n",
              "    <tr>\n",
              "      <th>4</th>\n",
              "      <td>Parse_Env_Var(void)\\n{\\n  char *p = getenv(\"LI...</td>\n",
              "      <td>True</td>\n",
              "      <td>True</td>\n",
              "      <td>False</td>\n",
              "      <td>False</td>\n",
              "      <td>True</td>\n",
              "    </tr>\n",
              "  </tbody>\n",
              "</table>\n",
              "</div>"
            ],
            "text/plain": [
              "                                      functionSource  ...  CWE-other\n",
              "0  clear_area(int startx, int starty, int xsize, ...  ...      False\n",
              "1  ReconstructDuList(Statement* head)\\n{\\n    Sta...  ...      False\n",
              "2  free_speaker(void)\\n{\\n   if(Lengths)\\n       ...  ...      False\n",
              "3  mlx4_register_device(struct mlx4_dev *dev)\\n{\\...  ...      False\n",
              "4  Parse_Env_Var(void)\\n{\\n  char *p = getenv(\"LI...  ...       True\n",
              "\n",
              "[5 rows x 6 columns]"
            ]
          },
          "metadata": {
            "tags": []
          },
          "execution_count": 17
        }
      ]
    },
    {
      "cell_type": "code",
      "metadata": {
        "id": "TDp3rCpMCpZy"
      },
      "source": [
        "x_all = train['functionSource']"
      ],
      "execution_count": 18,
      "outputs": []
    },
    {
      "cell_type": "code",
      "metadata": {
        "id": "7Oav7mTIDG8i"
      },
      "source": [
        "x1 = x_all"
      ],
      "execution_count": 19,
      "outputs": []
    },
    {
      "cell_type": "code",
      "metadata": {
        "colab": {
          "base_uri": "https://localhost:8080/"
        },
        "id": "l9_75_DRIctI",
        "outputId": "86611708-e2c9-4a11-d75c-067a2ae1ee0b"
      },
      "source": [
        "len(x_all)"
      ],
      "execution_count": 20,
      "outputs": [
        {
          "output_type": "execute_result",
          "data": {
            "text/plain": [
              "1019471"
            ]
          },
          "metadata": {
            "tags": []
          },
          "execution_count": 20
        }
      ]
    },
    {
      "cell_type": "markdown",
      "metadata": {
        "id": "_QuyzpXDJCng"
      },
      "source": [
        "<b> due to huge computation, I take only 1000 samples"
      ]
    },
    {
      "cell_type": "code",
      "metadata": {
        "id": "ZtlHe-TmITmu"
      },
      "source": [
        "x1_all = x_all[1000]"
      ],
      "execution_count": 21,
      "outputs": []
    },
    {
      "cell_type": "markdown",
      "metadata": {
        "id": "FAn429_0GcbX"
      },
      "source": [
        "### Tokenizing the source codes"
      ]
    },
    {
      "cell_type": "code",
      "metadata": {
        "id": "vt0yEsicGcbX",
        "colab": {
          "base_uri": "https://localhost:8080/"
        },
        "outputId": "303e01d1-a6ee-4636-d0ee-313d7eabb3ff"
      },
      "source": [
        "# Tokenizer with word-level\n",
        "tokenizer = tf.keras.preprocessing.text.Tokenizer(char_level=False)\n",
        "tokenizer.fit_on_texts(list(x_all))\n",
        "del(x_all)\n",
        "print('Number of tokens: ',len(tokenizer.word_counts))"
      ],
      "execution_count": 22,
      "outputs": [
        {
          "output_type": "stream",
          "text": [
            "Number of tokens:  1094129\n"
          ],
          "name": "stdout"
        }
      ]
    },
    {
      "cell_type": "code",
      "metadata": {
        "id": "mMo-UhqkGcbY"
      },
      "source": [
        "# Reducing to top N words\n",
        "tokenizer.num_words = WORDS_SIZE"
      ],
      "execution_count": 23,
      "outputs": []
    },
    {
      "cell_type": "code",
      "metadata": {
        "id": "iSD0TjsJGcbY",
        "colab": {
          "base_uri": "https://localhost:8080/"
        },
        "outputId": "975c3d98-f074-4c1c-95fe-02c7d40c5776"
      },
      "source": [
        "# Top 10 words\n",
        "sorted(tokenizer.word_counts.items(), key=lambda x:x[1], reverse=True)[0:10]"
      ],
      "execution_count": 24,
      "outputs": [
        {
          "output_type": "execute_result",
          "data": {
            "text/plain": [
              "[('if', 3126441),\n",
              " ('0', 2106459),\n",
              " ('return', 1745333),\n",
              " ('i', 1375259),\n",
              " ('1', 1186857),\n",
              " ('int', 1016932),\n",
              " ('null', 975347),\n",
              " ('the', 791897),\n",
              " ('t', 733766),\n",
              " ('n', 716010)]"
            ]
          },
          "metadata": {
            "tags": []
          },
          "execution_count": 24
        }
      ]
    },
    {
      "cell_type": "markdown",
      "metadata": {
        "id": "49tl3btLGcbZ"
      },
      "source": [
        "### Create sequence files from the tokens"
      ]
    },
    {
      "cell_type": "markdown",
      "metadata": {
        "id": "giUl_Bexlu5r"
      },
      "source": [
        "<b> NOTE: </b> we only considering 1000 samples because it takes days to train entire dataset."
      ]
    },
    {
      "cell_type": "code",
      "metadata": {
        "id": "DTzId8nXGcbZ"
      },
      "source": [
        "## Tokkenizing train data and create matrix\n",
        "list_tokenized_train = tokenizer.texts_to_sequences(train['functionSource'][:1000])\n",
        "x_train = tf.keras.preprocessing.sequence.pad_sequences(list_tokenized_train, \n",
        "                                  maxlen=INPUT_SIZE,\n",
        "                                  padding='post')\n",
        "x_train = x_train.astype(np.int64)"
      ],
      "execution_count": 25,
      "outputs": []
    },
    {
      "cell_type": "code",
      "metadata": {
        "colab": {
          "base_uri": "https://localhost:8080/"
        },
        "id": "tfdtF20vJd0P",
        "outputId": "af84a6dc-2237-44f7-f7cb-dda16174f1e0"
      },
      "source": [
        "x_train"
      ],
      "execution_count": 26,
      "outputs": [
        {
          "output_type": "execute_result",
          "data": {
            "text/plain": [
              "array([[ 270,  650,    6, ...,    0,    0,    0],\n",
              "       [1306,  242, 1306, ...,    0,    0,    0],\n",
              "       [  45,   72,    1, ...,    0,    0,    0],\n",
              "       ...,\n",
              "       [4204,  172,  244, ...,    0,    0,    0],\n",
              "       [1539, 1138,   19, ...,    0,    0,    0],\n",
              "       [ 780,   52,   54, ...,    0,    0,    0]])"
            ]
          },
          "metadata": {
            "tags": []
          },
          "execution_count": 26
        }
      ]
    },
    {
      "cell_type": "markdown",
      "metadata": {
        "id": "sqqw6tL0mPe0"
      },
      "source": [
        "<b>We are commenting code because we didn't take testing and validating dataset</b>"
      ]
    },
    {
      "cell_type": "code",
      "metadata": {
        "id": "We4j1GfPGcba"
      },
      "source": [
        "## Tokkenizing test data and create matrix\n",
        "\n",
        "### We are commenting code because we didn't take testing and validating dataset\n",
        "\"\"\"\n",
        "list_tokenized_test = tokenizer.texts_to_sequences(test['functionSource'])\n",
        "x_test = tf.keras.preprocessing.sequence.pad_sequences(list_tokenized_test, \n",
        "                                 maxlen=INPUT_SIZE,\n",
        "                                 padding='post')\n",
        "x_test = x_test.astype(np.int64)\n",
        "\"\"\""
      ],
      "execution_count": null,
      "outputs": []
    },
    {
      "cell_type": "code",
      "metadata": {
        "id": "jpjIADK9Gcba"
      },
      "source": [
        "## Tokkenizing validate data and create matrix\n",
        "\"\"\"\n",
        "list_tokenized_validate = tokenizer.texts_to_sequences(validate['functionSource'])\n",
        "x_validate = tf.keras.preprocessing.sequence.pad_sequences(list_tokenized_validate, \n",
        "                                 maxlen=INPUT_SIZE,\n",
        "                                 padding='post')\n",
        "x_validate = x_validate.astype(np.int64)\n",
        "\"\"\""
      ],
      "execution_count": null,
      "outputs": []
    },
    {
      "cell_type": "code",
      "metadata": {
        "id": "Gf1c3rOJGcbb"
      },
      "source": [
        "# Example data\n",
        "#test.iloc[0:5,1:6]"
      ],
      "execution_count": null,
      "outputs": []
    },
    {
      "cell_type": "code",
      "metadata": {
        "id": "ECdLnMGrJtZy"
      },
      "source": [
        "train1 = train\n",
        "train = train[:1000]"
      ],
      "execution_count": 27,
      "outputs": []
    },
    {
      "cell_type": "markdown",
      "metadata": {
        "id": "XLtN1raoGcbc"
      },
      "source": [
        "### One-Hot-Enconding (OHE) on the datasets"
      ]
    },
    {
      "cell_type": "code",
      "metadata": {
        "id": "ELXcJj4DGcbd"
      },
      "source": [
        "y_train=[]\n",
        "#y_test=[]\n",
        "#y_validate=[]\n",
        "\n",
        "for col in range(1,6):\n",
        "    y_train.append(tf.keras.utils.to_categorical(train.iloc[:,col], num_classes=NUM_CLASSES).astype(np.int64))\n",
        "    #y_test.append(tf.keras.utils.to_categorical(test.iloc[:,col], num_classes=NUM_CLASSES).astype(np.int64))\n",
        "    #y_validate.append(tf.keras.utils.to_categorical(validate.iloc[:,col], num_classes=NUM_CLASSES).astype(np.int64))"
      ],
      "execution_count": 28,
      "outputs": []
    },
    {
      "cell_type": "code",
      "metadata": {
        "colab": {
          "base_uri": "https://localhost:8080/"
        },
        "id": "oGiv_0HaJ8Q6",
        "outputId": "e1b5147e-7583-4b96-de4a-ab8016e4ff51"
      },
      "source": [
        "y_train[0]"
      ],
      "execution_count": 29,
      "outputs": [
        {
          "output_type": "execute_result",
          "data": {
            "text/plain": [
              "array([[1, 0],\n",
              "       [1, 0],\n",
              "       [1, 0],\n",
              "       ...,\n",
              "       [1, 0],\n",
              "       [1, 0],\n",
              "       [1, 0]])"
            ]
          },
          "metadata": {
            "tags": []
          },
          "execution_count": 29
        }
      ]
    },
    {
      "cell_type": "code",
      "metadata": {
        "id": "Hmd7GwCqGcbe"
      },
      "source": [
        "# Example data\n",
        "#y_test[0][1:10]"
      ],
      "execution_count": 40,
      "outputs": []
    },
    {
      "cell_type": "markdown",
      "metadata": {
        "id": "_W1XTQEIGcbg"
      },
      "source": [
        "### Model Definition (CNN with Gaussian Noise and 5 Output Splits)"
      ]
    },
    {
      "cell_type": "code",
      "metadata": {
        "id": "4gj37lBiGcbg"
      },
      "source": [
        "# Create a random weights matrix\n",
        "\n",
        "random_weights = np.random.normal(size=(WORDS_SIZE, 13),scale=0.01)"
      ],
      "execution_count": 30,
      "outputs": []
    },
    {
      "cell_type": "code",
      "metadata": {
        "id": "3W_Y_ba-Gcbh",
        "colab": {
          "base_uri": "https://localhost:8080/"
        },
        "outputId": "686feb21-202c-42c2-be56-8d7f6beb9015"
      },
      "source": [
        "# Must use non-sequential model building to create branches in the output layer\n",
        "inp_layer = tf.keras.layers.Input(shape=(INPUT_SIZE,))\n",
        "mid_layers = tf.keras.layers.Embedding(input_dim = WORDS_SIZE,\n",
        "                                    output_dim = 13,\n",
        "                                    weights=[random_weights],\n",
        "                                    input_length = INPUT_SIZE)(inp_layer)\n",
        "mid_layers = tf.keras.layers.Convolution1D(filters=512, kernel_size=(9), padding='same', activation='relu')(mid_layers)\n",
        "mid_layers = tf.keras.layers.MaxPool1D(pool_size=5)(mid_layers)\n",
        "mid_layers = tf.keras.layers.Dropout(0.5)(mid_layers)\n",
        "mid_layers = tf.keras.layers.Flatten()(mid_layers)\n",
        "mid_layers = tf.keras.layers.Dense(64, activation='relu')(mid_layers)\n",
        "mid_layers = tf.keras.layers.Dense(16, activation='relu')(mid_layers)\n",
        "output1 = tf.keras.layers.Dense(2, activation='softmax')(mid_layers)\n",
        "output2 = tf.keras.layers.Dense(2, activation='softmax')(mid_layers)\n",
        "output3 = tf.keras.layers.Dense(2, activation='softmax')(mid_layers)\n",
        "output4 =tf.keras.layers.Dense(2, activation='softmax')(mid_layers)\n",
        "output5 = tf.keras.layers.Dense(2, activation='softmax')(mid_layers)\n",
        "model = tf.keras.Model(inp_layer,[output1,output2,output3,output4,output5])\n",
        "\n",
        "# Define custom optimizers\n",
        "adam = tf.keras.optimizers.Adam(lr=0.005, beta_1=0.9, beta_2=0.999, epsilon=1, decay=0.0, amsgrad=False)\n",
        "\n",
        "## Compile model with metrics\n",
        "model.compile(optimizer=adam, loss='categorical_crossentropy', metrics=['accuracy'])\n",
        "print(\"CNN model built: \")\n",
        "model.summary()"
      ],
      "execution_count": 31,
      "outputs": [
        {
          "output_type": "stream",
          "text": [
            "CNN model built: \n",
            "Model: \"model\"\n",
            "__________________________________________________________________________________________________\n",
            "Layer (type)                    Output Shape         Param #     Connected to                     \n",
            "==================================================================================================\n",
            "input_1 (InputLayer)            [(None, 500)]        0                                            \n",
            "__________________________________________________________________________________________________\n",
            "embedding (Embedding)           (None, 500, 13)      130000      input_1[0][0]                    \n",
            "__________________________________________________________________________________________________\n",
            "conv1d (Conv1D)                 (None, 500, 512)     60416       embedding[0][0]                  \n",
            "__________________________________________________________________________________________________\n",
            "max_pooling1d (MaxPooling1D)    (None, 100, 512)     0           conv1d[0][0]                     \n",
            "__________________________________________________________________________________________________\n",
            "dropout (Dropout)               (None, 100, 512)     0           max_pooling1d[0][0]              \n",
            "__________________________________________________________________________________________________\n",
            "flatten (Flatten)               (None, 51200)        0           dropout[0][0]                    \n",
            "__________________________________________________________________________________________________\n",
            "dense (Dense)                   (None, 64)           3276864     flatten[0][0]                    \n",
            "__________________________________________________________________________________________________\n",
            "dense_1 (Dense)                 (None, 16)           1040        dense[0][0]                      \n",
            "__________________________________________________________________________________________________\n",
            "dense_2 (Dense)                 (None, 2)            34          dense_1[0][0]                    \n",
            "__________________________________________________________________________________________________\n",
            "dense_3 (Dense)                 (None, 2)            34          dense_1[0][0]                    \n",
            "__________________________________________________________________________________________________\n",
            "dense_4 (Dense)                 (None, 2)            34          dense_1[0][0]                    \n",
            "__________________________________________________________________________________________________\n",
            "dense_5 (Dense)                 (None, 2)            34          dense_1[0][0]                    \n",
            "__________________________________________________________________________________________________\n",
            "dense_6 (Dense)                 (None, 2)            34          dense_1[0][0]                    \n",
            "==================================================================================================\n",
            "Total params: 3,468,490\n",
            "Trainable params: 3,468,490\n",
            "Non-trainable params: 0\n",
            "__________________________________________________________________________________________________\n"
          ],
          "name": "stdout"
        }
      ]
    },
    {
      "cell_type": "code",
      "metadata": {
        "colab": {
          "base_uri": "https://localhost:8080/",
          "height": 35
        },
        "id": "EbNL_1GuKJb6",
        "outputId": "21f36ead-220d-44de-83d0-a8f07580f788"
      },
      "source": [
        "pwd"
      ],
      "execution_count": 49,
      "outputs": [
        {
          "output_type": "execute_result",
          "data": {
            "application/vnd.google.colaboratory.intrinsic+json": {
              "type": "string"
            },
            "text/plain": [
              "'/content/drive/My Drive/Colab Notebooks'"
            ]
          },
          "metadata": {
            "tags": []
          },
          "execution_count": 49
        }
      ]
    },
    {
      "cell_type": "markdown",
      "metadata": {
        "id": "APqyGycSGcbk"
      },
      "source": [
        "### Tensorboard Callbacks"
      ]
    },
    {
      "cell_type": "markdown",
      "metadata": {
        "id": "h3FKtD7mGcbn"
      },
      "source": [
        "### Model Training"
      ]
    },
    {
      "cell_type": "code",
      "metadata": {
        "id": "tHzW7d0BGcbn",
        "colab": {
          "base_uri": "https://localhost:8080/"
        },
        "outputId": "3d007268-eb9f-46ce-8283-9b2460d00162"
      },
      "source": [
        "class_weights = [{0: 1., 1: 5.},{0: 1., 1: 5.},{0: 1., 1: 5.},{0: 1., 1: 5.},{0: 1., 1: 5.}]\n",
        "\n",
        "history = model.fit(x = x_train,\n",
        "          y = [y_train[0], y_train[1], y_train[2], y_train[3], y_train[4]],\n",
        "          #validation_data = (x_validate, [y_validate[0], y_validate[1], y_validate[2], y_validate[3], y_validate[4]]),\n",
        "          epochs = 40,\n",
        "          batch_size = 128,\n",
        "          verbose =2)\n",
        "\n"
      ],
      "execution_count": 32,
      "outputs": [
        {
          "output_type": "stream",
          "text": [
            "Epoch 1/40\n",
            "8/8 - 8s - loss: 3.4622 - dense_2_loss: 0.6924 - dense_3_loss: 0.6928 - dense_4_loss: 0.6926 - dense_5_loss: 0.6911 - dense_6_loss: 0.6934 - dense_2_accuracy: 0.7510 - dense_3_accuracy: 0.6220 - dense_4_accuracy: 0.6900 - dense_5_accuracy: 0.8970 - dense_6_accuracy: 0.4060\n",
            "Epoch 2/40\n",
            "8/8 - 6s - loss: 3.4494 - dense_2_loss: 0.6906 - dense_3_loss: 0.6902 - dense_4_loss: 0.6897 - dense_5_loss: 0.6862 - dense_6_loss: 0.6927 - dense_2_accuracy: 0.9330 - dense_3_accuracy: 0.9510 - dense_4_accuracy: 0.9930 - dense_5_accuracy: 0.9920 - dense_6_accuracy: 0.7180\n",
            "Epoch 3/40\n",
            "8/8 - 6s - loss: 3.4286 - dense_2_loss: 0.6884 - dense_3_loss: 0.6861 - dense_4_loss: 0.6845 - dense_5_loss: 0.6771 - dense_6_loss: 0.6925 - dense_2_accuracy: 0.9790 - dense_3_accuracy: 0.9650 - dense_4_accuracy: 0.9960 - dense_5_accuracy: 0.9920 - dense_6_accuracy: 0.7600\n",
            "Epoch 4/40\n",
            "8/8 - 6s - loss: 3.4027 - dense_2_loss: 0.6859 - dense_3_loss: 0.6810 - dense_4_loss: 0.6779 - dense_5_loss: 0.6653 - dense_6_loss: 0.6926 - dense_2_accuracy: 0.9820 - dense_3_accuracy: 0.9650 - dense_4_accuracy: 0.9960 - dense_5_accuracy: 0.9920 - dense_6_accuracy: 0.7220\n",
            "Epoch 5/40\n",
            "8/8 - 6s - loss: 3.3727 - dense_2_loss: 0.6827 - dense_3_loss: 0.6753 - dense_4_loss: 0.6704 - dense_5_loss: 0.6516 - dense_6_loss: 0.6928 - dense_2_accuracy: 0.9820 - dense_3_accuracy: 0.9650 - dense_4_accuracy: 0.9960 - dense_5_accuracy: 0.9920 - dense_6_accuracy: 0.6480\n",
            "Epoch 6/40\n",
            "8/8 - 6s - loss: 3.3392 - dense_2_loss: 0.6787 - dense_3_loss: 0.6689 - dense_4_loss: 0.6624 - dense_5_loss: 0.6363 - dense_6_loss: 0.6930 - dense_2_accuracy: 0.9820 - dense_3_accuracy: 0.9650 - dense_4_accuracy: 0.9960 - dense_5_accuracy: 0.9920 - dense_6_accuracy: 0.5860\n",
            "Epoch 7/40\n",
            "8/8 - 6s - loss: 3.3023 - dense_2_loss: 0.6739 - dense_3_loss: 0.6619 - dense_4_loss: 0.6541 - dense_5_loss: 0.6192 - dense_6_loss: 0.6932 - dense_2_accuracy: 0.9820 - dense_3_accuracy: 0.9650 - dense_4_accuracy: 0.9960 - dense_5_accuracy: 0.9920 - dense_6_accuracy: 0.5110\n",
            "Epoch 8/40\n",
            "8/8 - 6s - loss: 3.2620 - dense_2_loss: 0.6678 - dense_3_loss: 0.6544 - dense_4_loss: 0.6460 - dense_5_loss: 0.6005 - dense_6_loss: 0.6932 - dense_2_accuracy: 0.9820 - dense_3_accuracy: 0.9650 - dense_4_accuracy: 0.9960 - dense_5_accuracy: 0.9920 - dense_6_accuracy: 0.4940\n",
            "Epoch 9/40\n",
            "8/8 - 6s - loss: 3.2191 - dense_2_loss: 0.6608 - dense_3_loss: 0.6466 - dense_4_loss: 0.6379 - dense_5_loss: 0.5807 - dense_6_loss: 0.6932 - dense_2_accuracy: 0.9820 - dense_3_accuracy: 0.9650 - dense_4_accuracy: 0.9960 - dense_5_accuracy: 0.9920 - dense_6_accuracy: 0.4940\n",
            "Epoch 10/40\n",
            "8/8 - 6s - loss: 3.1735 - dense_2_loss: 0.6533 - dense_3_loss: 0.6381 - dense_4_loss: 0.6292 - dense_5_loss: 0.5594 - dense_6_loss: 0.6934 - dense_2_accuracy: 0.9820 - dense_3_accuracy: 0.9650 - dense_4_accuracy: 0.9960 - dense_5_accuracy: 0.9920 - dense_6_accuracy: 0.4430\n",
            "Epoch 11/40\n",
            "8/8 - 6s - loss: 3.1253 - dense_2_loss: 0.6448 - dense_3_loss: 0.6294 - dense_4_loss: 0.6202 - dense_5_loss: 0.5372 - dense_6_loss: 0.6937 - dense_2_accuracy: 0.9820 - dense_3_accuracy: 0.9650 - dense_4_accuracy: 0.9960 - dense_5_accuracy: 0.9920 - dense_6_accuracy: 0.4170\n",
            "Epoch 12/40\n",
            "8/8 - 6s - loss: 3.0747 - dense_2_loss: 0.6359 - dense_3_loss: 0.6204 - dense_4_loss: 0.6106 - dense_5_loss: 0.5140 - dense_6_loss: 0.6937 - dense_2_accuracy: 0.9820 - dense_3_accuracy: 0.9650 - dense_4_accuracy: 0.9960 - dense_5_accuracy: 0.9920 - dense_6_accuracy: 0.4000\n",
            "Epoch 13/40\n",
            "8/8 - 6s - loss: 3.0210 - dense_2_loss: 0.6262 - dense_3_loss: 0.6106 - dense_4_loss: 0.6004 - dense_5_loss: 0.4897 - dense_6_loss: 0.6941 - dense_2_accuracy: 0.9820 - dense_3_accuracy: 0.9650 - dense_4_accuracy: 0.9960 - dense_5_accuracy: 0.9920 - dense_6_accuracy: 0.3760\n",
            "Epoch 14/40\n",
            "8/8 - 6s - loss: 2.9641 - dense_2_loss: 0.6160 - dense_3_loss: 0.6004 - dense_4_loss: 0.5891 - dense_5_loss: 0.4639 - dense_6_loss: 0.6948 - dense_2_accuracy: 0.9820 - dense_3_accuracy: 0.9650 - dense_4_accuracy: 0.9960 - dense_5_accuracy: 0.9920 - dense_6_accuracy: 0.2980\n",
            "Epoch 15/40\n",
            "8/8 - 6s - loss: 2.9027 - dense_2_loss: 0.6048 - dense_3_loss: 0.5890 - dense_4_loss: 0.5770 - dense_5_loss: 0.4362 - dense_6_loss: 0.6958 - dense_2_accuracy: 0.9820 - dense_3_accuracy: 0.9650 - dense_4_accuracy: 0.9960 - dense_5_accuracy: 0.9920 - dense_6_accuracy: 0.2310\n",
            "Epoch 16/40\n",
            "8/8 - 6s - loss: 2.8383 - dense_2_loss: 0.5928 - dense_3_loss: 0.5772 - dense_4_loss: 0.5636 - dense_5_loss: 0.4077 - dense_6_loss: 0.6971 - dense_2_accuracy: 0.9820 - dense_3_accuracy: 0.9650 - dense_4_accuracy: 0.9960 - dense_5_accuracy: 0.9920 - dense_6_accuracy: 0.1540\n",
            "Epoch 17/40\n",
            "8/8 - 6s - loss: 2.7679 - dense_2_loss: 0.5796 - dense_3_loss: 0.5639 - dense_4_loss: 0.5489 - dense_5_loss: 0.3770 - dense_6_loss: 0.6984 - dense_2_accuracy: 0.9820 - dense_3_accuracy: 0.9650 - dense_4_accuracy: 0.9960 - dense_5_accuracy: 0.9920 - dense_6_accuracy: 0.1200\n",
            "Epoch 18/40\n",
            "8/8 - 6s - loss: 2.6926 - dense_2_loss: 0.5649 - dense_3_loss: 0.5497 - dense_4_loss: 0.5327 - dense_5_loss: 0.3451 - dense_6_loss: 0.7002 - dense_2_accuracy: 0.9820 - dense_3_accuracy: 0.9650 - dense_4_accuracy: 0.9960 - dense_5_accuracy: 0.9920 - dense_6_accuracy: 0.0740\n",
            "Epoch 19/40\n",
            "8/8 - 6s - loss: 2.6106 - dense_2_loss: 0.5476 - dense_3_loss: 0.5346 - dense_4_loss: 0.5152 - dense_5_loss: 0.3117 - dense_6_loss: 0.7015 - dense_2_accuracy: 0.9820 - dense_3_accuracy: 0.9650 - dense_4_accuracy: 0.9960 - dense_5_accuracy: 0.9920 - dense_6_accuracy: 0.0660\n",
            "Epoch 20/40\n",
            "8/8 - 6s - loss: 2.5233 - dense_2_loss: 0.5288 - dense_3_loss: 0.5178 - dense_4_loss: 0.4956 - dense_5_loss: 0.2785 - dense_6_loss: 0.7027 - dense_2_accuracy: 0.9820 - dense_3_accuracy: 0.9650 - dense_4_accuracy: 0.9960 - dense_5_accuracy: 0.9920 - dense_6_accuracy: 0.0680\n",
            "Epoch 21/40\n",
            "8/8 - 6s - loss: 2.4278 - dense_2_loss: 0.5080 - dense_3_loss: 0.4991 - dense_4_loss: 0.4735 - dense_5_loss: 0.2442 - dense_6_loss: 0.7031 - dense_2_accuracy: 0.9820 - dense_3_accuracy: 0.9650 - dense_4_accuracy: 0.9960 - dense_5_accuracy: 0.9920 - dense_6_accuracy: 0.0690\n",
            "Epoch 22/40\n",
            "8/8 - 6s - loss: 2.3250 - dense_2_loss: 0.4834 - dense_3_loss: 0.4796 - dense_4_loss: 0.4499 - dense_5_loss: 0.2108 - dense_6_loss: 0.7014 - dense_2_accuracy: 0.9820 - dense_3_accuracy: 0.9650 - dense_4_accuracy: 0.9960 - dense_5_accuracy: 0.9920 - dense_6_accuracy: 0.1320\n",
            "Epoch 23/40\n",
            "8/8 - 6s - loss: 2.2142 - dense_2_loss: 0.4569 - dense_3_loss: 0.4576 - dense_4_loss: 0.4233 - dense_5_loss: 0.1796 - dense_6_loss: 0.6968 - dense_2_accuracy: 0.9820 - dense_3_accuracy: 0.9650 - dense_4_accuracy: 0.9960 - dense_5_accuracy: 0.9920 - dense_6_accuracy: 0.3270\n",
            "Epoch 24/40\n",
            "8/8 - 6s - loss: 2.0926 - dense_2_loss: 0.4265 - dense_3_loss: 0.4347 - dense_4_loss: 0.3941 - dense_5_loss: 0.1501 - dense_6_loss: 0.6872 - dense_2_accuracy: 0.9820 - dense_3_accuracy: 0.9650 - dense_4_accuracy: 0.9960 - dense_5_accuracy: 0.9920 - dense_6_accuracy: 0.7480\n",
            "Epoch 25/40\n",
            "8/8 - 6s - loss: 1.9624 - dense_2_loss: 0.3929 - dense_3_loss: 0.4102 - dense_4_loss: 0.3631 - dense_5_loss: 0.1248 - dense_6_loss: 0.6713 - dense_2_accuracy: 0.9820 - dense_3_accuracy: 0.9650 - dense_4_accuracy: 0.9960 - dense_5_accuracy: 0.9920 - dense_6_accuracy: 0.9660\n",
            "Epoch 26/40\n",
            "8/8 - 6s - loss: 1.8221 - dense_2_loss: 0.3570 - dense_3_loss: 0.3845 - dense_4_loss: 0.3293 - dense_5_loss: 0.1029 - dense_6_loss: 0.6484 - dense_2_accuracy: 0.9820 - dense_3_accuracy: 0.9650 - dense_4_accuracy: 0.9960 - dense_5_accuracy: 0.9920 - dense_6_accuracy: 0.9780\n",
            "Epoch 27/40\n",
            "8/8 - 6s - loss: 1.6736 - dense_2_loss: 0.3182 - dense_3_loss: 0.3541 - dense_4_loss: 0.2952 - dense_5_loss: 0.0845 - dense_6_loss: 0.6215 - dense_2_accuracy: 0.9820 - dense_3_accuracy: 0.9650 - dense_4_accuracy: 0.9960 - dense_5_accuracy: 0.9920 - dense_6_accuracy: 0.9780\n",
            "Epoch 28/40\n",
            "8/8 - 6s - loss: 1.5190 - dense_2_loss: 0.2781 - dense_3_loss: 0.3205 - dense_4_loss: 0.2614 - dense_5_loss: 0.0700 - dense_6_loss: 0.5890 - dense_2_accuracy: 0.9820 - dense_3_accuracy: 0.9650 - dense_4_accuracy: 0.9960 - dense_5_accuracy: 0.9920 - dense_6_accuracy: 0.9780\n",
            "Epoch 29/40\n",
            "8/8 - 6s - loss: 1.3625 - dense_2_loss: 0.2389 - dense_3_loss: 0.2867 - dense_4_loss: 0.2278 - dense_5_loss: 0.0598 - dense_6_loss: 0.5493 - dense_2_accuracy: 0.9820 - dense_3_accuracy: 0.9650 - dense_4_accuracy: 0.9960 - dense_5_accuracy: 0.9920 - dense_6_accuracy: 0.9780\n",
            "Epoch 30/40\n",
            "8/8 - 6s - loss: 1.2052 - dense_2_loss: 0.2036 - dense_3_loss: 0.2537 - dense_4_loss: 0.1949 - dense_5_loss: 0.0519 - dense_6_loss: 0.5010 - dense_2_accuracy: 0.9820 - dense_3_accuracy: 0.9650 - dense_4_accuracy: 0.9960 - dense_5_accuracy: 0.9920 - dense_6_accuracy: 0.9780\n",
            "Epoch 31/40\n",
            "8/8 - 6s - loss: 1.0542 - dense_2_loss: 0.1714 - dense_3_loss: 0.2242 - dense_4_loss: 0.1650 - dense_5_loss: 0.0484 - dense_6_loss: 0.4451 - dense_2_accuracy: 0.9820 - dense_3_accuracy: 0.9650 - dense_4_accuracy: 0.9960 - dense_5_accuracy: 0.9920 - dense_6_accuracy: 0.9780\n",
            "Epoch 32/40\n",
            "8/8 - 6s - loss: 0.9161 - dense_2_loss: 0.1465 - dense_3_loss: 0.1999 - dense_4_loss: 0.1374 - dense_5_loss: 0.0463 - dense_6_loss: 0.3860 - dense_2_accuracy: 0.9820 - dense_3_accuracy: 0.9650 - dense_4_accuracy: 0.9960 - dense_5_accuracy: 0.9920 - dense_6_accuracy: 0.9780\n",
            "Epoch 33/40\n",
            "8/8 - 6s - loss: 0.7958 - dense_2_loss: 0.1269 - dense_3_loss: 0.1809 - dense_4_loss: 0.1137 - dense_5_loss: 0.0467 - dense_6_loss: 0.3276 - dense_2_accuracy: 0.9820 - dense_3_accuracy: 0.9650 - dense_4_accuracy: 0.9960 - dense_5_accuracy: 0.9920 - dense_6_accuracy: 0.9780\n",
            "Epoch 34/40\n",
            "8/8 - 6s - loss: 0.6971 - dense_2_loss: 0.1131 - dense_3_loss: 0.1676 - dense_4_loss: 0.0944 - dense_5_loss: 0.0475 - dense_6_loss: 0.2744 - dense_2_accuracy: 0.9820 - dense_3_accuracy: 0.9650 - dense_4_accuracy: 0.9960 - dense_5_accuracy: 0.9920 - dense_6_accuracy: 0.9780\n",
            "Epoch 35/40\n",
            "8/8 - 6s - loss: 0.6213 - dense_2_loss: 0.1035 - dense_3_loss: 0.1598 - dense_4_loss: 0.0785 - dense_5_loss: 0.0496 - dense_6_loss: 0.2299 - dense_2_accuracy: 0.9820 - dense_3_accuracy: 0.9650 - dense_4_accuracy: 0.9960 - dense_5_accuracy: 0.9920 - dense_6_accuracy: 0.9780\n",
            "Epoch 36/40\n",
            "8/8 - 6s - loss: 0.5633 - dense_2_loss: 0.0964 - dense_3_loss: 0.1535 - dense_4_loss: 0.0667 - dense_5_loss: 0.0516 - dense_6_loss: 0.1951 - dense_2_accuracy: 0.9820 - dense_3_accuracy: 0.9650 - dense_4_accuracy: 0.9960 - dense_5_accuracy: 0.9920 - dense_6_accuracy: 0.9780\n",
            "Epoch 37/40\n",
            "8/8 - 6s - loss: 0.5257 - dense_2_loss: 0.0933 - dense_3_loss: 0.1517 - dense_4_loss: 0.0580 - dense_5_loss: 0.0531 - dense_6_loss: 0.1697 - dense_2_accuracy: 0.9820 - dense_3_accuracy: 0.9650 - dense_4_accuracy: 0.9960 - dense_5_accuracy: 0.9920 - dense_6_accuracy: 0.9780\n",
            "Epoch 38/40\n",
            "8/8 - 6s - loss: 0.4990 - dense_2_loss: 0.0915 - dense_3_loss: 0.1505 - dense_4_loss: 0.0513 - dense_5_loss: 0.0544 - dense_6_loss: 0.1513 - dense_2_accuracy: 0.9820 - dense_3_accuracy: 0.9650 - dense_4_accuracy: 0.9960 - dense_5_accuracy: 0.9920 - dense_6_accuracy: 0.9780\n",
            "Epoch 39/40\n",
            "8/8 - 6s - loss: 0.4814 - dense_2_loss: 0.0902 - dense_3_loss: 0.1500 - dense_4_loss: 0.0465 - dense_5_loss: 0.0562 - dense_6_loss: 0.1386 - dense_2_accuracy: 0.9820 - dense_3_accuracy: 0.9650 - dense_4_accuracy: 0.9960 - dense_5_accuracy: 0.9920 - dense_6_accuracy: 0.9780\n",
            "Epoch 40/40\n",
            "8/8 - 6s - loss: 0.4701 - dense_2_loss: 0.0896 - dense_3_loss: 0.1505 - dense_4_loss: 0.0428 - dense_5_loss: 0.0575 - dense_6_loss: 0.1296 - dense_2_accuracy: 0.9820 - dense_3_accuracy: 0.9650 - dense_4_accuracy: 0.9960 - dense_5_accuracy: 0.9920 - dense_6_accuracy: 0.9780\n"
          ],
          "name": "stdout"
        }
      ]
    },
    {
      "cell_type": "code",
      "metadata": {
        "id": "vr_--rcyLOd1"
      },
      "source": [
        "model.save(\"svd.h5\")"
      ],
      "execution_count": 33,
      "outputs": []
    },
    {
      "cell_type": "code",
      "metadata": {
        "id": "jgMqH8LBLmis"
      },
      "source": [
        ""
      ],
      "execution_count": null,
      "outputs": []
    },
    {
      "cell_type": "code",
      "metadata": {
        "colab": {
          "base_uri": "https://localhost:8080/",
          "height": 35
        },
        "id": "X2FlIiCHLXfj",
        "outputId": "1b4a6515-1bf1-4074-ce79-b6be6dd44756"
      },
      "source": [
        "pwd"
      ],
      "execution_count": 34,
      "outputs": [
        {
          "output_type": "execute_result",
          "data": {
            "application/vnd.google.colaboratory.intrinsic+json": {
              "type": "string"
            },
            "text/plain": [
              "'/content/drive/My Drive/Colab Notebooks'"
            ]
          },
          "metadata": {
            "tags": []
          },
          "execution_count": 34
        }
      ]
    },
    {
      "cell_type": "markdown",
      "metadata": {
        "id": "3er19QXLGcbp"
      },
      "source": [
        "### Model Evaluation using Testing Set"
      ]
    },
    {
      "cell_type": "code",
      "metadata": {
        "id": "G-TgEFDnGcbp"
      },
      "source": [
        "# Load model\n",
        "model1 = tf.keras.models.load_model(\"svd.h5\")"
      ],
      "execution_count": 35,
      "outputs": []
    },
    {
      "cell_type": "code",
      "metadata": {
        "id": "G5NPxFfnNy3A"
      },
      "source": [
        ""
      ],
      "execution_count": null,
      "outputs": []
    },
    {
      "cell_type": "code",
      "metadata": {
        "id": "GhOC3GpEGcbq"
      },
      "source": [
        "\"\"\"results = model.evaluate(x_test, y_test, batch_size=128)\n",
        "for num in range(0,len(model.metrics_names)):\n",
        "    print(model.metrics_names[num]+': '+str(results[num]))\n",
        "\"\"\""
      ],
      "execution_count": null,
      "outputs": []
    },
    {
      "cell_type": "code",
      "metadata": {
        "colab": {
          "base_uri": "https://localhost:8080/",
          "height": 35
        },
        "id": "lQXNK0PrN4h0",
        "outputId": "d7d5f05b-a3f2-4226-97ab-d398cea1fe5a"
      },
      "source": [
        "pwd "
      ],
      "execution_count": 1,
      "outputs": [
        {
          "output_type": "execute_result",
          "data": {
            "application/vnd.google.colaboratory.intrinsic+json": {
              "type": "string"
            },
            "text/plain": [
              "'/content'"
            ]
          },
          "metadata": {
            "tags": []
          },
          "execution_count": 1
        }
      ]
    },
    {
      "cell_type": "code",
      "metadata": {
        "colab": {
          "base_uri": "https://localhost:8080/"
        },
        "id": "ENXAeDOqOeAM",
        "outputId": "c04d2cd8-5680-46d1-8be5-1f2ea218593a"
      },
      "source": [
        "cd .."
      ],
      "execution_count": 65,
      "outputs": [
        {
          "output_type": "stream",
          "text": [
            "/content\n"
          ],
          "name": "stdout"
        }
      ]
    },
    {
      "cell_type": "code",
      "metadata": {
        "colab": {
          "base_uri": "https://localhost:8080/"
        },
        "id": "tAixRemCOhx7",
        "outputId": "17eda26b-eec2-49c4-cdb8-8f30a3a7f3ec"
      },
      "source": [
        "ls"
      ],
      "execution_count": 66,
      "outputs": [
        {
          "output_type": "stream",
          "text": [
            "\u001b[0m\u001b[01;34mdrive\u001b[0m/                  \u001b[01;34msample_data\u001b[0m/    \u001b[01;34mtrain\u001b[0m/            VDISC_train.pickle\n",
            "projector_config.pbtxt  test_sample.py  VDISC_train.hdf5\n"
          ],
          "name": "stdout"
        }
      ]
    },
    {
      "cell_type": "code",
      "metadata": {
        "colab": {
          "base_uri": "https://localhost:8080/",
          "height": 52
        },
        "id": "EzIml0_JO8i2",
        "outputId": "99938f0d-1f89-4719-bf74-62e06aa9051c"
      },
      "source": [
        "train['functionSource'][0]"
      ],
      "execution_count": 70,
      "outputs": [
        {
          "output_type": "execute_result",
          "data": {
            "application/vnd.google.colaboratory.intrinsic+json": {
              "type": "string"
            },
            "text/plain": [
              "'clear_area(int startx, int starty, int xsize, int ysize)\\n{\\n  int x;\\n\\n  TRACE_LOG(\"Clearing area %d,%d / %d,%d\\\\n\", startx, starty, xsize, ysize);\\n\\n  while (ysize > 0)\\n  {\\n    x = xsize;\\n    while (x > 0)\\n    {\\n      mvaddch(starty + ysize - 2, startx + x - 2, \\' \\');\\n      x--;\\n    }\\n    ysize--;\\n  }\\n}'"
            ]
          },
          "metadata": {
            "tags": []
          },
          "execution_count": 70
        }
      ]
    },
    {
      "cell_type": "code",
      "metadata": {
        "id": "deNOrd9KPjhw"
      },
      "source": [
        "tt = \"\"\"\n",
        "int checkPrimeNumber(int n) {\n",
        "   int i, flag = 1, squareRoot;\n",
        "\n",
        "   // computing the square root\n",
        "   squareRoot = sqrt(n);\n",
        "   for (i = 2; i <= squareRoot; ++i) {\n",
        " \n",
        "      if (n % i == 0) {\n",
        "         flag = 0;\n",
        "         break;\n",
        "      }\n",
        "   }\n",
        "   return flag;\n",
        "}\n",
        "\"\"\""
      ],
      "execution_count": 36,
      "outputs": []
    },
    {
      "cell_type": "code",
      "metadata": {
        "colab": {
          "base_uri": "https://localhost:8080/",
          "height": 52
        },
        "id": "m6Xf2zhaQblL",
        "outputId": "30a94bd9-1523-49dc-c6f2-8f8d1962aaca"
      },
      "source": [
        "tt"
      ],
      "execution_count": 37,
      "outputs": [
        {
          "output_type": "execute_result",
          "data": {
            "application/vnd.google.colaboratory.intrinsic+json": {
              "type": "string"
            },
            "text/plain": [
              "'\\nint checkPrimeNumber(int n) {\\n   int i, flag = 1, squareRoot;\\n\\n   // computing the square root\\n   squareRoot = sqrt(n);\\n   for (i = 2; i <= squareRoot; ++i) {\\n \\n      if (n % i == 0) {\\n         flag = 0;\\n         break;\\n      }\\n   }\\n   return flag;\\n}\\n'"
            ]
          },
          "metadata": {
            "tags": []
          },
          "execution_count": 37
        }
      ]
    },
    {
      "cell_type": "code",
      "metadata": {
        "id": "OZzQuh8mOuCA"
      },
      "source": [
        "## Tokkenizing test data and create matrix\n",
        "list_tokenized_test = tokenizer.texts_to_sequences(tt)\n",
        "x_test = tf.keras.preprocessing.sequence.pad_sequences(list_tokenized_test, \n",
        "                                 maxlen=INPUT_SIZE,\n",
        "                                 padding='post')\n",
        "x_test = x_test.astype(np.int64)"
      ],
      "execution_count": 38,
      "outputs": []
    },
    {
      "cell_type": "markdown",
      "metadata": {
        "id": "K4I6OOBCGcbr"
      },
      "source": [
        "### Check The Evaluation Metrics"
      ]
    },
    {
      "cell_type": "code",
      "metadata": {
        "id": "GXcCTY1EGcbs"
      },
      "source": [
        "predicted = model.predict(x_test)"
      ],
      "execution_count": 39,
      "outputs": []
    },
    {
      "cell_type": "code",
      "metadata": {
        "colab": {
          "base_uri": "https://localhost:8080/"
        },
        "id": "56ZIMn0CQnq1",
        "outputId": "5cbf73f6-5ab6-4bfd-bf53-33dbbe0c7e81"
      },
      "source": [
        "print(predicted)"
      ],
      "execution_count": 40,
      "outputs": [
        {
          "output_type": "stream",
          "text": [
            "[array([[0.98364174, 0.0163583 ],\n",
            "       [0.9836375 , 0.01636249],\n",
            "       [0.98363966, 0.01636031],\n",
            "       [0.98364025, 0.01635981],\n",
            "       [0.98364174, 0.0163583 ],\n",
            "       [0.9836353 , 0.01636469],\n",
            "       [0.98363584, 0.01636407],\n",
            "       [0.98363596, 0.01636398],\n",
            "       [0.9836353 , 0.01636469],\n",
            "       [0.9836405 , 0.01635953],\n",
            "       [0.98363656, 0.01636344],\n",
            "       [0.9836324 , 0.01636759],\n",
            "       [0.9836375 , 0.01636249],\n",
            "       [0.9836394 , 0.01636056],\n",
            "       [0.98363596, 0.01636398],\n",
            "       [0.98363966, 0.01636031],\n",
            "       [0.98363805, 0.0163619 ],\n",
            "       [0.9836394 , 0.01636056],\n",
            "       [0.98364097, 0.01635907],\n",
            "       [0.98363596, 0.01636398],\n",
            "       [0.9836324 , 0.01636759],\n",
            "       [0.98364174, 0.0163583 ],\n",
            "       [0.9836375 , 0.01636249],\n",
            "       [0.98363966, 0.01636031],\n",
            "       [0.98364025, 0.01635981],\n",
            "       [0.98364174, 0.0163583 ],\n",
            "       [0.98363966, 0.01636031],\n",
            "       [0.98364174, 0.0163583 ],\n",
            "       [0.98364174, 0.0163583 ],\n",
            "       [0.98364174, 0.0163583 ],\n",
            "       [0.98364174, 0.0163583 ],\n",
            "       [0.98364174, 0.0163583 ],\n",
            "       [0.98364174, 0.0163583 ],\n",
            "       [0.98364174, 0.0163583 ],\n",
            "       [0.9836375 , 0.01636249],\n",
            "       [0.98363966, 0.01636031],\n",
            "       [0.98364025, 0.01635981],\n",
            "       [0.98364174, 0.0163583 ],\n",
            "       [0.9836375 , 0.01636249],\n",
            "       [0.98364174, 0.0163583 ],\n",
            "       [0.98364174, 0.0163583 ],\n",
            "       [0.9836404 , 0.01635964],\n",
            "       [0.9836373 , 0.01636271],\n",
            "       [0.9836373 , 0.01636269],\n",
            "       [0.9836345 , 0.01636557],\n",
            "       [0.98364174, 0.0163583 ],\n",
            "       [0.98364174, 0.0163583 ],\n",
            "       [0.98364174, 0.0163583 ],\n",
            "       [0.9836326 , 0.01636737],\n",
            "       [0.98364174, 0.0163583 ],\n",
            "       [0.98364174, 0.0163583 ],\n",
            "       [0.983639  , 0.016361  ],\n",
            "       [0.98364025, 0.01635969],\n",
            "       [0.98363805, 0.0163619 ],\n",
            "       [0.9836373 , 0.01636269],\n",
            "       [0.9836324 , 0.01636759],\n",
            "       [0.98363596, 0.01636398],\n",
            "       [0.9836324 , 0.01636759],\n",
            "       [0.9836331 , 0.01636688],\n",
            "       [0.9836331 , 0.01636688],\n",
            "       [0.98364025, 0.01635981],\n",
            "       [0.98364174, 0.0163583 ],\n",
            "       [0.98364174, 0.0163583 ],\n",
            "       [0.98364174, 0.0163583 ],\n",
            "       [0.98364174, 0.0163583 ],\n",
            "       [0.98364174, 0.0163583 ],\n",
            "       [0.98364174, 0.0163583 ],\n",
            "       [0.98364174, 0.0163583 ],\n",
            "       [0.98364174, 0.0163583 ],\n",
            "       [0.98364174, 0.0163583 ],\n",
            "       [0.9836353 , 0.01636469],\n",
            "       [0.9836331 , 0.01636688],\n",
            "       [0.9836394 , 0.01636056],\n",
            "       [0.98363656, 0.01636344],\n",
            "       [0.98363805, 0.0163619 ],\n",
            "       [0.98364025, 0.01635981],\n",
            "       [0.9836375 , 0.01636249],\n",
            "       [0.98363966, 0.01636031],\n",
            "       [0.9836345 , 0.01636557],\n",
            "       [0.98364174, 0.0163583 ],\n",
            "       [0.98364025, 0.01635981],\n",
            "       [0.98363584, 0.01636407],\n",
            "       [0.98363596, 0.01636398],\n",
            "       [0.98364174, 0.0163583 ],\n",
            "       [0.983639  , 0.016361  ],\n",
            "       [0.98364025, 0.01635969],\n",
            "       [0.98363805, 0.0163619 ],\n",
            "       [0.9836373 , 0.01636269],\n",
            "       [0.9836324 , 0.01636759],\n",
            "       [0.98363596, 0.01636398],\n",
            "       [0.98364174, 0.0163583 ],\n",
            "       [0.9836324 , 0.01636759],\n",
            "       [0.9836331 , 0.01636688],\n",
            "       [0.9836331 , 0.01636688],\n",
            "       [0.98364025, 0.01635981],\n",
            "       [0.98364174, 0.0163583 ],\n",
            "       [0.98364174, 0.0163583 ],\n",
            "       [0.98364174, 0.0163583 ],\n",
            "       [0.98364174, 0.0163583 ],\n",
            "       [0.983639  , 0.016361  ],\n",
            "       [0.98364025, 0.01635969],\n",
            "       [0.98363805, 0.0163619 ],\n",
            "       [0.9836373 , 0.01636269],\n",
            "       [0.9836324 , 0.01636759],\n",
            "       [0.98363596, 0.01636398],\n",
            "       [0.9836324 , 0.01636759],\n",
            "       [0.9836331 , 0.01636688],\n",
            "       [0.9836331 , 0.01636688],\n",
            "       [0.98364025, 0.01635981],\n",
            "       [0.98364174, 0.0163583 ],\n",
            "       [0.98364174, 0.0163583 ],\n",
            "       [0.98364174, 0.0163583 ],\n",
            "       [0.983639  , 0.016361  ],\n",
            "       [0.98364025, 0.01635969],\n",
            "       [0.9836324 , 0.01636759],\n",
            "       [0.98364025, 0.01635981],\n",
            "       [0.98364174, 0.0163583 ],\n",
            "       [0.98363966, 0.01636031],\n",
            "       [0.98364174, 0.0163583 ],\n",
            "       [0.98364174, 0.0163583 ],\n",
            "       [0.98364174, 0.0163583 ],\n",
            "       [0.98364174, 0.0163583 ],\n",
            "       [0.98364174, 0.0163583 ],\n",
            "       [0.98364174, 0.0163583 ],\n",
            "       [0.9836404 , 0.01635964],\n",
            "       [0.9836331 , 0.01636688],\n",
            "       [0.9836324 , 0.01636759],\n",
            "       [0.98364174, 0.0163583 ],\n",
            "       [0.98364174, 0.0163583 ],\n",
            "       [0.9836375 , 0.01636249],\n",
            "       [0.98364174, 0.0163583 ],\n",
            "       [0.98364174, 0.0163583 ],\n",
            "       [0.98364174, 0.0163583 ],\n",
            "       [0.98363495, 0.01636501],\n",
            "       [0.98364174, 0.0163583 ],\n",
            "       [0.98364174, 0.0163583 ],\n",
            "       [0.9836375 , 0.01636249],\n",
            "       [0.98364174, 0.0163583 ],\n",
            "       [0.98364174, 0.0163583 ],\n",
            "       [0.98364174, 0.0163583 ],\n",
            "       [0.98364174, 0.0163583 ],\n",
            "       [0.983639  , 0.016361  ],\n",
            "       [0.98364025, 0.01635969],\n",
            "       [0.98363805, 0.0163619 ],\n",
            "       [0.9836373 , 0.01636269],\n",
            "       [0.9836324 , 0.01636759],\n",
            "       [0.98363596, 0.01636398],\n",
            "       [0.9836324 , 0.01636759],\n",
            "       [0.9836331 , 0.01636688],\n",
            "       [0.9836331 , 0.01636688],\n",
            "       [0.98364025, 0.01635981],\n",
            "       [0.98364174, 0.0163583 ],\n",
            "       [0.98364174, 0.0163583 ],\n",
            "       [0.98364174, 0.0163583 ],\n",
            "       [0.98364174, 0.0163583 ],\n",
            "       [0.9836375 , 0.01636249],\n",
            "       [0.98364174, 0.0163583 ],\n",
            "       [0.98364174, 0.0163583 ],\n",
            "       [0.98364174, 0.0163583 ],\n",
            "       [0.98364174, 0.0163583 ],\n",
            "       [0.98364174, 0.0163583 ],\n",
            "       [0.98364174, 0.0163583 ],\n",
            "       [0.98364174, 0.0163583 ],\n",
            "       [0.98364174, 0.0163583 ],\n",
            "       [0.98364174, 0.0163583 ],\n",
            "       [0.98364174, 0.0163583 ],\n",
            "       [0.98364174, 0.0163583 ],\n",
            "       [0.98364174, 0.0163583 ],\n",
            "       [0.9836375 , 0.01636249],\n",
            "       [0.9836404 , 0.01635964],\n",
            "       [0.98364174, 0.0163583 ],\n",
            "       [0.98364174, 0.0163583 ],\n",
            "       [0.98363966, 0.01636031],\n",
            "       [0.98364174, 0.0163583 ],\n",
            "       [0.98364174, 0.0163583 ],\n",
            "       [0.98364174, 0.0163583 ],\n",
            "       [0.9836375 , 0.01636249],\n",
            "       [0.98364174, 0.0163583 ],\n",
            "       [0.98364174, 0.0163583 ],\n",
            "       [0.98364174, 0.0163583 ],\n",
            "       [0.98364174, 0.0163583 ],\n",
            "       [0.9836399 , 0.01636013],\n",
            "       [0.98364174, 0.0163583 ],\n",
            "       [0.98364174, 0.0163583 ],\n",
            "       [0.98364174, 0.0163583 ],\n",
            "       [0.98364174, 0.0163583 ],\n",
            "       [0.98364174, 0.0163583 ],\n",
            "       [0.98364174, 0.0163583 ],\n",
            "       [0.98364174, 0.0163583 ],\n",
            "       [0.98364174, 0.0163583 ],\n",
            "       [0.98364174, 0.0163583 ],\n",
            "       [0.98364174, 0.0163583 ],\n",
            "       [0.98364174, 0.0163583 ],\n",
            "       [0.98364174, 0.0163583 ],\n",
            "       [0.98364174, 0.0163583 ],\n",
            "       [0.9836404 , 0.01635964],\n",
            "       [0.9836373 , 0.01636271],\n",
            "       [0.9836373 , 0.01636269],\n",
            "       [0.9836345 , 0.01636557],\n",
            "       [0.98364174, 0.0163583 ],\n",
            "       [0.98364174, 0.0163583 ],\n",
            "       [0.98364174, 0.0163583 ],\n",
            "       [0.9836399 , 0.01636013],\n",
            "       [0.98364174, 0.0163583 ],\n",
            "       [0.98364174, 0.0163583 ],\n",
            "       [0.98364174, 0.0163583 ],\n",
            "       [0.98364174, 0.0163583 ],\n",
            "       [0.98364174, 0.0163583 ],\n",
            "       [0.98364174, 0.0163583 ],\n",
            "       [0.98364174, 0.0163583 ],\n",
            "       [0.98364174, 0.0163583 ],\n",
            "       [0.98364174, 0.0163583 ],\n",
            "       [0.98364174, 0.0163583 ],\n",
            "       [0.98364174, 0.0163583 ],\n",
            "       [0.98364097, 0.01635907],\n",
            "       [0.9836324 , 0.01636759],\n",
            "       [0.98363596, 0.01636398],\n",
            "       [0.9836373 , 0.01636269],\n",
            "       [0.9836405 , 0.01635953],\n",
            "       [0.98364174, 0.0163583 ],\n",
            "       [0.98364174, 0.0163583 ],\n",
            "       [0.98364174, 0.0163583 ],\n",
            "       [0.98364174, 0.0163583 ],\n",
            "       [0.98364174, 0.0163583 ],\n",
            "       [0.98364174, 0.0163583 ],\n",
            "       [0.98364174, 0.0163583 ],\n",
            "       [0.98364174, 0.0163583 ],\n",
            "       [0.98364174, 0.0163583 ],\n",
            "       [0.98364174, 0.0163583 ],\n",
            "       [0.98364174, 0.0163583 ],\n",
            "       [0.98364174, 0.0163583 ],\n",
            "       [0.98364174, 0.0163583 ],\n",
            "       [0.98364174, 0.0163583 ],\n",
            "       [0.98364174, 0.0163583 ],\n",
            "       [0.98364174, 0.0163583 ],\n",
            "       [0.98364174, 0.0163583 ],\n",
            "       [0.98364174, 0.0163583 ],\n",
            "       [0.9836324 , 0.01636759],\n",
            "       [0.98363596, 0.01636398],\n",
            "       [0.98364025, 0.01635981],\n",
            "       [0.98363805, 0.0163619 ],\n",
            "       [0.9836324 , 0.01636759],\n",
            "       [0.98363966, 0.01636031],\n",
            "       [0.98364174, 0.0163583 ],\n",
            "       [0.9836404 , 0.01635964],\n",
            "       [0.9836373 , 0.01636271],\n",
            "       [0.9836373 , 0.01636269],\n",
            "       [0.9836345 , 0.01636557],\n",
            "       [0.98364174, 0.0163583 ],\n",
            "       [0.98364174, 0.0163583 ],\n",
            "       [0.98364174, 0.0163583 ],\n",
            "       [0.98364174, 0.0163583 ]], dtype=float32), array([[0.97580034, 0.02419972],\n",
            "       [0.9757671 , 0.02423289],\n",
            "       [0.97576433, 0.02423562],\n",
            "       [0.9757651 , 0.02423492],\n",
            "       [0.97580034, 0.02419972],\n",
            "       [0.9757671 , 0.0242329 ],\n",
            "       [0.9757692 , 0.02423076],\n",
            "       [0.97576874, 0.02423125],\n",
            "       [0.9757671 , 0.0242329 ],\n",
            "       [0.97576696, 0.02423305],\n",
            "       [0.9757682 , 0.02423177],\n",
            "       [0.9757722 , 0.02422784],\n",
            "       [0.9757671 , 0.02423289],\n",
            "       [0.9757706 , 0.0242294 ],\n",
            "       [0.97576874, 0.02423125],\n",
            "       [0.97576433, 0.02423562],\n",
            "       [0.97576594, 0.02423409],\n",
            "       [0.9757706 , 0.0242294 ],\n",
            "       [0.9757675 , 0.0242325 ],\n",
            "       [0.97576874, 0.02423125],\n",
            "       [0.9757722 , 0.02422784],\n",
            "       [0.97580034, 0.02419972],\n",
            "       [0.9757671 , 0.02423289],\n",
            "       [0.97576433, 0.02423562],\n",
            "       [0.9757651 , 0.02423492],\n",
            "       [0.97580034, 0.02419972],\n",
            "       [0.97576433, 0.02423562],\n",
            "       [0.97580034, 0.02419972],\n",
            "       [0.97580034, 0.02419972],\n",
            "       [0.97580034, 0.02419972],\n",
            "       [0.97580034, 0.02419973],\n",
            "       [0.97580034, 0.02419973],\n",
            "       [0.97580034, 0.02419972],\n",
            "       [0.97580034, 0.02419972],\n",
            "       [0.9757671 , 0.02423289],\n",
            "       [0.97576433, 0.02423562],\n",
            "       [0.9757651 , 0.02423492],\n",
            "       [0.97580034, 0.02419972],\n",
            "       [0.9757671 , 0.02423289],\n",
            "       [0.97580034, 0.02419972],\n",
            "       [0.97580034, 0.02419972],\n",
            "       [0.9757641 , 0.02423594],\n",
            "       [0.9757657 , 0.02423426],\n",
            "       [0.97577035, 0.02422966],\n",
            "       [0.9757676 , 0.02423232],\n",
            "       [0.97580034, 0.02419972],\n",
            "       [0.97580034, 0.02419972],\n",
            "       [0.97580034, 0.02419972],\n",
            "       [0.97577   , 0.02423004],\n",
            "       [0.97580034, 0.02419972],\n",
            "       [0.97580034, 0.02419972],\n",
            "       [0.97576505, 0.024235  ],\n",
            "       [0.9757651 , 0.02423485],\n",
            "       [0.97576594, 0.02423409],\n",
            "       [0.97577035, 0.02422966],\n",
            "       [0.9757722 , 0.02422784],\n",
            "       [0.97576874, 0.02423125],\n",
            "       [0.9757722 , 0.02422784],\n",
            "       [0.9757696 , 0.02423041],\n",
            "       [0.9757696 , 0.02423041],\n",
            "       [0.9757651 , 0.02423492],\n",
            "       [0.97580034, 0.02419972],\n",
            "       [0.97580034, 0.02419973],\n",
            "       [0.97580034, 0.02419973],\n",
            "       [0.97580034, 0.02419972],\n",
            "       [0.97580034, 0.02419972],\n",
            "       [0.97580034, 0.02419972],\n",
            "       [0.97580034, 0.02419972],\n",
            "       [0.97580034, 0.02419972],\n",
            "       [0.97580034, 0.02419972],\n",
            "       [0.9757671 , 0.0242329 ],\n",
            "       [0.9757696 , 0.02423041],\n",
            "       [0.9757706 , 0.0242294 ],\n",
            "       [0.9757682 , 0.02423177],\n",
            "       [0.97576594, 0.02423409],\n",
            "       [0.9757651 , 0.02423492],\n",
            "       [0.9757671 , 0.02423289],\n",
            "       [0.97576433, 0.02423562],\n",
            "       [0.9757676 , 0.02423232],\n",
            "       [0.97580034, 0.02419972],\n",
            "       [0.9757651 , 0.02423492],\n",
            "       [0.9757692 , 0.02423076],\n",
            "       [0.97576874, 0.02423125],\n",
            "       [0.97580034, 0.02419972],\n",
            "       [0.97576505, 0.024235  ],\n",
            "       [0.9757651 , 0.02423485],\n",
            "       [0.97576594, 0.02423409],\n",
            "       [0.97577035, 0.02422966],\n",
            "       [0.9757722 , 0.02422784],\n",
            "       [0.97576874, 0.02423125],\n",
            "       [0.97580034, 0.02419972],\n",
            "       [0.9757722 , 0.02422784],\n",
            "       [0.9757696 , 0.02423041],\n",
            "       [0.9757696 , 0.02423041],\n",
            "       [0.9757651 , 0.02423492],\n",
            "       [0.97580034, 0.02419973],\n",
            "       [0.97580034, 0.02419972],\n",
            "       [0.97580034, 0.02419972],\n",
            "       [0.97580034, 0.02419972],\n",
            "       [0.97576505, 0.024235  ],\n",
            "       [0.9757651 , 0.02423485],\n",
            "       [0.97576594, 0.02423409],\n",
            "       [0.97577035, 0.02422966],\n",
            "       [0.9757722 , 0.02422784],\n",
            "       [0.97576874, 0.02423125],\n",
            "       [0.9757722 , 0.02422784],\n",
            "       [0.9757696 , 0.02423041],\n",
            "       [0.9757696 , 0.02423041],\n",
            "       [0.9757651 , 0.02423492],\n",
            "       [0.97580034, 0.02419972],\n",
            "       [0.97580034, 0.02419972],\n",
            "       [0.97580034, 0.02419972],\n",
            "       [0.97576505, 0.024235  ],\n",
            "       [0.9757651 , 0.02423485],\n",
            "       [0.9757722 , 0.02422784],\n",
            "       [0.9757651 , 0.02423492],\n",
            "       [0.97580034, 0.02419972],\n",
            "       [0.97576433, 0.02423562],\n",
            "       [0.97580034, 0.02419972],\n",
            "       [0.97580034, 0.02419972],\n",
            "       [0.97580034, 0.02419972],\n",
            "       [0.97580034, 0.02419972],\n",
            "       [0.97580034, 0.02419972],\n",
            "       [0.97580034, 0.02419972],\n",
            "       [0.9757641 , 0.02423594],\n",
            "       [0.9757696 , 0.02423041],\n",
            "       [0.9757722 , 0.02422783],\n",
            "       [0.97580034, 0.02419973],\n",
            "       [0.97580034, 0.02419972],\n",
            "       [0.9757671 , 0.02423289],\n",
            "       [0.97580034, 0.02419972],\n",
            "       [0.97580034, 0.02419972],\n",
            "       [0.97580034, 0.02419972],\n",
            "       [0.9757699 , 0.02423008],\n",
            "       [0.97580034, 0.02419972],\n",
            "       [0.97580034, 0.02419972],\n",
            "       [0.9757671 , 0.02423289],\n",
            "       [0.97580034, 0.02419972],\n",
            "       [0.97580034, 0.02419972],\n",
            "       [0.97580034, 0.02419972],\n",
            "       [0.97580034, 0.02419972],\n",
            "       [0.97576505, 0.024235  ],\n",
            "       [0.9757651 , 0.02423485],\n",
            "       [0.97576594, 0.02423409],\n",
            "       [0.97577035, 0.02422966],\n",
            "       [0.9757722 , 0.02422784],\n",
            "       [0.97576874, 0.02423125],\n",
            "       [0.9757722 , 0.02422784],\n",
            "       [0.9757696 , 0.02423041],\n",
            "       [0.9757696 , 0.02423041],\n",
            "       [0.9757651 , 0.02423492],\n",
            "       [0.97580034, 0.02419972],\n",
            "       [0.97580034, 0.02419972],\n",
            "       [0.97580034, 0.02419972],\n",
            "       [0.97580034, 0.02419972],\n",
            "       [0.9757671 , 0.02423289],\n",
            "       [0.97580034, 0.02419972],\n",
            "       [0.97580034, 0.02419972],\n",
            "       [0.97580034, 0.02419973],\n",
            "       [0.97580034, 0.02419973],\n",
            "       [0.97580034, 0.02419972],\n",
            "       [0.97580034, 0.02419972],\n",
            "       [0.97580034, 0.02419972],\n",
            "       [0.97580034, 0.02419972],\n",
            "       [0.97580034, 0.02419972],\n",
            "       [0.97580034, 0.02419972],\n",
            "       [0.97580034, 0.02419972],\n",
            "       [0.97580034, 0.02419972],\n",
            "       [0.9757671 , 0.02423289],\n",
            "       [0.9757641 , 0.02423594],\n",
            "       [0.97580034, 0.02419972],\n",
            "       [0.97580034, 0.02419972],\n",
            "       [0.97576433, 0.02423562],\n",
            "       [0.97580034, 0.02419972],\n",
            "       [0.97580034, 0.02419972],\n",
            "       [0.97580034, 0.02419972],\n",
            "       [0.9757671 , 0.02423289],\n",
            "       [0.97580034, 0.02419972],\n",
            "       [0.97580034, 0.02419972],\n",
            "       [0.97580034, 0.02419972],\n",
            "       [0.97580034, 0.02419972],\n",
            "       [0.97576857, 0.02423142],\n",
            "       [0.97580034, 0.02419972],\n",
            "       [0.97580034, 0.02419972],\n",
            "       [0.97580034, 0.02419972],\n",
            "       [0.97580034, 0.02419972],\n",
            "       [0.97580034, 0.02419972],\n",
            "       [0.97580034, 0.02419972],\n",
            "       [0.97580034, 0.02419972],\n",
            "       [0.97580034, 0.02419972],\n",
            "       [0.97580034, 0.02419973],\n",
            "       [0.97580034, 0.02419973],\n",
            "       [0.97580034, 0.02419972],\n",
            "       [0.97580034, 0.02419972],\n",
            "       [0.97580034, 0.02419972],\n",
            "       [0.9757641 , 0.02423594],\n",
            "       [0.9757657 , 0.02423426],\n",
            "       [0.97577035, 0.02422966],\n",
            "       [0.9757676 , 0.02423232],\n",
            "       [0.97580034, 0.02419972],\n",
            "       [0.97580034, 0.02419972],\n",
            "       [0.97580034, 0.02419972],\n",
            "       [0.97576857, 0.02423142],\n",
            "       [0.97580034, 0.02419972],\n",
            "       [0.97580034, 0.02419972],\n",
            "       [0.97580034, 0.02419972],\n",
            "       [0.97580034, 0.02419972],\n",
            "       [0.97580034, 0.02419972],\n",
            "       [0.97580034, 0.02419972],\n",
            "       [0.97580034, 0.02419972],\n",
            "       [0.97580034, 0.02419972],\n",
            "       [0.97580034, 0.02419972],\n",
            "       [0.97580034, 0.02419972],\n",
            "       [0.97580034, 0.02419972],\n",
            "       [0.9757675 , 0.0242325 ],\n",
            "       [0.9757722 , 0.02422784],\n",
            "       [0.97576874, 0.02423125],\n",
            "       [0.97577035, 0.02422966],\n",
            "       [0.97576696, 0.02423305],\n",
            "       [0.97580034, 0.02419972],\n",
            "       [0.97580034, 0.02419972],\n",
            "       [0.97580034, 0.02419972],\n",
            "       [0.97580034, 0.02419973],\n",
            "       [0.97580034, 0.02419973],\n",
            "       [0.97580034, 0.02419972],\n",
            "       [0.97580034, 0.02419972],\n",
            "       [0.97580034, 0.02419972],\n",
            "       [0.97580034, 0.02419972],\n",
            "       [0.97580034, 0.02419972],\n",
            "       [0.97580034, 0.02419972],\n",
            "       [0.97580034, 0.02419972],\n",
            "       [0.97580034, 0.02419972],\n",
            "       [0.97580034, 0.02419972],\n",
            "       [0.97580034, 0.02419972],\n",
            "       [0.97580034, 0.02419972],\n",
            "       [0.97580034, 0.02419972],\n",
            "       [0.97580034, 0.02419972],\n",
            "       [0.9757722 , 0.02422784],\n",
            "       [0.97576874, 0.02423125],\n",
            "       [0.9757651 , 0.02423492],\n",
            "       [0.97576594, 0.02423409],\n",
            "       [0.9757722 , 0.02422784],\n",
            "       [0.97576433, 0.02423562],\n",
            "       [0.97580034, 0.02419972],\n",
            "       [0.9757641 , 0.02423594],\n",
            "       [0.9757657 , 0.02423426],\n",
            "       [0.97577035, 0.02422966],\n",
            "       [0.9757676 , 0.02423232],\n",
            "       [0.97580034, 0.02419972],\n",
            "       [0.97580034, 0.02419972],\n",
            "       [0.97580034, 0.02419972],\n",
            "       [0.97580034, 0.02419972]], dtype=float32), array([[0.9773221 , 0.02267789],\n",
            "       [0.9772973 , 0.02270266],\n",
            "       [0.97729355, 0.02270643],\n",
            "       [0.97729343, 0.02270656],\n",
            "       [0.9773221 , 0.02267789],\n",
            "       [0.9772982 , 0.02270179],\n",
            "       [0.97729903, 0.02270095],\n",
            "       [0.9772981 , 0.02270194],\n",
            "       [0.9772982 , 0.02270179],\n",
            "       [0.97729766, 0.02270233],\n",
            "       [0.9772978 , 0.02270224],\n",
            "       [0.9773043 , 0.02269575],\n",
            "       [0.9772973 , 0.02270266],\n",
            "       [0.9772987 , 0.02270128],\n",
            "       [0.9772981 , 0.02270194],\n",
            "       [0.97729355, 0.02270643],\n",
            "       [0.9772957 , 0.02270428],\n",
            "       [0.9772987 , 0.02270128],\n",
            "       [0.9772949 , 0.0227051 ],\n",
            "       [0.9772981 , 0.02270194],\n",
            "       [0.9773043 , 0.02269575],\n",
            "       [0.9773221 , 0.02267789],\n",
            "       [0.9772973 , 0.02270266],\n",
            "       [0.97729355, 0.02270643],\n",
            "       [0.97729343, 0.02270656],\n",
            "       [0.9773221 , 0.02267789],\n",
            "       [0.97729355, 0.02270643],\n",
            "       [0.9773221 , 0.02267789],\n",
            "       [0.9773221 , 0.02267789],\n",
            "       [0.9773221 , 0.02267789],\n",
            "       [0.9773221 , 0.0226779 ],\n",
            "       [0.9773221 , 0.0226779 ],\n",
            "       [0.9773221 , 0.02267789],\n",
            "       [0.9773221 , 0.02267789],\n",
            "       [0.9772973 , 0.02270266],\n",
            "       [0.97729355, 0.02270643],\n",
            "       [0.97729343, 0.02270656],\n",
            "       [0.9773221 , 0.02267789],\n",
            "       [0.9772973 , 0.02270266],\n",
            "       [0.9773221 , 0.02267789],\n",
            "       [0.9773221 , 0.02267789],\n",
            "       [0.97729445, 0.02270555],\n",
            "       [0.9772948 , 0.0227052 ],\n",
            "       [0.9772998 , 0.02270019],\n",
            "       [0.9772979 , 0.02270213],\n",
            "       [0.9773221 , 0.02267789],\n",
            "       [0.9773221 , 0.02267789],\n",
            "       [0.9773221 , 0.02267789],\n",
            "       [0.97730017, 0.02269979],\n",
            "       [0.9773221 , 0.02267789],\n",
            "       [0.9773221 , 0.02267789],\n",
            "       [0.977294  , 0.02270598],\n",
            "       [0.9772948 , 0.02270517],\n",
            "       [0.9772957 , 0.02270428],\n",
            "       [0.9772998 , 0.02270019],\n",
            "       [0.9773043 , 0.02269575],\n",
            "       [0.9772981 , 0.02270194],\n",
            "       [0.9773043 , 0.02269575],\n",
            "       [0.97730017, 0.02269988],\n",
            "       [0.97730017, 0.02269988],\n",
            "       [0.97729343, 0.02270656],\n",
            "       [0.9773221 , 0.02267789],\n",
            "       [0.9773221 , 0.0226779 ],\n",
            "       [0.9773221 , 0.0226779 ],\n",
            "       [0.9773221 , 0.02267789],\n",
            "       [0.9773221 , 0.02267789],\n",
            "       [0.9773221 , 0.02267789],\n",
            "       [0.9773221 , 0.02267789],\n",
            "       [0.9773221 , 0.02267789],\n",
            "       [0.9773221 , 0.02267789],\n",
            "       [0.9772982 , 0.02270179],\n",
            "       [0.97730017, 0.02269988],\n",
            "       [0.9772987 , 0.02270128],\n",
            "       [0.9772978 , 0.02270224],\n",
            "       [0.9772957 , 0.02270428],\n",
            "       [0.97729343, 0.02270656],\n",
            "       [0.9772973 , 0.02270266],\n",
            "       [0.97729355, 0.02270643],\n",
            "       [0.9772979 , 0.02270213],\n",
            "       [0.9773221 , 0.02267789],\n",
            "       [0.97729343, 0.02270656],\n",
            "       [0.97729903, 0.02270095],\n",
            "       [0.9772981 , 0.02270194],\n",
            "       [0.9773221 , 0.02267789],\n",
            "       [0.977294  , 0.02270598],\n",
            "       [0.9772948 , 0.02270517],\n",
            "       [0.9772957 , 0.02270428],\n",
            "       [0.9772998 , 0.02270019],\n",
            "       [0.9773043 , 0.02269575],\n",
            "       [0.9772981 , 0.02270194],\n",
            "       [0.9773221 , 0.02267789],\n",
            "       [0.9773043 , 0.02269575],\n",
            "       [0.97730017, 0.02269988],\n",
            "       [0.97730017, 0.02269988],\n",
            "       [0.97729343, 0.02270658],\n",
            "       [0.9773221 , 0.0226779 ],\n",
            "       [0.9773221 , 0.02267789],\n",
            "       [0.9773221 , 0.02267789],\n",
            "       [0.9773221 , 0.02267789],\n",
            "       [0.977294  , 0.02270598],\n",
            "       [0.9772948 , 0.02270517],\n",
            "       [0.9772957 , 0.02270428],\n",
            "       [0.9772998 , 0.02270019],\n",
            "       [0.9773043 , 0.02269575],\n",
            "       [0.9772981 , 0.02270194],\n",
            "       [0.9773043 , 0.02269575],\n",
            "       [0.97730017, 0.02269988],\n",
            "       [0.97730017, 0.02269988],\n",
            "       [0.97729343, 0.02270656],\n",
            "       [0.9773221 , 0.02267789],\n",
            "       [0.9773221 , 0.02267789],\n",
            "       [0.9773221 , 0.02267789],\n",
            "       [0.977294  , 0.02270598],\n",
            "       [0.9772948 , 0.02270517],\n",
            "       [0.9773043 , 0.02269575],\n",
            "       [0.97729343, 0.02270656],\n",
            "       [0.9773221 , 0.02267789],\n",
            "       [0.97729355, 0.02270643],\n",
            "       [0.9773221 , 0.02267789],\n",
            "       [0.9773221 , 0.02267789],\n",
            "       [0.9773221 , 0.02267789],\n",
            "       [0.9773221 , 0.02267789],\n",
            "       [0.9773221 , 0.02267789],\n",
            "       [0.9773221 , 0.02267789],\n",
            "       [0.97729445, 0.02270555],\n",
            "       [0.97730017, 0.02269988],\n",
            "       [0.9773043 , 0.02269574],\n",
            "       [0.9773221 , 0.0226779 ],\n",
            "       [0.9773221 , 0.02267789],\n",
            "       [0.9772973 , 0.02270266],\n",
            "       [0.9773221 , 0.02267789],\n",
            "       [0.9773221 , 0.02267789],\n",
            "       [0.9773221 , 0.02267789],\n",
            "       [0.9772993 , 0.02270073],\n",
            "       [0.9773221 , 0.02267789],\n",
            "       [0.9773221 , 0.02267789],\n",
            "       [0.9772973 , 0.02270266],\n",
            "       [0.9773221 , 0.02267789],\n",
            "       [0.9773221 , 0.02267789],\n",
            "       [0.9773221 , 0.02267789],\n",
            "       [0.9773221 , 0.02267789],\n",
            "       [0.977294  , 0.02270598],\n",
            "       [0.9772948 , 0.02270517],\n",
            "       [0.9772957 , 0.02270428],\n",
            "       [0.9772998 , 0.02270019],\n",
            "       [0.9773043 , 0.02269575],\n",
            "       [0.9772981 , 0.02270194],\n",
            "       [0.9773043 , 0.02269575],\n",
            "       [0.97730017, 0.02269988],\n",
            "       [0.97730017, 0.02269988],\n",
            "       [0.97729343, 0.02270656],\n",
            "       [0.9773221 , 0.02267789],\n",
            "       [0.9773221 , 0.02267789],\n",
            "       [0.9773221 , 0.02267789],\n",
            "       [0.9773221 , 0.02267789],\n",
            "       [0.9772973 , 0.02270266],\n",
            "       [0.9773221 , 0.02267789],\n",
            "       [0.9773221 , 0.02267789],\n",
            "       [0.9773221 , 0.0226779 ],\n",
            "       [0.9773221 , 0.0226779 ],\n",
            "       [0.9773221 , 0.02267789],\n",
            "       [0.9773221 , 0.02267789],\n",
            "       [0.9773221 , 0.02267789],\n",
            "       [0.9773221 , 0.02267789],\n",
            "       [0.9773221 , 0.02267789],\n",
            "       [0.9773221 , 0.02267789],\n",
            "       [0.9773221 , 0.02267789],\n",
            "       [0.9773221 , 0.02267789],\n",
            "       [0.9772973 , 0.02270266],\n",
            "       [0.97729445, 0.02270555],\n",
            "       [0.9773221 , 0.02267789],\n",
            "       [0.9773221 , 0.02267789],\n",
            "       [0.97729355, 0.02270643],\n",
            "       [0.9773221 , 0.02267789],\n",
            "       [0.9773221 , 0.02267789],\n",
            "       [0.9773221 , 0.02267789],\n",
            "       [0.9772973 , 0.02270266],\n",
            "       [0.9773221 , 0.02267789],\n",
            "       [0.9773221 , 0.02267789],\n",
            "       [0.9773221 , 0.02267789],\n",
            "       [0.9773221 , 0.02267789],\n",
            "       [0.9772987 , 0.02270131],\n",
            "       [0.9773221 , 0.02267789],\n",
            "       [0.9773221 , 0.02267789],\n",
            "       [0.9773221 , 0.02267789],\n",
            "       [0.9773221 , 0.02267789],\n",
            "       [0.9773221 , 0.02267789],\n",
            "       [0.9773221 , 0.02267789],\n",
            "       [0.9773221 , 0.02267789],\n",
            "       [0.9773221 , 0.02267789],\n",
            "       [0.9773221 , 0.0226779 ],\n",
            "       [0.9773221 , 0.0226779 ],\n",
            "       [0.9773221 , 0.02267789],\n",
            "       [0.9773221 , 0.02267789],\n",
            "       [0.9773221 , 0.02267789],\n",
            "       [0.97729445, 0.02270555],\n",
            "       [0.9772948 , 0.0227052 ],\n",
            "       [0.9772998 , 0.02270019],\n",
            "       [0.9772979 , 0.02270213],\n",
            "       [0.9773221 , 0.02267789],\n",
            "       [0.9773221 , 0.02267789],\n",
            "       [0.9773221 , 0.02267789],\n",
            "       [0.9772987 , 0.02270131],\n",
            "       [0.9773221 , 0.02267789],\n",
            "       [0.9773221 , 0.02267789],\n",
            "       [0.9773221 , 0.02267789],\n",
            "       [0.9773221 , 0.02267789],\n",
            "       [0.9773221 , 0.02267789],\n",
            "       [0.9773221 , 0.02267789],\n",
            "       [0.9773221 , 0.02267789],\n",
            "       [0.9773221 , 0.02267789],\n",
            "       [0.9773221 , 0.02267789],\n",
            "       [0.9773221 , 0.02267789],\n",
            "       [0.9773221 , 0.02267789],\n",
            "       [0.9772949 , 0.0227051 ],\n",
            "       [0.9773043 , 0.02269575],\n",
            "       [0.9772981 , 0.02270194],\n",
            "       [0.9772998 , 0.02270019],\n",
            "       [0.97729766, 0.02270233],\n",
            "       [0.9773221 , 0.02267789],\n",
            "       [0.9773221 , 0.02267789],\n",
            "       [0.9773221 , 0.02267789],\n",
            "       [0.9773221 , 0.0226779 ],\n",
            "       [0.9773221 , 0.0226779 ],\n",
            "       [0.9773221 , 0.02267789],\n",
            "       [0.9773221 , 0.02267789],\n",
            "       [0.9773221 , 0.02267789],\n",
            "       [0.9773221 , 0.02267789],\n",
            "       [0.9773221 , 0.02267789],\n",
            "       [0.9773221 , 0.02267789],\n",
            "       [0.9773221 , 0.02267789],\n",
            "       [0.9773221 , 0.02267789],\n",
            "       [0.9773221 , 0.02267789],\n",
            "       [0.9773221 , 0.02267789],\n",
            "       [0.9773221 , 0.02267789],\n",
            "       [0.9773221 , 0.02267789],\n",
            "       [0.9773221 , 0.02267789],\n",
            "       [0.9773043 , 0.02269575],\n",
            "       [0.9772981 , 0.02270194],\n",
            "       [0.97729343, 0.02270656],\n",
            "       [0.9772957 , 0.02270428],\n",
            "       [0.9773043 , 0.02269575],\n",
            "       [0.97729355, 0.02270643],\n",
            "       [0.9773221 , 0.02267789],\n",
            "       [0.97729445, 0.02270555],\n",
            "       [0.9772948 , 0.0227052 ],\n",
            "       [0.9772998 , 0.02270019],\n",
            "       [0.9772979 , 0.02270213],\n",
            "       [0.9773221 , 0.02267789],\n",
            "       [0.9773221 , 0.02267789],\n",
            "       [0.9773221 , 0.02267789],\n",
            "       [0.9773221 , 0.02267789]], dtype=float32), array([[9.9955004e-01, 4.4995258e-04],\n",
            "       [9.9954945e-01, 4.5053865e-04],\n",
            "       [9.9954945e-01, 4.5055625e-04],\n",
            "       [9.9954933e-01, 4.5059487e-04],\n",
            "       [9.9955004e-01, 4.4995258e-04],\n",
            "       [9.9954945e-01, 4.5052037e-04],\n",
            "       [9.9954957e-01, 4.5045858e-04],\n",
            "       [9.9954945e-01, 4.5047697e-04],\n",
            "       [9.9954945e-01, 4.5052037e-04],\n",
            "       [9.9954957e-01, 4.5044845e-04],\n",
            "       [9.9954945e-01, 4.5050451e-04],\n",
            "       [9.9954957e-01, 4.5043431e-04],\n",
            "       [9.9954945e-01, 4.5053865e-04],\n",
            "       [9.9954957e-01, 4.5044438e-04],\n",
            "       [9.9954945e-01, 4.5047697e-04],\n",
            "       [9.9954945e-01, 4.5055625e-04],\n",
            "       [9.9954945e-01, 4.5051565e-04],\n",
            "       [9.9954957e-01, 4.5044438e-04],\n",
            "       [9.9954945e-01, 4.5051181e-04],\n",
            "       [9.9954945e-01, 4.5047697e-04],\n",
            "       [9.9954957e-01, 4.5043431e-04],\n",
            "       [9.9955004e-01, 4.4995258e-04],\n",
            "       [9.9954945e-01, 4.5053865e-04],\n",
            "       [9.9954945e-01, 4.5055625e-04],\n",
            "       [9.9954933e-01, 4.5059487e-04],\n",
            "       [9.9955004e-01, 4.4995258e-04],\n",
            "       [9.9954945e-01, 4.5055625e-04],\n",
            "       [9.9955004e-01, 4.4995258e-04],\n",
            "       [9.9955004e-01, 4.4995258e-04],\n",
            "       [9.9955004e-01, 4.4995258e-04],\n",
            "       [9.9955004e-01, 4.4995258e-04],\n",
            "       [9.9955004e-01, 4.4995258e-04],\n",
            "       [9.9955004e-01, 4.4995258e-04],\n",
            "       [9.9955004e-01, 4.4995258e-04],\n",
            "       [9.9954945e-01, 4.5053865e-04],\n",
            "       [9.9954945e-01, 4.5055625e-04],\n",
            "       [9.9954933e-01, 4.5059487e-04],\n",
            "       [9.9955004e-01, 4.4995258e-04],\n",
            "       [9.9954945e-01, 4.5053865e-04],\n",
            "       [9.9955004e-01, 4.4995258e-04],\n",
            "       [9.9955004e-01, 4.4995258e-04],\n",
            "       [9.9954945e-01, 4.5054680e-04],\n",
            "       [9.9954945e-01, 4.5057584e-04],\n",
            "       [9.9954957e-01, 4.5041132e-04],\n",
            "       [9.9954945e-01, 4.5053908e-04],\n",
            "       [9.9955004e-01, 4.4995258e-04],\n",
            "       [9.9955004e-01, 4.4995258e-04],\n",
            "       [9.9955004e-01, 4.4995258e-04],\n",
            "       [9.9954945e-01, 4.5049613e-04],\n",
            "       [9.9955004e-01, 4.4995258e-04],\n",
            "       [9.9955004e-01, 4.4995258e-04],\n",
            "       [9.9954933e-01, 4.5059356e-04],\n",
            "       [9.9954945e-01, 4.5051845e-04],\n",
            "       [9.9954945e-01, 4.5051565e-04],\n",
            "       [9.9954957e-01, 4.5041132e-04],\n",
            "       [9.9954957e-01, 4.5043431e-04],\n",
            "       [9.9954945e-01, 4.5047697e-04],\n",
            "       [9.9954957e-01, 4.5043431e-04],\n",
            "       [9.9954945e-01, 4.5051309e-04],\n",
            "       [9.9954945e-01, 4.5051309e-04],\n",
            "       [9.9954933e-01, 4.5059487e-04],\n",
            "       [9.9955004e-01, 4.4995258e-04],\n",
            "       [9.9955004e-01, 4.4995258e-04],\n",
            "       [9.9955004e-01, 4.4995258e-04],\n",
            "       [9.9955004e-01, 4.4995258e-04],\n",
            "       [9.9955004e-01, 4.4995258e-04],\n",
            "       [9.9955004e-01, 4.4995258e-04],\n",
            "       [9.9955004e-01, 4.4995258e-04],\n",
            "       [9.9955004e-01, 4.4995258e-04],\n",
            "       [9.9955004e-01, 4.4995258e-04],\n",
            "       [9.9954945e-01, 4.5052037e-04],\n",
            "       [9.9954945e-01, 4.5051309e-04],\n",
            "       [9.9954957e-01, 4.5044438e-04],\n",
            "       [9.9954945e-01, 4.5050451e-04],\n",
            "       [9.9954945e-01, 4.5051565e-04],\n",
            "       [9.9954933e-01, 4.5059487e-04],\n",
            "       [9.9954945e-01, 4.5053865e-04],\n",
            "       [9.9954945e-01, 4.5055625e-04],\n",
            "       [9.9954945e-01, 4.5053908e-04],\n",
            "       [9.9955004e-01, 4.4995258e-04],\n",
            "       [9.9954933e-01, 4.5059487e-04],\n",
            "       [9.9954957e-01, 4.5045858e-04],\n",
            "       [9.9954945e-01, 4.5047697e-04],\n",
            "       [9.9955004e-01, 4.4995258e-04],\n",
            "       [9.9954933e-01, 4.5059356e-04],\n",
            "       [9.9954945e-01, 4.5051845e-04],\n",
            "       [9.9954945e-01, 4.5051565e-04],\n",
            "       [9.9954957e-01, 4.5041132e-04],\n",
            "       [9.9954957e-01, 4.5043431e-04],\n",
            "       [9.9954945e-01, 4.5047697e-04],\n",
            "       [9.9955004e-01, 4.4995258e-04],\n",
            "       [9.9954957e-01, 4.5043431e-04],\n",
            "       [9.9954945e-01, 4.5051309e-04],\n",
            "       [9.9954945e-01, 4.5051309e-04],\n",
            "       [9.9954933e-01, 4.5059508e-04],\n",
            "       [9.9955004e-01, 4.4995258e-04],\n",
            "       [9.9955004e-01, 4.4995258e-04],\n",
            "       [9.9955004e-01, 4.4995258e-04],\n",
            "       [9.9955004e-01, 4.4995258e-04],\n",
            "       [9.9954933e-01, 4.5059356e-04],\n",
            "       [9.9954945e-01, 4.5051845e-04],\n",
            "       [9.9954945e-01, 4.5051565e-04],\n",
            "       [9.9954957e-01, 4.5041132e-04],\n",
            "       [9.9954957e-01, 4.5043431e-04],\n",
            "       [9.9954945e-01, 4.5047697e-04],\n",
            "       [9.9954957e-01, 4.5043431e-04],\n",
            "       [9.9954945e-01, 4.5051309e-04],\n",
            "       [9.9954945e-01, 4.5051309e-04],\n",
            "       [9.9954933e-01, 4.5059487e-04],\n",
            "       [9.9955004e-01, 4.4995258e-04],\n",
            "       [9.9955004e-01, 4.4995258e-04],\n",
            "       [9.9955004e-01, 4.4995258e-04],\n",
            "       [9.9954933e-01, 4.5059356e-04],\n",
            "       [9.9954945e-01, 4.5051845e-04],\n",
            "       [9.9954957e-01, 4.5043431e-04],\n",
            "       [9.9954933e-01, 4.5059487e-04],\n",
            "       [9.9955004e-01, 4.4995258e-04],\n",
            "       [9.9954945e-01, 4.5055625e-04],\n",
            "       [9.9955004e-01, 4.4995258e-04],\n",
            "       [9.9955004e-01, 4.4995258e-04],\n",
            "       [9.9955004e-01, 4.4995258e-04],\n",
            "       [9.9955004e-01, 4.4995258e-04],\n",
            "       [9.9955004e-01, 4.4995258e-04],\n",
            "       [9.9955004e-01, 4.4995258e-04],\n",
            "       [9.9954945e-01, 4.5054680e-04],\n",
            "       [9.9954945e-01, 4.5051309e-04],\n",
            "       [9.9954957e-01, 4.5043431e-04],\n",
            "       [9.9955004e-01, 4.4995258e-04],\n",
            "       [9.9955004e-01, 4.4995258e-04],\n",
            "       [9.9954945e-01, 4.5053865e-04],\n",
            "       [9.9955004e-01, 4.4995258e-04],\n",
            "       [9.9955004e-01, 4.4995258e-04],\n",
            "       [9.9955004e-01, 4.4995258e-04],\n",
            "       [9.9954945e-01, 4.5053326e-04],\n",
            "       [9.9955004e-01, 4.4995258e-04],\n",
            "       [9.9955004e-01, 4.4995258e-04],\n",
            "       [9.9954945e-01, 4.5053865e-04],\n",
            "       [9.9955004e-01, 4.4995258e-04],\n",
            "       [9.9955004e-01, 4.4995258e-04],\n",
            "       [9.9955004e-01, 4.4995258e-04],\n",
            "       [9.9955004e-01, 4.4995258e-04],\n",
            "       [9.9954933e-01, 4.5059356e-04],\n",
            "       [9.9954945e-01, 4.5051845e-04],\n",
            "       [9.9954945e-01, 4.5051565e-04],\n",
            "       [9.9954957e-01, 4.5041132e-04],\n",
            "       [9.9954957e-01, 4.5043431e-04],\n",
            "       [9.9954945e-01, 4.5047697e-04],\n",
            "       [9.9954957e-01, 4.5043431e-04],\n",
            "       [9.9954945e-01, 4.5051309e-04],\n",
            "       [9.9954945e-01, 4.5051309e-04],\n",
            "       [9.9954933e-01, 4.5059487e-04],\n",
            "       [9.9955004e-01, 4.4995258e-04],\n",
            "       [9.9955004e-01, 4.4995258e-04],\n",
            "       [9.9955004e-01, 4.4995258e-04],\n",
            "       [9.9955004e-01, 4.4995258e-04],\n",
            "       [9.9954945e-01, 4.5053865e-04],\n",
            "       [9.9955004e-01, 4.4995258e-04],\n",
            "       [9.9955004e-01, 4.4995258e-04],\n",
            "       [9.9955004e-01, 4.4995258e-04],\n",
            "       [9.9955004e-01, 4.4995258e-04],\n",
            "       [9.9955004e-01, 4.4995258e-04],\n",
            "       [9.9955004e-01, 4.4995258e-04],\n",
            "       [9.9955004e-01, 4.4995258e-04],\n",
            "       [9.9955004e-01, 4.4995258e-04],\n",
            "       [9.9955004e-01, 4.4995258e-04],\n",
            "       [9.9955004e-01, 4.4995258e-04],\n",
            "       [9.9955004e-01, 4.4995258e-04],\n",
            "       [9.9955004e-01, 4.4995258e-04],\n",
            "       [9.9954945e-01, 4.5053865e-04],\n",
            "       [9.9954945e-01, 4.5054680e-04],\n",
            "       [9.9955004e-01, 4.4995258e-04],\n",
            "       [9.9955004e-01, 4.4995258e-04],\n",
            "       [9.9954945e-01, 4.5055625e-04],\n",
            "       [9.9955004e-01, 4.4995258e-04],\n",
            "       [9.9955004e-01, 4.4995258e-04],\n",
            "       [9.9955004e-01, 4.4995258e-04],\n",
            "       [9.9954945e-01, 4.5053865e-04],\n",
            "       [9.9955004e-01, 4.4995258e-04],\n",
            "       [9.9955004e-01, 4.4995258e-04],\n",
            "       [9.9955004e-01, 4.4995258e-04],\n",
            "       [9.9955004e-01, 4.4995258e-04],\n",
            "       [9.9954957e-01, 4.5039714e-04],\n",
            "       [9.9955004e-01, 4.4995258e-04],\n",
            "       [9.9955004e-01, 4.4995258e-04],\n",
            "       [9.9955004e-01, 4.4995258e-04],\n",
            "       [9.9955004e-01, 4.4995258e-04],\n",
            "       [9.9955004e-01, 4.4995258e-04],\n",
            "       [9.9955004e-01, 4.4995258e-04],\n",
            "       [9.9955004e-01, 4.4995258e-04],\n",
            "       [9.9955004e-01, 4.4995258e-04],\n",
            "       [9.9955004e-01, 4.4995258e-04],\n",
            "       [9.9955004e-01, 4.4995258e-04],\n",
            "       [9.9955004e-01, 4.4995258e-04],\n",
            "       [9.9955004e-01, 4.4995258e-04],\n",
            "       [9.9955004e-01, 4.4995258e-04],\n",
            "       [9.9954945e-01, 4.5054680e-04],\n",
            "       [9.9954945e-01, 4.5057584e-04],\n",
            "       [9.9954957e-01, 4.5041132e-04],\n",
            "       [9.9954945e-01, 4.5053908e-04],\n",
            "       [9.9955004e-01, 4.4995258e-04],\n",
            "       [9.9955004e-01, 4.4995258e-04],\n",
            "       [9.9955004e-01, 4.4995258e-04],\n",
            "       [9.9954957e-01, 4.5039714e-04],\n",
            "       [9.9955004e-01, 4.4995258e-04],\n",
            "       [9.9955004e-01, 4.4995258e-04],\n",
            "       [9.9955004e-01, 4.4995258e-04],\n",
            "       [9.9955004e-01, 4.4995258e-04],\n",
            "       [9.9955004e-01, 4.4995258e-04],\n",
            "       [9.9955004e-01, 4.4995258e-04],\n",
            "       [9.9955004e-01, 4.4995258e-04],\n",
            "       [9.9955004e-01, 4.4995258e-04],\n",
            "       [9.9955004e-01, 4.4995258e-04],\n",
            "       [9.9955004e-01, 4.4995258e-04],\n",
            "       [9.9955004e-01, 4.4995258e-04],\n",
            "       [9.9954945e-01, 4.5051181e-04],\n",
            "       [9.9954957e-01, 4.5043431e-04],\n",
            "       [9.9954945e-01, 4.5047697e-04],\n",
            "       [9.9954957e-01, 4.5041132e-04],\n",
            "       [9.9954957e-01, 4.5044845e-04],\n",
            "       [9.9955004e-01, 4.4995258e-04],\n",
            "       [9.9955004e-01, 4.4995258e-04],\n",
            "       [9.9955004e-01, 4.4995258e-04],\n",
            "       [9.9955004e-01, 4.4995258e-04],\n",
            "       [9.9955004e-01, 4.4995258e-04],\n",
            "       [9.9955004e-01, 4.4995258e-04],\n",
            "       [9.9955004e-01, 4.4995258e-04],\n",
            "       [9.9955004e-01, 4.4995258e-04],\n",
            "       [9.9955004e-01, 4.4995258e-04],\n",
            "       [9.9955004e-01, 4.4995258e-04],\n",
            "       [9.9955004e-01, 4.4995258e-04],\n",
            "       [9.9955004e-01, 4.4995258e-04],\n",
            "       [9.9955004e-01, 4.4995258e-04],\n",
            "       [9.9955004e-01, 4.4995258e-04],\n",
            "       [9.9955004e-01, 4.4995258e-04],\n",
            "       [9.9955004e-01, 4.4995258e-04],\n",
            "       [9.9955004e-01, 4.4995258e-04],\n",
            "       [9.9955004e-01, 4.4995258e-04],\n",
            "       [9.9954957e-01, 4.5043431e-04],\n",
            "       [9.9954945e-01, 4.5047697e-04],\n",
            "       [9.9954933e-01, 4.5059487e-04],\n",
            "       [9.9954945e-01, 4.5051565e-04],\n",
            "       [9.9954957e-01, 4.5043431e-04],\n",
            "       [9.9954945e-01, 4.5055625e-04],\n",
            "       [9.9955004e-01, 4.4995258e-04],\n",
            "       [9.9954945e-01, 4.5054680e-04],\n",
            "       [9.9954945e-01, 4.5057584e-04],\n",
            "       [9.9954957e-01, 4.5041132e-04],\n",
            "       [9.9954945e-01, 4.5053908e-04],\n",
            "       [9.9955004e-01, 4.4995258e-04],\n",
            "       [9.9955004e-01, 4.4995258e-04],\n",
            "       [9.9955004e-01, 4.4995258e-04],\n",
            "       [9.9955004e-01, 4.4995258e-04]], dtype=float32), array([[0.94188744, 0.05811254],\n",
            "       [0.94186825, 0.05813181],\n",
            "       [0.94186825, 0.05813174],\n",
            "       [0.9418657 , 0.05813428],\n",
            "       [0.94188744, 0.05811254],\n",
            "       [0.9418647 , 0.05813527],\n",
            "       [0.94186705, 0.05813297],\n",
            "       [0.9418675 , 0.05813248],\n",
            "       [0.9418647 , 0.05813527],\n",
            "       [0.9418716 , 0.05812844],\n",
            "       [0.94186825, 0.05813183],\n",
            "       [0.9418645 , 0.05813549],\n",
            "       [0.94186825, 0.05813181],\n",
            "       [0.9418697 , 0.05813036],\n",
            "       [0.9418675 , 0.05813248],\n",
            "       [0.94186825, 0.05813174],\n",
            "       [0.941866  , 0.05813405],\n",
            "       [0.9418697 , 0.05813036],\n",
            "       [0.9418702 , 0.05812974],\n",
            "       [0.9418675 , 0.05813248],\n",
            "       [0.9418645 , 0.05813549],\n",
            "       [0.94188744, 0.05811254],\n",
            "       [0.94186825, 0.05813181],\n",
            "       [0.94186825, 0.05813174],\n",
            "       [0.9418657 , 0.05813428],\n",
            "       [0.94188744, 0.05811254],\n",
            "       [0.94186825, 0.05813174],\n",
            "       [0.94188744, 0.05811254],\n",
            "       [0.94188744, 0.05811254],\n",
            "       [0.94188744, 0.05811254],\n",
            "       [0.94188744, 0.05811254],\n",
            "       [0.94188744, 0.05811254],\n",
            "       [0.94188744, 0.05811254],\n",
            "       [0.94188744, 0.05811254],\n",
            "       [0.94186825, 0.05813181],\n",
            "       [0.94186825, 0.05813174],\n",
            "       [0.9418657 , 0.05813428],\n",
            "       [0.94188744, 0.05811254],\n",
            "       [0.94186825, 0.05813181],\n",
            "       [0.94188744, 0.05811254],\n",
            "       [0.94188744, 0.05811254],\n",
            "       [0.94186866, 0.05813135],\n",
            "       [0.9418664 , 0.05813356],\n",
            "       [0.94186896, 0.05813102],\n",
            "       [0.94186157, 0.05813849],\n",
            "       [0.94188744, 0.05811254],\n",
            "       [0.94188744, 0.05811254],\n",
            "       [0.94188744, 0.05811254],\n",
            "       [0.9418641 , 0.05813593],\n",
            "       [0.94188744, 0.05811254],\n",
            "       [0.94188744, 0.05811254],\n",
            "       [0.94186676, 0.0581333 ],\n",
            "       [0.94186664, 0.05813341],\n",
            "       [0.941866  , 0.05813405],\n",
            "       [0.94186896, 0.05813102],\n",
            "       [0.9418645 , 0.05813549],\n",
            "       [0.9418675 , 0.05813248],\n",
            "       [0.9418645 , 0.05813549],\n",
            "       [0.941866  , 0.05813397],\n",
            "       [0.941866  , 0.05813397],\n",
            "       [0.9418657 , 0.05813428],\n",
            "       [0.94188744, 0.05811254],\n",
            "       [0.94188744, 0.05811254],\n",
            "       [0.94188744, 0.05811254],\n",
            "       [0.94188744, 0.05811254],\n",
            "       [0.94188744, 0.05811254],\n",
            "       [0.94188744, 0.05811254],\n",
            "       [0.94188744, 0.05811254],\n",
            "       [0.94188744, 0.05811254],\n",
            "       [0.94188744, 0.05811254],\n",
            "       [0.9418647 , 0.05813527],\n",
            "       [0.941866  , 0.05813397],\n",
            "       [0.9418697 , 0.05813036],\n",
            "       [0.94186825, 0.05813183],\n",
            "       [0.941866  , 0.05813405],\n",
            "       [0.9418657 , 0.05813428],\n",
            "       [0.94186825, 0.05813181],\n",
            "       [0.94186825, 0.05813174],\n",
            "       [0.94186157, 0.05813849],\n",
            "       [0.94188744, 0.05811254],\n",
            "       [0.9418657 , 0.05813428],\n",
            "       [0.94186705, 0.05813297],\n",
            "       [0.9418675 , 0.05813248],\n",
            "       [0.94188744, 0.05811254],\n",
            "       [0.94186676, 0.0581333 ],\n",
            "       [0.94186664, 0.05813341],\n",
            "       [0.941866  , 0.05813405],\n",
            "       [0.94186896, 0.05813102],\n",
            "       [0.9418645 , 0.05813549],\n",
            "       [0.9418675 , 0.05813248],\n",
            "       [0.94188744, 0.05811254],\n",
            "       [0.9418645 , 0.05813549],\n",
            "       [0.941866  , 0.05813397],\n",
            "       [0.941866  , 0.05813397],\n",
            "       [0.9418657 , 0.05813428],\n",
            "       [0.94188744, 0.05811254],\n",
            "       [0.94188744, 0.05811254],\n",
            "       [0.94188744, 0.05811254],\n",
            "       [0.94188744, 0.05811254],\n",
            "       [0.94186676, 0.0581333 ],\n",
            "       [0.94186664, 0.05813341],\n",
            "       [0.941866  , 0.05813405],\n",
            "       [0.94186896, 0.05813102],\n",
            "       [0.9418645 , 0.05813549],\n",
            "       [0.9418675 , 0.05813248],\n",
            "       [0.9418645 , 0.05813549],\n",
            "       [0.941866  , 0.05813397],\n",
            "       [0.941866  , 0.05813397],\n",
            "       [0.9418657 , 0.05813428],\n",
            "       [0.94188744, 0.05811254],\n",
            "       [0.94188744, 0.05811254],\n",
            "       [0.94188744, 0.05811254],\n",
            "       [0.94186676, 0.0581333 ],\n",
            "       [0.94186664, 0.05813341],\n",
            "       [0.9418645 , 0.05813549],\n",
            "       [0.9418657 , 0.05813428],\n",
            "       [0.94188744, 0.05811254],\n",
            "       [0.94186825, 0.05813174],\n",
            "       [0.94188744, 0.05811254],\n",
            "       [0.94188744, 0.05811254],\n",
            "       [0.94188744, 0.05811254],\n",
            "       [0.94188744, 0.05811254],\n",
            "       [0.94188744, 0.05811254],\n",
            "       [0.94188744, 0.05811254],\n",
            "       [0.94186866, 0.05813135],\n",
            "       [0.941866  , 0.05813397],\n",
            "       [0.9418645 , 0.05813549],\n",
            "       [0.94188744, 0.05811254],\n",
            "       [0.94188744, 0.05811254],\n",
            "       [0.94186825, 0.05813181],\n",
            "       [0.94188744, 0.05811254],\n",
            "       [0.94188744, 0.05811254],\n",
            "       [0.94188744, 0.05811254],\n",
            "       [0.9418679 , 0.05813212],\n",
            "       [0.94188744, 0.05811254],\n",
            "       [0.94188744, 0.05811254],\n",
            "       [0.94186825, 0.05813181],\n",
            "       [0.94188744, 0.05811254],\n",
            "       [0.94188744, 0.05811254],\n",
            "       [0.94188744, 0.05811254],\n",
            "       [0.94188744, 0.05811254],\n",
            "       [0.94186676, 0.0581333 ],\n",
            "       [0.94186664, 0.05813341],\n",
            "       [0.941866  , 0.05813405],\n",
            "       [0.94186896, 0.05813102],\n",
            "       [0.9418645 , 0.05813549],\n",
            "       [0.9418675 , 0.05813248],\n",
            "       [0.9418645 , 0.05813549],\n",
            "       [0.941866  , 0.05813397],\n",
            "       [0.941866  , 0.05813397],\n",
            "       [0.9418657 , 0.05813428],\n",
            "       [0.94188744, 0.05811254],\n",
            "       [0.94188744, 0.05811254],\n",
            "       [0.94188744, 0.05811254],\n",
            "       [0.94188744, 0.05811254],\n",
            "       [0.94186825, 0.05813181],\n",
            "       [0.94188744, 0.05811254],\n",
            "       [0.94188744, 0.05811254],\n",
            "       [0.94188744, 0.05811254],\n",
            "       [0.94188744, 0.05811254],\n",
            "       [0.94188744, 0.05811254],\n",
            "       [0.94188744, 0.05811254],\n",
            "       [0.94188744, 0.05811254],\n",
            "       [0.94188744, 0.05811254],\n",
            "       [0.94188744, 0.05811254],\n",
            "       [0.94188744, 0.05811254],\n",
            "       [0.94188744, 0.05811254],\n",
            "       [0.94188744, 0.05811254],\n",
            "       [0.94186825, 0.05813181],\n",
            "       [0.94186866, 0.05813135],\n",
            "       [0.94188744, 0.05811254],\n",
            "       [0.94188744, 0.05811254],\n",
            "       [0.94186825, 0.05813174],\n",
            "       [0.94188744, 0.05811254],\n",
            "       [0.94188744, 0.05811254],\n",
            "       [0.94188744, 0.05811254],\n",
            "       [0.94186825, 0.05813181],\n",
            "       [0.94188744, 0.05811254],\n",
            "       [0.94188744, 0.05811254],\n",
            "       [0.94188744, 0.05811254],\n",
            "       [0.94188744, 0.05811254],\n",
            "       [0.94187045, 0.05812953],\n",
            "       [0.94188744, 0.05811254],\n",
            "       [0.94188744, 0.05811254],\n",
            "       [0.94188744, 0.05811254],\n",
            "       [0.94188744, 0.05811254],\n",
            "       [0.94188744, 0.05811254],\n",
            "       [0.94188744, 0.05811254],\n",
            "       [0.94188744, 0.05811254],\n",
            "       [0.94188744, 0.05811254],\n",
            "       [0.94188744, 0.05811254],\n",
            "       [0.94188744, 0.05811254],\n",
            "       [0.94188744, 0.05811254],\n",
            "       [0.94188744, 0.05811254],\n",
            "       [0.94188744, 0.05811254],\n",
            "       [0.94186866, 0.05813135],\n",
            "       [0.9418664 , 0.05813356],\n",
            "       [0.94186896, 0.05813102],\n",
            "       [0.94186157, 0.05813849],\n",
            "       [0.94188744, 0.05811254],\n",
            "       [0.94188744, 0.05811254],\n",
            "       [0.94188744, 0.05811254],\n",
            "       [0.94187045, 0.05812953],\n",
            "       [0.94188744, 0.05811254],\n",
            "       [0.94188744, 0.05811254],\n",
            "       [0.94188744, 0.05811254],\n",
            "       [0.94188744, 0.05811254],\n",
            "       [0.94188744, 0.05811254],\n",
            "       [0.94188744, 0.05811254],\n",
            "       [0.94188744, 0.05811254],\n",
            "       [0.94188744, 0.05811254],\n",
            "       [0.94188744, 0.05811254],\n",
            "       [0.94188744, 0.05811254],\n",
            "       [0.94188744, 0.05811254],\n",
            "       [0.9418702 , 0.05812974],\n",
            "       [0.9418645 , 0.05813549],\n",
            "       [0.9418675 , 0.05813248],\n",
            "       [0.94186896, 0.05813102],\n",
            "       [0.9418716 , 0.05812844],\n",
            "       [0.94188744, 0.05811254],\n",
            "       [0.94188744, 0.05811254],\n",
            "       [0.94188744, 0.05811254],\n",
            "       [0.94188744, 0.05811254],\n",
            "       [0.94188744, 0.05811254],\n",
            "       [0.94188744, 0.05811254],\n",
            "       [0.94188744, 0.05811254],\n",
            "       [0.94188744, 0.05811254],\n",
            "       [0.94188744, 0.05811254],\n",
            "       [0.94188744, 0.05811254],\n",
            "       [0.94188744, 0.05811254],\n",
            "       [0.94188744, 0.05811254],\n",
            "       [0.94188744, 0.05811254],\n",
            "       [0.94188744, 0.05811254],\n",
            "       [0.94188744, 0.05811254],\n",
            "       [0.94188744, 0.05811254],\n",
            "       [0.94188744, 0.05811254],\n",
            "       [0.94188744, 0.05811254],\n",
            "       [0.9418645 , 0.05813549],\n",
            "       [0.9418675 , 0.05813248],\n",
            "       [0.9418657 , 0.05813428],\n",
            "       [0.941866  , 0.05813405],\n",
            "       [0.9418645 , 0.05813549],\n",
            "       [0.94186825, 0.05813174],\n",
            "       [0.94188744, 0.05811254],\n",
            "       [0.94186866, 0.05813135],\n",
            "       [0.9418664 , 0.05813356],\n",
            "       [0.94186896, 0.05813102],\n",
            "       [0.94186157, 0.05813849],\n",
            "       [0.94188744, 0.05811254],\n",
            "       [0.94188744, 0.05811254],\n",
            "       [0.94188744, 0.05811254],\n",
            "       [0.94188744, 0.05811254]], dtype=float32)]\n"
          ],
          "name": "stdout"
        }
      ]
    },
    {
      "cell_type": "code",
      "metadata": {
        "id": "OETwhUTWGcbs",
        "colab": {
          "base_uri": "https://localhost:8080/"
        },
        "outputId": "3225f26d-7923-499b-c3fc-6524fa382b89"
      },
      "source": [
        "pred_test = [[],[],[],[],[]]\n",
        "\n",
        "for col in range(0,len(predicted)):\n",
        "    for row in predicted[col]:\n",
        "        if row[0] >= row[1]:\n",
        "            pred_test[col].append(0)\n",
        "        else:\n",
        "            pred_test[col].append(1)\n",
        "            \n",
        "for col in range(0,len(predicted)):\n",
        "    print(pd.value_counts(pred_test[col]))"
      ],
      "execution_count": 41,
      "outputs": [
        {
          "output_type": "stream",
          "text": [
            "0    252\n",
            "dtype: int64\n",
            "0    252\n",
            "dtype: int64\n",
            "0    252\n",
            "dtype: int64\n",
            "0    252\n",
            "dtype: int64\n",
            "0    252\n",
            "dtype: int64\n"
          ],
          "name": "stdout"
        }
      ]
    }
  ]
}